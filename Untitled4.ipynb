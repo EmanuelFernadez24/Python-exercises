{
 "cells": [
  {
   "cell_type": "markdown",
   "id": "4d61d48c",
   "metadata": {},
   "source": [
    "#  2.6 Operadores arimeticos "
   ]
  },
  {
   "cell_type": "markdown",
   "id": "0e3f64d0",
   "metadata": {},
   "source": [
    "### Los operadores arimeticos sirven principalmente para los tipos de datos numericos, si bien tienen algunas utilidades con otros tipos de datos como listas o cadenas de caracteres"
   ]
  },
  {
   "cell_type": "markdown",
   "id": "0e608e81",
   "metadata": {},
   "source": [
    "## A) Adicion \n"
   ]
  },
  {
   "cell_type": "markdown",
   "id": "385f266d",
   "metadata": {},
   "source": [
    "#### Tambien sirve para cadenas de caracteres, tuplas y listas. Sigue la forma (a+b)"
   ]
  },
  {
   "cell_type": "code",
   "execution_count": 1,
   "id": "022b118d",
   "metadata": {},
   "outputs": [
    {
     "data": {
      "text/plain": [
       "38.5"
      ]
     },
     "execution_count": 1,
     "metadata": {},
     "output_type": "execute_result"
    }
   ],
   "source": [
    "8+30.5"
   ]
  },
  {
   "cell_type": "code",
   "execution_count": 2,
   "id": "73ce2e67",
   "metadata": {},
   "outputs": [
    {
     "data": {
      "text/plain": [
       "'Hola¿Como estan?'"
      ]
     },
     "execution_count": 2,
     "metadata": {},
     "output_type": "execute_result"
    }
   ],
   "source": [
    "'Hola'+'¿Como estan?'"
   ]
  },
  {
   "cell_type": "code",
   "execution_count": 3,
   "id": "11d0eecc",
   "metadata": {},
   "outputs": [],
   "source": [
    "# Hay que dejar espacio entre las cadenas de caracteres "
   ]
  },
  {
   "cell_type": "code",
   "execution_count": 4,
   "id": "09cd9537",
   "metadata": {},
   "outputs": [
    {
     "data": {
      "text/plain": [
       "'Hola¿Como estan?'"
      ]
     },
     "execution_count": 4,
     "metadata": {},
     "output_type": "execute_result"
    }
   ],
   "source": [
    "'Hola' + '¿Como estan?'"
   ]
  },
  {
   "cell_type": "code",
   "execution_count": 5,
   "id": "628d480a",
   "metadata": {},
   "outputs": [
    {
     "data": {
      "text/plain": [
       "'Hola  ¿Como estan?'"
      ]
     },
     "execution_count": 5,
     "metadata": {},
     "output_type": "execute_result"
    }
   ],
   "source": [
    "'Hola ' + ' ¿Como estan?' "
   ]
  },
  {
   "cell_type": "code",
   "execution_count": 6,
   "id": "9835a2c1",
   "metadata": {},
   "outputs": [],
   "source": [
    "## Para concatenar dos cadenas de caracteres  lo que hacemos es sumarlas pero para que tengan los espacios necesarios se deja un espacio al principio o al final de la cadena \n"
   ]
  },
  {
   "cell_type": "markdown",
   "id": "013c8ef2",
   "metadata": {},
   "source": [
    "# Sustraccion \n"
   ]
  },
  {
   "cell_type": "code",
   "execution_count": 7,
   "id": "362a603f",
   "metadata": {},
   "outputs": [],
   "source": [
    "## Solo datos numericos "
   ]
  },
  {
   "cell_type": "code",
   "execution_count": 8,
   "id": "21c3b3f9",
   "metadata": {},
   "outputs": [
    {
     "data": {
      "text/plain": [
       "10.5"
      ]
     },
     "execution_count": 8,
     "metadata": {},
     "output_type": "execute_result"
    }
   ],
   "source": [
    "30-19.5"
   ]
  },
  {
   "cell_type": "markdown",
   "id": "cf0859f7",
   "metadata": {},
   "source": [
    "# Multiplicacion \n"
   ]
  },
  {
   "cell_type": "code",
   "execution_count": 9,
   "id": "6ce933f0",
   "metadata": {},
   "outputs": [],
   "source": [
    "# Tambien sirve para tuplas, cadenas de caracteres y diccionarios"
   ]
  },
  {
   "cell_type": "code",
   "execution_count": 10,
   "id": "44193bbd",
   "metadata": {},
   "outputs": [
    {
     "data": {
      "text/plain": [
       "9.0"
      ]
     },
     "execution_count": 10,
     "metadata": {},
     "output_type": "execute_result"
    }
   ],
   "source": [
    "2.5 * 3.6"
   ]
  },
  {
   "cell_type": "code",
   "execution_count": 15,
   "id": "cc5fc981",
   "metadata": {},
   "outputs": [
    {
     "data": {
      "text/plain": [
       "'turutututurutututurututu'"
      ]
     },
     "execution_count": 15,
     "metadata": {},
     "output_type": "execute_result"
    }
   ],
   "source": [
    "\"turututu\"*3"
   ]
  },
  {
   "cell_type": "code",
   "execution_count": null,
   "id": "f849a4c9",
   "metadata": {},
   "outputs": [],
   "source": [
    "# Que es equivalente a multiplicar la cadena tres veces "
   ]
  },
  {
   "cell_type": "code",
   "execution_count": 16,
   "id": "0b5e5f63",
   "metadata": {},
   "outputs": [
    {
     "data": {
      "text/plain": [
       "'turututu*6'"
      ]
     },
     "execution_count": 16,
     "metadata": {},
     "output_type": "execute_result"
    }
   ],
   "source": [
    "\"turututu*6\""
   ]
  },
  {
   "cell_type": "markdown",
   "id": "04e95b2f",
   "metadata": {},
   "source": [
    "# Division "
   ]
  },
  {
   "cell_type": "code",
   "execution_count": 17,
   "id": "f333b1cf",
   "metadata": {},
   "outputs": [],
   "source": [
    "# Sigue la forma (a/b)"
   ]
  },
  {
   "cell_type": "code",
   "execution_count": 18,
   "id": "f86d9322",
   "metadata": {},
   "outputs": [
    {
     "data": {
      "text/plain": [
       "2.0"
      ]
     },
     "execution_count": 18,
     "metadata": {},
     "output_type": "execute_result"
    }
   ],
   "source": [
    "10/5"
   ]
  },
  {
   "cell_type": "markdown",
   "id": "3b07bb4c",
   "metadata": {},
   "source": [
    "# Division entera truncada"
   ]
  },
  {
   "cell_type": "code",
   "execution_count": 19,
   "id": "713e8150",
   "metadata": {},
   "outputs": [],
   "source": [
    "## Nos da como resultado un valor de tipo entero. Trunca(Redondea hacia abajo) los valores decimales. Sigue la forma (a//b)"
   ]
  },
  {
   "cell_type": "code",
   "execution_count": 20,
   "id": "c7a0d51e",
   "metadata": {},
   "outputs": [
    {
     "data": {
      "text/plain": [
       "2"
      ]
     },
     "execution_count": 20,
     "metadata": {},
     "output_type": "execute_result"
    }
   ],
   "source": [
    "10//5"
   ]
  },
  {
   "cell_type": "code",
   "execution_count": 21,
   "id": "5ef33373",
   "metadata": {},
   "outputs": [
    {
     "data": {
      "text/plain": [
       "1"
      ]
     },
     "execution_count": 21,
     "metadata": {},
     "output_type": "execute_result"
    }
   ],
   "source": [
    "10//8"
   ]
  },
  {
   "cell_type": "code",
   "execution_count": 22,
   "id": "e6dad5b7",
   "metadata": {},
   "outputs": [
    {
     "data": {
      "text/plain": [
       "1.25"
      ]
     },
     "execution_count": 22,
     "metadata": {},
     "output_type": "execute_result"
    }
   ],
   "source": [
    "10/8"
   ]
  },
  {
   "cell_type": "markdown",
   "id": "46461e35",
   "metadata": {},
   "source": [
    "# Modulo o residuo de la division:"
   ]
  },
  {
   "cell_type": "code",
   "execution_count": 23,
   "id": "fe7aebfc",
   "metadata": {},
   "outputs": [],
   "source": [
    "# Sigue la forma (a%b)"
   ]
  },
  {
   "cell_type": "code",
   "execution_count": null,
   "id": "bea4d137",
   "metadata": {},
   "outputs": [],
   "source": []
  },
  {
   "cell_type": "code",
   "execution_count": 24,
   "id": "a58b87d9",
   "metadata": {},
   "outputs": [
    {
     "name": "stdout",
     "output_type": "stream",
     "text": [
      "2\n"
     ]
    }
   ],
   "source": [
    "print(10%8)"
   ]
  },
  {
   "cell_type": "code",
   "execution_count": 25,
   "id": "5d05a177",
   "metadata": {},
   "outputs": [
    {
     "data": {
      "text/plain": [
       "1"
      ]
     },
     "execution_count": 25,
     "metadata": {},
     "output_type": "execute_result"
    }
   ],
   "source": [
    "3%2"
   ]
  },
  {
   "cell_type": "code",
   "execution_count": 26,
   "id": "12957e3e",
   "metadata": {},
   "outputs": [
    {
     "data": {
      "text/plain": [
       "1"
      ]
     },
     "execution_count": 26,
     "metadata": {},
     "output_type": "execute_result"
    }
   ],
   "source": [
    "15%7"
   ]
  },
  {
   "cell_type": "markdown",
   "id": "6ae736bc",
   "metadata": {},
   "source": [
    "# Exponenciacion"
   ]
  },
  {
   "cell_type": "code",
   "execution_count": 27,
   "id": "509f39ff",
   "metadata": {},
   "outputs": [
    {
     "data": {
      "text/plain": [
       "16"
      ]
     },
     "execution_count": 27,
     "metadata": {},
     "output_type": "execute_result"
    }
   ],
   "source": [
    "2**4"
   ]
  },
  {
   "cell_type": "code",
   "execution_count": 28,
   "id": "53c102fb",
   "metadata": {},
   "outputs": [
    {
     "data": {
      "text/plain": [
       "312500000"
      ]
     },
     "execution_count": 28,
     "metadata": {},
     "output_type": "execute_result"
    }
   ],
   "source": [
    "50**5"
   ]
  },
  {
   "cell_type": "markdown",
   "id": "7fa7ee51",
   "metadata": {},
   "source": [
    "# LOS OPERADORES DE ASIGNACION  "
   ]
  },
  {
   "cell_type": "code",
   "execution_count": 29,
   "id": "b1960af6",
   "metadata": {},
   "outputs": [],
   "source": [
    "# Los operadores de asignacion nos facilitan escribir el codigo "
   ]
  },
  {
   "cell_type": "code",
   "execution_count": 30,
   "id": "f252fa0b",
   "metadata": {},
   "outputs": [],
   "source": [
    "# Estos son lo siguientes"
   ]
  },
  {
   "cell_type": "code",
   "execution_count": 32,
   "id": "08da2e9b",
   "metadata": {},
   "outputs": [],
   "source": [
    "## [=; -=; +=; /=; *=; //= ; **=]"
   ]
  },
  {
   "cell_type": "code",
   "execution_count": 33,
   "id": "bca56f49",
   "metadata": {},
   "outputs": [],
   "source": [
    "edad =10 \n"
   ]
  },
  {
   "cell_type": "code",
   "execution_count": 34,
   "id": "1a90d1f9",
   "metadata": {},
   "outputs": [
    {
     "name": "stdout",
     "output_type": "stream",
     "text": [
      "10\n"
     ]
    }
   ],
   "source": [
    "print(edad)"
   ]
  },
  {
   "cell_type": "code",
   "execution_count": 35,
   "id": "1e4b8833",
   "metadata": {},
   "outputs": [],
   "source": [
    "edad = edad - 3"
   ]
  },
  {
   "cell_type": "code",
   "execution_count": 36,
   "id": "440587a4",
   "metadata": {},
   "outputs": [
    {
     "name": "stdout",
     "output_type": "stream",
     "text": [
      "7\n"
     ]
    }
   ],
   "source": [
    "print (edad)"
   ]
  },
  {
   "cell_type": "code",
   "execution_count": 37,
   "id": "732a23f6",
   "metadata": {},
   "outputs": [],
   "source": [
    "## Nos permiten resumir este codigo con una sola linea"
   ]
  },
  {
   "cell_type": "code",
   "execution_count": 38,
   "id": "83c9a159",
   "metadata": {},
   "outputs": [
    {
     "name": "stdout",
     "output_type": "stream",
     "text": [
      "10\n"
     ]
    }
   ],
   "source": [
    "edad =10 \n",
    "print(edad)"
   ]
  },
  {
   "cell_type": "code",
   "execution_count": 41,
   "id": "b97d2e67",
   "metadata": {},
   "outputs": [],
   "source": [
    "edad -= 3"
   ]
  },
  {
   "cell_type": "code",
   "execution_count": 42,
   "id": "b093d333",
   "metadata": {},
   "outputs": [
    {
     "name": "stdout",
     "output_type": "stream",
     "text": [
      "1\n"
     ]
    }
   ],
   "source": [
    "print(edad)"
   ]
  },
  {
   "cell_type": "code",
   "execution_count": 43,
   "id": "a8cebc17",
   "metadata": {},
   "outputs": [],
   "source": [
    "edad +=50"
   ]
  },
  {
   "cell_type": "code",
   "execution_count": 44,
   "id": "d07bed02",
   "metadata": {},
   "outputs": [
    {
     "name": "stdout",
     "output_type": "stream",
     "text": [
      "51\n"
     ]
    }
   ],
   "source": [
    "print(edad)"
   ]
  },
  {
   "cell_type": "code",
   "execution_count": 45,
   "id": "1e80f224",
   "metadata": {},
   "outputs": [],
   "source": [
    "edad /= 20"
   ]
  },
  {
   "cell_type": "code",
   "execution_count": 46,
   "id": "67ce0e4a",
   "metadata": {},
   "outputs": [
    {
     "name": "stdout",
     "output_type": "stream",
     "text": [
      "2.55\n"
     ]
    }
   ],
   "source": [
    "print (edad)"
   ]
  },
  {
   "cell_type": "code",
   "execution_count": 47,
   "id": "14374370",
   "metadata": {},
   "outputs": [],
   "source": [
    "edad //= 2"
   ]
  },
  {
   "cell_type": "code",
   "execution_count": null,
   "id": "67e8ba59",
   "metadata": {},
   "outputs": [],
   "source": []
  }
 ],
 "metadata": {
  "kernelspec": {
   "display_name": "Python 3",
   "language": "python",
   "name": "python3"
  },
  "language_info": {
   "codemirror_mode": {
    "name": "ipython",
    "version": 3
   },
   "file_extension": ".py",
   "mimetype": "text/x-python",
   "name": "python",
   "nbconvert_exporter": "python",
   "pygments_lexer": "ipython3",
   "version": "3.8.8"
  }
 },
 "nbformat": 4,
 "nbformat_minor": 5
}
