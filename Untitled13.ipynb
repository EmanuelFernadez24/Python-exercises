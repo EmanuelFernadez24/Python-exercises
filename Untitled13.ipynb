{
 "cells": [
  {
   "cell_type": "markdown",
   "id": "a898bf8f",
   "metadata": {},
   "source": [
    "# 3.3 TUPLAS\n"
   ]
  },
  {
   "cell_type": "markdown",
   "id": "e2c26349",
   "metadata": {},
   "source": [
    "### Una tupla es una secuencia de valores ( muy parecida a una lista). Los valores almacenados en una tupla pueden ser de cualquier tipo, y tambien estan indexados \n",
    "\n",
    "### Se diferencian de la listas en que:\n",
    "     . No podemos modificar sus valores luego de crearla (\"Es inmutable\")\n",
    "     . Definimos sus valores entre parentesis, en vez de entre corchetes"
   ]
  },
  {
   "cell_type": "code",
   "execution_count": 15,
   "id": "bbb32e4c",
   "metadata": {},
   "outputs": [],
   "source": [
    "tupla = ('Lunes', 'Martes', 'Miercoles')\n",
    "tupla_multi= ([1,2,3], \"a\", 71.4,tupla)"
   ]
  },
  {
   "cell_type": "code",
   "execution_count": 16,
   "id": "c155e131",
   "metadata": {},
   "outputs": [
    {
     "data": {
      "text/plain": [
       "('Lunes', 'Martes', 'Miercoles')"
      ]
     },
     "execution_count": 16,
     "metadata": {},
     "output_type": "execute_result"
    }
   ],
   "source": [
    "tupla\n"
   ]
  },
  {
   "cell_type": "code",
   "execution_count": 17,
   "id": "8d250b8c",
   "metadata": {},
   "outputs": [
    {
     "data": {
      "text/plain": [
       "([1, 2, 3], 'a', 71.4, ('Lunes', 'Martes', 'Miercoles'))"
      ]
     },
     "execution_count": 17,
     "metadata": {},
     "output_type": "execute_result"
    }
   ],
   "source": [
    "tupla_multi"
   ]
  },
  {
   "cell_type": "code",
   "execution_count": 18,
   "id": "90cd03d1",
   "metadata": {},
   "outputs": [
    {
     "data": {
      "text/plain": [
       "'a'"
      ]
     },
     "execution_count": 18,
     "metadata": {},
     "output_type": "execute_result"
    }
   ],
   "source": [
    "tupla_multi[-3]\n"
   ]
  },
  {
   "cell_type": "markdown",
   "id": "eacb68e1",
   "metadata": {},
   "source": [
    "No podemos agregarle nada o modificarle un valor"
   ]
  },
  {
   "cell_type": "code",
   "execution_count": 19,
   "id": "e55565f7",
   "metadata": {},
   "outputs": [
    {
     "ename": "TypeError",
     "evalue": "'tuple' object does not support item assignment",
     "output_type": "error",
     "traceback": [
      "\u001b[1;31m---------------------------------------------------------------------------\u001b[0m",
      "\u001b[1;31mTypeError\u001b[0m                                 Traceback (most recent call last)",
      "\u001b[1;32m<ipython-input-19-9f328511d7bf>\u001b[0m in \u001b[0;36m<module>\u001b[1;34m\u001b[0m\n\u001b[1;32m----> 1\u001b[1;33m \u001b[0mtupla_multi\u001b[0m\u001b[1;33m[\u001b[0m\u001b[1;36m0\u001b[0m\u001b[1;33m]\u001b[0m\u001b[1;33m=\u001b[0m \u001b[1;36m4\u001b[0m\u001b[1;33m\u001b[0m\u001b[1;33m\u001b[0m\u001b[0m\n\u001b[0m",
      "\u001b[1;31mTypeError\u001b[0m: 'tuple' object does not support item assignment"
     ]
    }
   ],
   "source": [
    "tupla_multi[0]= 4"
   ]
  },
  {
   "cell_type": "markdown",
   "id": "a24ef2a4",
   "metadata": {},
   "source": [
    "Si queremos convertirla a lista usamos la funcion list()"
   ]
  },
  {
   "cell_type": "code",
   "execution_count": 31,
   "id": "152575a2",
   "metadata": {},
   "outputs": [
    {
     "data": {
      "text/plain": [
       "['Lunes', 'Martes', 'Miercoles']"
      ]
     },
     "execution_count": 31,
     "metadata": {},
     "output_type": "execute_result"
    }
   ],
   "source": [
    "lista=list(tupla)\n",
    "lista"
   ]
  },
  {
   "cell_type": "code",
   "execution_count": 34,
   "id": "2ff79848",
   "metadata": {},
   "outputs": [
    {
     "data": {
      "text/plain": [
       "['Domingo', 'Martes', 'Miercoles']"
      ]
     },
     "execution_count": 34,
     "metadata": {},
     "output_type": "execute_result"
    }
   ],
   "source": [
    "lista[0]= 'Domingo'\n",
    "lista"
   ]
  },
  {
   "cell_type": "markdown",
   "id": "8294ff30",
   "metadata": {},
   "source": [
    "## Metodos"
   ]
  },
  {
   "cell_type": "code",
   "execution_count": 36,
   "id": "c8fa11f4",
   "metadata": {},
   "outputs": [
    {
     "data": {
      "text/plain": [
       "1"
      ]
     },
     "execution_count": 36,
     "metadata": {},
     "output_type": "execute_result"
    }
   ],
   "source": [
    "tupla.index('Martes')"
   ]
  },
  {
   "cell_type": "code",
   "execution_count": 37,
   "id": "79ddae08",
   "metadata": {},
   "outputs": [
    {
     "ename": "ValueError",
     "evalue": "tuple.index(x): x not in tuple",
     "output_type": "error",
     "traceback": [
      "\u001b[1;31m---------------------------------------------------------------------------\u001b[0m",
      "\u001b[1;31mValueError\u001b[0m                                Traceback (most recent call last)",
      "\u001b[1;32m<ipython-input-37-37f4d3de42e9>\u001b[0m in \u001b[0;36m<module>\u001b[1;34m\u001b[0m\n\u001b[1;32m----> 1\u001b[1;33m \u001b[0mtupla\u001b[0m\u001b[1;33m.\u001b[0m\u001b[0mindex\u001b[0m\u001b[1;33m(\u001b[0m\u001b[1;34m'Viernes'\u001b[0m\u001b[1;33m)\u001b[0m\u001b[1;33m\u001b[0m\u001b[1;33m\u001b[0m\u001b[0m\n\u001b[0m",
      "\u001b[1;31mValueError\u001b[0m: tuple.index(x): x not in tuple"
     ]
    }
   ],
   "source": [
    "tupla.index('Viernes')"
   ]
  },
  {
   "cell_type": "code",
   "execution_count": 38,
   "id": "2314e0b9",
   "metadata": {},
   "outputs": [
    {
     "data": {
      "text/plain": [
       "1"
      ]
     },
     "execution_count": 38,
     "metadata": {},
     "output_type": "execute_result"
    }
   ],
   "source": [
    "tupla_multi.count(71.4)"
   ]
  },
  {
   "cell_type": "markdown",
   "id": "01df5716",
   "metadata": {},
   "source": [
    "Con la funcion count() le pedimos que nos diga cuantas veces aparece un valor "
   ]
  },
  {
   "cell_type": "code",
   "execution_count": null,
   "id": "eacf0e6d",
   "metadata": {},
   "outputs": [],
   "source": []
  }
 ],
 "metadata": {
  "kernelspec": {
   "display_name": "Python 3",
   "language": "python",
   "name": "python3"
  },
  "language_info": {
   "codemirror_mode": {
    "name": "ipython",
    "version": 3
   },
   "file_extension": ".py",
   "mimetype": "text/x-python",
   "name": "python",
   "nbconvert_exporter": "python",
   "pygments_lexer": "ipython3",
   "version": "3.8.8"
  }
 },
 "nbformat": 4,
 "nbformat_minor": 5
}
