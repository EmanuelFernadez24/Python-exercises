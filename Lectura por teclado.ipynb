{
 "cells": [
  {
   "cell_type": "markdown",
   "id": "8d7bfe8a",
   "metadata": {},
   "source": [
    "# 2.8 Lectura por Teclado "
   ]
  },
  {
   "cell_type": "code",
   "execution_count": 1,
   "id": "fe73101d",
   "metadata": {},
   "outputs": [],
   "source": [
    "## La funcion input() permite almacenar un valor ingresado con el teclado en una variable"
   ]
  },
  {
   "cell_type": "code",
   "execution_count": 2,
   "id": "25c685de",
   "metadata": {},
   "outputs": [
    {
     "name": "stdout",
     "output_type": "stream",
     "text": [
      "Emanuel Fernandez 40561366\n"
     ]
    }
   ],
   "source": [
    "valor=input()"
   ]
  },
  {
   "cell_type": "code",
   "execution_count": 3,
   "id": "ef6af5d2",
   "metadata": {},
   "outputs": [
    {
     "data": {
      "text/plain": [
       "'Emanuel Fernandez 40561366'"
      ]
     },
     "execution_count": 3,
     "metadata": {},
     "output_type": "execute_result"
    }
   ],
   "source": [
    "valor "
   ]
  },
  {
   "cell_type": "code",
   "execution_count": 4,
   "id": "7cacc1ae",
   "metadata": {},
   "outputs": [
    {
     "name": "stdout",
     "output_type": "stream",
     "text": [
      "Emanuel Fernandez 40561366\n"
     ]
    }
   ],
   "source": [
    "print(valor)"
   ]
  },
  {
   "cell_type": "markdown",
   "id": "21d66ea3",
   "metadata": {},
   "source": [
    "### La funcion input() almacena todo como una varible str. Pero se puede modificar este tipo"
   ]
  },
  {
   "cell_type": "code",
   "execution_count": 5,
   "id": "5778f119",
   "metadata": {},
   "outputs": [
    {
     "data": {
      "text/plain": [
       "str"
      ]
     },
     "execution_count": 5,
     "metadata": {},
     "output_type": "execute_result"
    }
   ],
   "source": [
    "type(valor)"
   ]
  },
  {
   "cell_type": "code",
   "execution_count": 6,
   "id": "4a9bc30f",
   "metadata": {},
   "outputs": [
    {
     "name": "stdout",
     "output_type": "stream",
     "text": [
      "Introduce un numero:24.56\n"
     ]
    }
   ],
   "source": [
    "valor_num = float(input('Introduce un numero:'))"
   ]
  },
  {
   "cell_type": "code",
   "execution_count": 7,
   "id": "c1186def",
   "metadata": {},
   "outputs": [
    {
     "data": {
      "text/plain": [
       "24.56"
      ]
     },
     "execution_count": 7,
     "metadata": {},
     "output_type": "execute_result"
    }
   ],
   "source": [
    "valor_num"
   ]
  },
  {
   "cell_type": "code",
   "execution_count": 8,
   "id": "ca366225",
   "metadata": {},
   "outputs": [
    {
     "data": {
      "text/plain": [
       "str"
      ]
     },
     "execution_count": 8,
     "metadata": {},
     "output_type": "execute_result"
    }
   ],
   "source": [
    "type(valor)"
   ]
  },
  {
   "cell_type": "code",
   "execution_count": 9,
   "id": "f97d3ca2",
   "metadata": {},
   "outputs": [
    {
     "data": {
      "text/plain": [
       "float"
      ]
     },
     "execution_count": 9,
     "metadata": {},
     "output_type": "execute_result"
    }
   ],
   "source": [
    "type(valor_num)"
   ]
  },
  {
   "cell_type": "code",
   "execution_count": 12,
   "id": "555780a7",
   "metadata": {},
   "outputs": [
    {
     "name": "stdout",
     "output_type": "stream",
     "text": [
      "Ingresa tu edad:24\n"
     ]
    }
   ],
   "source": [
    "edad= int(input('Ingresa tu edad:'))"
   ]
  },
  {
   "cell_type": "code",
   "execution_count": null,
   "id": "1b0eb8d3",
   "metadata": {},
   "outputs": [],
   "source": []
  },
  {
   "cell_type": "code",
   "execution_count": 13,
   "id": "5e764679",
   "metadata": {},
   "outputs": [
    {
     "data": {
      "text/plain": [
       "24"
      ]
     },
     "execution_count": 13,
     "metadata": {},
     "output_type": "execute_result"
    }
   ],
   "source": [
    "edad"
   ]
  },
  {
   "cell_type": "code",
   "execution_count": 14,
   "id": "45b8ecea",
   "metadata": {},
   "outputs": [
    {
     "name": "stdout",
     "output_type": "stream",
     "text": [
      "24\n"
     ]
    }
   ],
   "source": [
    "print(edad)\n"
   ]
  },
  {
   "cell_type": "code",
   "execution_count": 15,
   "id": "45ab9578",
   "metadata": {},
   "outputs": [],
   "source": [
    "# De esta forma con int() lo que le ingresemos a nuestra variable es convertido a entero y con la funcion input es almacenado "
   ]
  },
  {
   "cell_type": "code",
   "execution_count": 16,
   "id": "656aa220",
   "metadata": {},
   "outputs": [
    {
     "name": "stdout",
     "output_type": "stream",
     "text": [
      "24 <class 'int'>\n"
     ]
    }
   ],
   "source": [
    "print(edad,type(edad))"
   ]
  },
  {
   "cell_type": "code",
   "execution_count": null,
   "id": "dbb0d4a1",
   "metadata": {},
   "outputs": [],
   "source": []
  }
 ],
 "metadata": {
  "kernelspec": {
   "display_name": "Python 3",
   "language": "python",
   "name": "python3"
  },
  "language_info": {
   "codemirror_mode": {
    "name": "ipython",
    "version": 3
   },
   "file_extension": ".py",
   "mimetype": "text/x-python",
   "name": "python",
   "nbconvert_exporter": "python",
   "pygments_lexer": "ipython3",
   "version": "3.8.8"
  }
 },
 "nbformat": 4,
 "nbformat_minor": 5
}
