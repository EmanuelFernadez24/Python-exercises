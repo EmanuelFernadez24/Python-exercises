{
 "cells": [
  {
   "cell_type": "markdown",
   "id": "6143b6ea",
   "metadata": {},
   "source": [
    "# 3.4 CONJUNTOS "
   ]
  },
  {
   "cell_type": "markdown",
   "id": "f27c9054",
   "metadata": {},
   "source": [
    "## Los conjuntos son colecciones de datos que nos facilitan ciertas operaciones ya que solo contienen valores unicos \n",
    "\n",
    "### Se diferencian de las tuplas y listas en que \n",
    "        . Cada elemento dentro del conjunto es único\n",
    "        . Sus elementos no estan ordenados \n",
    "        "
   ]
  },
  {
   "cell_type": "code",
   "execution_count": 1,
   "id": "2de857a8",
   "metadata": {},
   "outputs": [],
   "source": [
    "conjunto_vacio = set()\n",
    "conjunto={1,2,3}\n"
   ]
  },
  {
   "cell_type": "code",
   "execution_count": 2,
   "id": "3113b6e7",
   "metadata": {},
   "outputs": [
    {
     "name": "stdout",
     "output_type": "stream",
     "text": [
      "<class 'set'> {1, 2, 3}\n"
     ]
    }
   ],
   "source": [
    "print(type(conjunto_vacio),conjunto)"
   ]
  },
  {
   "cell_type": "markdown",
   "id": "b2cf7c15",
   "metadata": {},
   "source": [
    "## Metodo"
   ]
  },
  {
   "cell_type": "markdown",
   "id": "79b27410",
   "metadata": {},
   "source": [
    "El metodo add()nos permite agregar elementos al conjunto "
   ]
  },
  {
   "cell_type": "code",
   "execution_count": 3,
   "id": "d1d42890",
   "metadata": {},
   "outputs": [
    {
     "data": {
      "text/plain": [
       "{1, 2, 3, 4, 5, 6, 7, 'A', 'C', 'E', 'P'}"
      ]
     },
     "execution_count": 3,
     "metadata": {},
     "output_type": "execute_result"
    }
   ],
   "source": [
    "conjunto.add(4)\n",
    "conjunto.add(5)\n",
    "conjunto.add(6)\n",
    "conjunto.add(7)\n",
    "conjunto.add(\"C\")\n",
    "conjunto.add(\"A\")\n",
    "conjunto.add(\"P\")\n",
    "conjunto.add(\"E\")\n",
    "conjunto \n"
   ]
  },
  {
   "cell_type": "markdown",
   "id": "ef333f60",
   "metadata": {},
   "source": [
    "No podemos añadir elementos que estan repetidos en los conjuntos porque sus elementos son unicos e irrepetibles"
   ]
  },
  {
   "cell_type": "code",
   "execution_count": 4,
   "id": "f4d5d8c7",
   "metadata": {},
   "outputs": [],
   "source": [
    "conjunto.add(\"C\")\n",
    "conjunto.add(\"A\")"
   ]
  },
  {
   "cell_type": "code",
   "execution_count": 5,
   "id": "913f65ba",
   "metadata": {},
   "outputs": [
    {
     "name": "stdout",
     "output_type": "stream",
     "text": [
      "{1, 2, 3, 4, 5, 6, 7, 'C', 'A', 'P', 'E'}\n"
     ]
    }
   ],
   "source": [
    "print(conjunto)"
   ]
  },
  {
   "cell_type": "markdown",
   "id": "29327f22",
   "metadata": {},
   "source": [
    "### Podemos utilizar los conjuntos para verificar la pertenencia "
   ]
  },
  {
   "cell_type": "code",
   "execution_count": 8,
   "id": "6c5cdd95",
   "metadata": {},
   "outputs": [],
   "source": [
    "grupo={\"Luis\", \"Guille\", \"Victor\", \"Esteban\",\"Emanuel\"}"
   ]
  },
  {
   "cell_type": "code",
   "execution_count": 9,
   "id": "e2a8991f",
   "metadata": {},
   "outputs": [
    {
     "data": {
      "text/plain": [
       "{'Emanuel', 'Esteban', 'Guille', 'Luis', 'Victor'}"
      ]
     },
     "execution_count": 9,
     "metadata": {},
     "output_type": "execute_result"
    }
   ],
   "source": [
    "grupo"
   ]
  },
  {
   "cell_type": "code",
   "execution_count": 12,
   "id": "90a18858",
   "metadata": {},
   "outputs": [
    {
     "data": {
      "text/plain": [
       "True"
      ]
     },
     "execution_count": 12,
     "metadata": {},
     "output_type": "execute_result"
    }
   ],
   "source": [
    "\"Emanuel\" in grupo"
   ]
  },
  {
   "cell_type": "code",
   "execution_count": 13,
   "id": "d8bff6d3",
   "metadata": {},
   "outputs": [
    {
     "data": {
      "text/plain": [
       "True"
      ]
     },
     "execution_count": 13,
     "metadata": {},
     "output_type": "execute_result"
    }
   ],
   "source": [
    "\"Guille\" in grupo"
   ]
  },
  {
   "cell_type": "code",
   "execution_count": null,
   "id": "21eec168",
   "metadata": {},
   "outputs": [],
   "source": []
  },
  {
   "cell_type": "code",
   "execution_count": 15,
   "id": "1e875b48",
   "metadata": {},
   "outputs": [
    {
     "data": {
      "text/plain": [
       "True"
      ]
     },
     "execution_count": 15,
     "metadata": {},
     "output_type": "execute_result"
    }
   ],
   "source": [
    "\"Fernanda\" not in grupo"
   ]
  },
  {
   "cell_type": "code",
   "execution_count": 16,
   "id": "b7db880c",
   "metadata": {},
   "outputs": [
    {
     "data": {
      "text/plain": [
       "False"
      ]
     },
     "execution_count": 16,
     "metadata": {},
     "output_type": "execute_result"
    }
   ],
   "source": [
    "\"Emanuel\" not in grupo"
   ]
  },
  {
   "cell_type": "markdown",
   "id": "deaa0f94",
   "metadata": {},
   "source": [
    "Un conjunto elimina los elementos duplicados "
   ]
  },
  {
   "cell_type": "code",
   "execution_count": 17,
   "id": "8c66a133",
   "metadata": {},
   "outputs": [],
   "source": [
    "grupo_carros = {\"Toyota\", \"Toyota\", \"Ford\", \"Renault\", \"Renault\"}"
   ]
  },
  {
   "cell_type": "code",
   "execution_count": 18,
   "id": "ba01d1a8",
   "metadata": {},
   "outputs": [
    {
     "data": {
      "text/plain": [
       "{'Ford', 'Renault', 'Toyota'}"
      ]
     },
     "execution_count": 18,
     "metadata": {},
     "output_type": "execute_result"
    }
   ],
   "source": [
    "grupo_carros"
   ]
  },
  {
   "cell_type": "markdown",
   "id": "8140f302",
   "metadata": {},
   "source": [
    "Gracias a esta propiedad es que podemos convertir una lista en un conjunto para eliminar duplicados facilmente "
   ]
  },
  {
   "cell_type": "code",
   "execution_count": 24,
   "id": "af9c6b41",
   "metadata": {},
   "outputs": [
    {
     "name": "stdout",
     "output_type": "stream",
     "text": [
      "[1, 1, 1, 1, 1, 2, 2, 2, 2, 3, 3, 3, 3, 44, 44, 4, 4, 4, 4, 4, 4, 4, 5, 55, 5, 5, 5, 5, 5, 5]\n"
     ]
    }
   ],
   "source": [
    "extra=[1,1,1,1,1,2,2,2,2,3,3,3,3,44,44,4,4,4,4,4,4,4,5,55,5,5,5,5,5,5]\n",
    "print(extra)"
   ]
  },
  {
   "cell_type": "code",
   "execution_count": 26,
   "id": "a72e87c8",
   "metadata": {},
   "outputs": [
    {
     "name": "stdout",
     "output_type": "stream",
     "text": [
      "{1, 2, 3, 4, 5, 44, 55}\n"
     ]
    }
   ],
   "source": [
    "c = set(extra)\n",
    "print(c)"
   ]
  },
  {
   "cell_type": "code",
   "execution_count": 27,
   "id": "2c23b840",
   "metadata": {},
   "outputs": [
    {
     "data": {
      "text/plain": [
       "[1, 2, 3, 4, 5, 44, 55]"
      ]
     },
     "execution_count": 27,
     "metadata": {},
     "output_type": "execute_result"
    }
   ],
   "source": [
    "lista=list(c)\n",
    "lista"
   ]
  },
  {
   "cell_type": "markdown",
   "id": "f88ee6de",
   "metadata": {},
   "source": [
    "Este es un metodo ineficiente pero existe uno mas eficiente"
   ]
  },
  {
   "cell_type": "code",
   "execution_count": 28,
   "id": "8a3910e3",
   "metadata": {},
   "outputs": [
    {
     "name": "stdout",
     "output_type": "stream",
     "text": [
      "[1, 2, 3, 4, 5, 44, 55]\n"
     ]
    }
   ],
   "source": [
    "no_duplicados=list(set(extra))\n",
    "print(no_duplicados)"
   ]
  },
  {
   "cell_type": "markdown",
   "id": "c7a48051",
   "metadata": {},
   "source": [
    "Cuando aplicamos la conversion a una cadena, el conjunto  resultante incluye solo letras unicas de esta"
   ]
  },
  {
   "cell_type": "code",
   "execution_count": 30,
   "id": "955f5bfb",
   "metadata": {},
   "outputs": [
    {
     "data": {
      "text/plain": [
       "{'J', 'a', 'c', 'd', 'e', 'f', 'h', 'l', 'm', 'n', 'o', 'p', 'r', 't', 'u'}"
      ]
     },
     "execution_count": 30,
     "metadata": {},
     "output_type": "execute_result"
    }
   ],
   "source": [
    "cadena='Jefechupamelalatenereadentro'\n",
    "set(cadena)"
   ]
  },
  {
   "cell_type": "code",
   "execution_count": null,
   "id": "640d9d07",
   "metadata": {},
   "outputs": [],
   "source": []
  }
 ],
 "metadata": {
  "kernelspec": {
   "display_name": "Python 3",
   "language": "python",
   "name": "python3"
  },
  "language_info": {
   "codemirror_mode": {
    "name": "ipython",
    "version": 3
   },
   "file_extension": ".py",
   "mimetype": "text/x-python",
   "name": "python",
   "nbconvert_exporter": "python",
   "pygments_lexer": "ipython3",
   "version": "3.8.8"
  }
 },
 "nbformat": 4,
 "nbformat_minor": 5
}
