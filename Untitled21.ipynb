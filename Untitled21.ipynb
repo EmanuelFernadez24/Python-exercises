{
 "cells": [
  {
   "cell_type": "markdown",
   "id": "b7e7deda",
   "metadata": {},
   "source": [
    "# 4.2 Bucle For \n",
    "\n",
    "For es un bucle que se repite un número predeterminado de veces.\n",
    "\n",
    "El bucle se reitera tantas veces como elementos tenga el objeto(iterable) que recorre el For.\n",
    "\n",
    "Los objetos iterables pueden ser listas, cadenas de texto,etc."
   ]
  },
  {
   "cell_type": "code",
   "execution_count": 3,
   "id": "8d49ade9",
   "metadata": {},
   "outputs": [
    {
     "name": "stdout",
     "output_type": "stream",
     "text": [
      "1\n",
      "2\n",
      "3\n",
      "4\n",
      "5\n",
      "6\n",
      "7\n",
      "8\n",
      "9\n",
      "10\n"
     ]
    }
   ],
   "source": [
    "numeros=[1,2,3,4,5,6,7,8,9,10]\n",
    "indice = 0\n",
    "\n",
    "while (indice<len(numeros)):\n",
    "    print(numeros[indice])\n",
    "    indice += 1\n",
    "    "
   ]
  },
  {
   "cell_type": "code",
   "execution_count": 4,
   "id": "7855dc8c",
   "metadata": {},
   "outputs": [
    {
     "name": "stdout",
     "output_type": "stream",
     "text": [
      "1\n",
      "2\n",
      "3\n",
      "4\n",
      "5\n",
      "6\n",
      "7\n",
      "8\n",
      "9\n",
      "10\n"
     ]
    }
   ],
   "source": [
    "for i in numeros:\n",
    "    print(i)"
   ]
  },
  {
   "cell_type": "markdown",
   "id": "9428b521",
   "metadata": {},
   "source": [
    "Esto sirve para simplificar un codigo\n"
   ]
  },
  {
   "cell_type": "markdown",
   "id": "e3bf0226",
   "metadata": {},
   "source": [
    "## Ya que las listas son mutables podemos modificar su contenido en un bucle "
   ]
  },
  {
   "cell_type": "code",
   "execution_count": 19,
   "id": "67d395fc",
   "metadata": {},
   "outputs": [
    {
     "name": "stdout",
     "output_type": "stream",
     "text": [
      "[0, 20, 40, 60, 80, 100, 120, 140, 160, 180, 200]\n"
     ]
    }
   ],
   "source": [
    "indice=0\n",
    "numeros=[0,1,2,3,4,5,6,7,8,9,10]\n",
    "\n",
    "for numero in numeros:\n",
    "    numeros[indice] *= 20\n",
    "    indice +=1\n",
    "    \n",
    "print(numeros)"
   ]
  },
  {
   "cell_type": "markdown",
   "id": "5c41bf96",
   "metadata": {},
   "source": [
    "# enumerate()\n",
    "\n",
    "Permite realizar una lectura secuencial del objeto con clave y valor \n",
    "\n",
    "Esta funcion devuelve el elemento y su indice *"
   ]
  },
  {
   "cell_type": "code",
   "execution_count": 23,
   "id": "699e3680",
   "metadata": {},
   "outputs": [
    {
     "data": {
      "text/plain": [
       "[0, 10, 20, 30, 40, 50, 60, 70, 80, 90, 100]"
      ]
     },
     "execution_count": 23,
     "metadata": {},
     "output_type": "execute_result"
    }
   ],
   "source": [
    "numeros=[0,1,2,3,4,5,6,7,8,9,10]\n",
    "\n",
    "for indice,numero in enumerate(numeros):\n",
    "    numeros[indice] *=10\n",
    "    \n",
    "numeros "
   ]
  },
  {
   "cell_type": "markdown",
   "id": "4c26fcdc",
   "metadata": {},
   "source": [
    "Podemos recorrer una cadena de texto"
   ]
  },
  {
   "cell_type": "code",
   "execution_count": 30,
   "id": "9056de5b",
   "metadata": {},
   "outputs": [
    {
     "name": "stdout",
     "output_type": "stream",
     "text": [
      "H\n",
      "o\n",
      "l\n",
      "a\n",
      " \n",
      "c\n",
      "o\n",
      "m\n",
      "o\n",
      " \n",
      "e\n",
      "s\n",
      "t\n",
      "a\n",
      "s\n",
      " \n",
      "E\n",
      "m\n",
      "a\n",
      " \n",
      "?\n"
     ]
    }
   ],
   "source": [
    "cad = \"Hola como estas Ema ?\"\n",
    "\n",
    "for caracteres in cad:\n",
    "    print(caracteres)"
   ]
  },
  {
   "cell_type": "code",
   "execution_count": 39,
   "id": "bd831025",
   "metadata": {},
   "outputs": [
    {
     "name": "stdout",
     "output_type": "stream",
     "text": [
      "Hola como estas Ema? *********************\n"
     ]
    }
   ],
   "source": [
    "cad = \"Hola como estas Ema? \"\n",
    "\n",
    "for caracter in cad:\n",
    "    cad += \"*\"\n",
    "print(cad)"
   ]
  },
  {
   "cell_type": "code",
   "execution_count": 41,
   "id": "27ed2da9",
   "metadata": {},
   "outputs": [
    {
     "name": "stdout",
     "output_type": "stream",
     "text": [
      "Hola como estas Ema? ********************* \n",
      " ******************************************\n"
     ]
    }
   ],
   "source": [
    "cad_2= \"\"\n",
    "\n",
    "for caracter in cad:\n",
    "    cad_2 +=\"*\"\n",
    "\n",
    "print(cad,\"\\n\",cad_2)"
   ]
  },
  {
   "cell_type": "code",
   "execution_count": 45,
   "id": "d243e31f",
   "metadata": {},
   "outputs": [
    {
     "name": "stdout",
     "output_type": "stream",
     "text": [
      "HHHooolllaaa   cccooommmooo   eeessstttaaasss   EEEmmmaaa???   ***************************************************************\n"
     ]
    }
   ],
   "source": [
    "cad_3 = \"\"\n",
    "\n",
    "for caracter in cad:\n",
    "    cad_3 += caracter *3\n",
    "    \n",
    "print(cad_3)"
   ]
  },
  {
   "cell_type": "markdown",
   "id": "57ba7f73",
   "metadata": {},
   "source": [
    "### Protip:\n",
    "range() genera la secuencia de numeros definida por el usuario."
   ]
  },
  {
   "cell_type": "code",
   "execution_count": 46,
   "id": "6db58c1d",
   "metadata": {},
   "outputs": [
    {
     "data": {
      "text/plain": [
       "range(0, 90, 6)"
      ]
     },
     "execution_count": 46,
     "metadata": {},
     "output_type": "execute_result"
    }
   ],
   "source": [
    "range(0,90,6)"
   ]
  },
  {
   "cell_type": "code",
   "execution_count": 49,
   "id": "b2ec3962",
   "metadata": {},
   "outputs": [
    {
     "name": "stdout",
     "output_type": "stream",
     "text": [
      "range(0, 90) <class 'range'>\n"
     ]
    }
   ],
   "source": [
    "print(range(90),type(range(90)))"
   ]
  },
  {
   "cell_type": "code",
   "execution_count": 50,
   "id": "4b6de73d",
   "metadata": {},
   "outputs": [
    {
     "name": "stdout",
     "output_type": "stream",
     "text": [
      "0\n",
      "1\n",
      "2\n",
      "3\n",
      "4\n",
      "5\n",
      "6\n",
      "7\n",
      "8\n",
      "9\n",
      "10\n",
      "11\n",
      "12\n",
      "13\n",
      "14\n",
      "15\n",
      "16\n",
      "17\n",
      "18\n",
      "19\n",
      "20\n",
      "21\n",
      "22\n",
      "23\n",
      "24\n",
      "25\n",
      "26\n",
      "27\n",
      "28\n",
      "29\n",
      "30\n",
      "31\n",
      "32\n",
      "33\n",
      "34\n",
      "35\n",
      "36\n",
      "37\n",
      "38\n",
      "39\n",
      "40\n",
      "41\n",
      "42\n",
      "43\n",
      "44\n",
      "45\n",
      "46\n",
      "47\n",
      "48\n",
      "49\n",
      "50\n",
      "51\n",
      "52\n",
      "53\n",
      "54\n",
      "55\n",
      "56\n",
      "57\n",
      "58\n",
      "59\n",
      "60\n",
      "61\n",
      "62\n",
      "63\n",
      "64\n",
      "65\n",
      "66\n",
      "67\n",
      "68\n",
      "69\n",
      "70\n",
      "71\n",
      "72\n",
      "73\n",
      "74\n",
      "75\n",
      "76\n",
      "77\n",
      "78\n",
      "79\n",
      "80\n",
      "81\n",
      "82\n",
      "83\n",
      "84\n",
      "85\n",
      "86\n",
      "87\n",
      "88\n",
      "89\n"
     ]
    }
   ],
   "source": [
    "for i in range(90):\n",
    "    print(i)"
   ]
  },
  {
   "cell_type": "code",
   "execution_count": 51,
   "id": "e51aedbb",
   "metadata": {},
   "outputs": [
    {
     "name": "stdout",
     "output_type": "stream",
     "text": [
      "0\n",
      "6\n",
      "12\n",
      "18\n",
      "24\n",
      "30\n",
      "36\n",
      "42\n",
      "48\n",
      "54\n",
      "60\n",
      "66\n",
      "72\n",
      "78\n",
      "84\n"
     ]
    }
   ],
   "source": [
    "for i in range(0,90,6):\n",
    "    print(i)"
   ]
  },
  {
   "cell_type": "code",
   "execution_count": 52,
   "id": "d797c8d2",
   "metadata": {},
   "outputs": [
    {
     "name": "stdout",
     "output_type": "stream",
     "text": [
      "[0, 1, 2, 3, 4, 5]\n",
      "0\n",
      "[0, 1, 2, 3, 4, 5]\n",
      "1\n",
      "[0, 1, 2, 3, 4, 5]\n",
      "2\n",
      "[0, 1, 2, 3, 4, 5]\n",
      "3\n",
      "[0, 1, 2, 3, 4, 5]\n",
      "4\n",
      "[0, 1, 2, 3, 4, 5]\n",
      "5\n"
     ]
    }
   ],
   "source": [
    "lista=list(range(6))\n",
    "\n",
    "for i in lista:\n",
    "    print(lista)\n",
    "    print(i)"
   ]
  },
  {
   "cell_type": "code",
   "execution_count": 53,
   "id": "0d7e113b",
   "metadata": {},
   "outputs": [
    {
     "name": "stdout",
     "output_type": "stream",
     "text": [
      "range(0, 6)\n",
      "0\n",
      "range(0, 6)\n",
      "1\n",
      "range(0, 6)\n",
      "2\n",
      "range(0, 6)\n",
      "3\n",
      "range(0, 6)\n",
      "4\n",
      "range(0, 6)\n",
      "5\n"
     ]
    }
   ],
   "source": [
    "for i in range(6):\n",
    "    print(range(6))\n",
    "    print(i)"
   ]
  },
  {
   "cell_type": "code",
   "execution_count": null,
   "id": "cbe9fa2c",
   "metadata": {},
   "outputs": [],
   "source": []
  }
 ],
 "metadata": {
  "kernelspec": {
   "display_name": "Python 3",
   "language": "python",
   "name": "python3"
  },
  "language_info": {
   "codemirror_mode": {
    "name": "ipython",
    "version": 3
   },
   "file_extension": ".py",
   "mimetype": "text/x-python",
   "name": "python",
   "nbconvert_exporter": "python",
   "pygments_lexer": "ipython3",
   "version": "3.8.8"
  }
 },
 "nbformat": 4,
 "nbformat_minor": 5
}
