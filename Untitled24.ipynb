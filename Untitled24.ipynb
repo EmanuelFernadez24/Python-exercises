{
 "cells": [
  {
   "cell_type": "markdown",
   "id": "c092117f",
   "metadata": {},
   "source": [
    "# 4.2 Ejercicios parte 2"
   ]
  },
  {
   "cell_type": "markdown",
   "id": "7f5ad2f9",
   "metadata": {},
   "source": [
    "5) Realiza un pprograma que pregunte al usuario cuantos numeros desea introducir. Luego debe leer todos los numeros y obtener una media arimetica:\n"
   ]
  },
  {
   "cell_type": "code",
   "execution_count": 8,
   "id": "0235296e",
   "metadata": {},
   "outputs": [
    {
     "name": "stdout",
     "output_type": "stream",
     "text": [
      "Introduce la cantidad de numeros: \n",
      " \t5\n",
      "\n",
      " Introduce un numero: \n",
      " \t349\n",
      "\n",
      " Introduce un numero: \n",
      " \t34523\n",
      "\n",
      " Introduce un numero: \n",
      " \t23134\n",
      "\n",
      " Introduce un numero: \n",
      " \t45023\n",
      "\n",
      " Introduce un numero: \n",
      " \t8942\n",
      "\n",
      " La cantidad de numeros 5 la suma total es de 111971.0.\n",
      " La media arimetica obtenida es22394.2.\n"
     ]
    }
   ],
   "source": [
    "cant_num= int(input(\"Introduce la cantidad de numeros: \\n \\t\"))\n",
    "suma=0\n",
    "\n",
    "for e in range(cant_num):\n",
    "     suma += float(input(\"\\n Introduce un numero: \\n \\t\"))\n",
    "\n",
    "print(f\"\\n La cantidad de numeros {cant_num} la suma total es de {suma}.\\n La media arimetica obtenida es {suma/cant_num}.\" )"
   ]
  },
  {
   "cell_type": "markdown",
   "id": "bed2b339",
   "metadata": {},
   "source": [
    "6) Realiza un programa que pida al usuario un numero entero entre el 0 y el 9, y que mientras el numero no sea correcto que se repita el proceso. Luego comprobar si el numero se encuentra en la lista de numeros [ 0,1,3,5,8].\n"
   ]
  },
  {
   "cell_type": "markdown",
   "id": "12f0ab53",
   "metadata": {},
   "source": [
    "##### Protoptip: Utiliza la funcion (i IN LISTA)  evalua la proposicion logicade si exite el elemento i dentro del objeto de la lista"
   ]
  },
  {
   "cell_type": "code",
   "execution_count": 13,
   "id": "a6089c20",
   "metadata": {},
   "outputs": [
    {
     "name": "stdout",
     "output_type": "stream",
     "text": [
      "Ingrese un numero del 0 al 9: \n",
      "3\n",
      "El numero3 esta dentro de la lista[0, 1, 3, 5, 8]\n"
     ]
    }
   ],
   "source": [
    "lista_1 = [0,1,3,5,8]\n",
    "\n",
    "while(True):\n",
    "    numero= int(input(\"Ingrese un numero del 0 al 9: \\n\"))\n",
    "    if numero >=0 and numero <= 9:\n",
    "        break\n",
    "\n",
    "if numero in lista_1:\n",
    "    print(f\"El numero {numero} esta dentro de la lista {lista_1}\")\n",
    "\n",
    "else:\n",
    "    print(f\" El numero {numero} no esta en la lista\")"
   ]
  },
  {
   "cell_type": "markdown",
   "id": "78dfefe6",
   "metadata": {},
   "source": [
    "EJERCICIO 7\n"
   ]
  },
  {
   "cell_type": "code",
   "execution_count": 16,
   "id": "cdb7e7f4",
   "metadata": {},
   "outputs": [
    {
     "name": "stdout",
     "output_type": "stream",
     "text": [
      " [0, 1, 2, 3, 4, 5, 6, 7, 8, 9, 10]\n",
      "\n",
      " [-10, -9, -8, -7, -6, -5, -4, -3, -2, -1, 0]\n",
      "\n",
      " [0, 2, 4, 6, 8, 10, 12, 14, 16, 18]\n",
      "\n",
      " [-19, -17, -15, -13, -11, -9, -7, -5, -3, -1]\n",
      "\n",
      " [0, 5, 10, 15, 20, 25, 30, 35, 40, 45, 50]\n"
     ]
    }
   ],
   "source": [
    "#a:\n",
    "print(\"\", list(range(0,11)))\n",
    "\n",
    "#b:\n",
    "print(\"\\n\", list(range(-10,1)))\n",
    "\n",
    "#c:\n",
    "print(\"\\n\", list(range(0,20,2)))\n",
    "\n",
    "#a:\n",
    "print(\"\\n\", list(range(-19,0,2)))\n",
    "#a:\n",
    "print(\"\\n\", list(range(0,51,5)))"
   ]
  },
  {
   "cell_type": "markdown",
   "id": "70da31b5",
   "metadata": {},
   "source": [
    "EJERCICIO 8"
   ]
  },
  {
   "cell_type": "code",
   "execution_count": 20,
   "id": "db044e11",
   "metadata": {},
   "outputs": [
    {
     "name": "stdout",
     "output_type": "stream",
     "text": [
      "['E', 'A', 'N', 'L']\n"
     ]
    }
   ],
   "source": [
    "lista_1 = [\"E\",\"M\",\"A\",\"N\",\"U\",\"E\",\"L\"]\n",
    "lista_2 = [\"E\",\"L\",\"E\",\"N\",\"A\"]\n",
    "lista_3= []\n",
    "\n",
    "for letra in lista_1:\n",
    "    if letra in lista_2  and letra not in lista_3:\n",
    "        lista_3.append(letra)\n",
    "        \n",
    "print(lista_3)"
   ]
  },
  {
   "cell_type": "code",
   "execution_count": null,
   "id": "18af537d",
   "metadata": {},
   "outputs": [],
   "source": []
  }
 ],
 "metadata": {
  "kernelspec": {
   "display_name": "Python 3",
   "language": "python",
   "name": "python3"
  },
  "language_info": {
   "codemirror_mode": {
    "name": "ipython",
    "version": 3
   },
   "file_extension": ".py",
   "mimetype": "text/x-python",
   "name": "python",
   "nbconvert_exporter": "python",
   "pygments_lexer": "ipython3",
   "version": "3.8.8"
  }
 },
 "nbformat": 4,
 "nbformat_minor": 5
}
