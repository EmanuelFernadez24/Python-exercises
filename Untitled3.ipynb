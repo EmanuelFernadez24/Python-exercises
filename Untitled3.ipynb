{
 "cells": [
  {
   "cell_type": "markdown",
   "id": "06b250ce",
   "metadata": {},
   "source": [
    "# 2. 5 Comprobacion y Conversion de tipos de datos \n"
   ]
  },
  {
   "cell_type": "code",
   "execution_count": 2,
   "id": "3587ed1d",
   "metadata": {},
   "outputs": [
    {
     "name": "stdout",
     "output_type": "stream",
     "text": [
      "-1 <class 'int'>\n"
     ]
    }
   ],
   "source": [
    "print(-1, type(-1))"
   ]
  },
  {
   "cell_type": "code",
   "execution_count": 3,
   "id": "87838586",
   "metadata": {},
   "outputs": [
    {
     "name": "stdout",
     "output_type": "stream",
     "text": [
      "3.13456 <class 'float'>\n"
     ]
    }
   ],
   "source": [
    "print( 3.13456, type(3.13456))"
   ]
  },
  {
   "cell_type": "code",
   "execution_count": 4,
   "id": "69f0fb81",
   "metadata": {},
   "outputs": [
    {
     "name": "stdout",
     "output_type": "stream",
     "text": [
      "hola <class 'str'>\n"
     ]
    }
   ],
   "source": [
    "print('hola', type('hola'))"
   ]
  },
  {
   "cell_type": "code",
   "execution_count": 5,
   "id": "23237046",
   "metadata": {},
   "outputs": [],
   "source": [
    "## str que Señala cadena de caracteres\n"
   ]
  },
  {
   "cell_type": "code",
   "execution_count": 6,
   "id": "47c2d5c7",
   "metadata": {},
   "outputs": [
    {
     "name": "stdout",
     "output_type": "stream",
     "text": [
      "True <class 'bool'>\n"
     ]
    }
   ],
   "source": [
    "print( True, type(True))"
   ]
  },
  {
   "cell_type": "code",
   "execution_count": 7,
   "id": "503b000d",
   "metadata": {},
   "outputs": [
    {
     "name": "stdout",
     "output_type": "stream",
     "text": [
      "None <class 'NoneType'>\n"
     ]
    }
   ],
   "source": [
    "print(None, type(None))"
   ]
  },
  {
   "cell_type": "code",
   "execution_count": 8,
   "id": "a68e8115",
   "metadata": {},
   "outputs": [],
   "source": [
    "## None significa Ninguno y nonetype es de clase ninguno sirva para colocarlo como valor predeterminado, en caso que no hayamos definido el tipo de dato a utilizar "
   ]
  },
  {
   "cell_type": "markdown",
   "id": "e83478d4",
   "metadata": {},
   "source": [
    "# Conversion de tipos \n"
   ]
  },
  {
   "cell_type": "code",
   "execution_count": 10,
   "id": "fa8210d5",
   "metadata": {},
   "outputs": [
    {
     "name": "stdout",
     "output_type": "stream",
     "text": [
      "<class 'int'>\n"
     ]
    }
   ],
   "source": [
    "x=2;\n",
    "\n",
    "print(type(x))"
   ]
  },
  {
   "cell_type": "code",
   "execution_count": 11,
   "id": "ed21ba71",
   "metadata": {},
   "outputs": [
    {
     "name": "stdout",
     "output_type": "stream",
     "text": [
      "<class 'str'>\n"
     ]
    }
   ],
   "source": [
    "nu_x = str(x);\n",
    "\n",
    "print(type(nu_x))"
   ]
  },
  {
   "cell_type": "code",
   "execution_count": 12,
   "id": "fe03865d",
   "metadata": {},
   "outputs": [],
   "source": [
    "##Lo que hizimos fue a una variable como x convertirla en de un tipo de dato entero 'int' a otro tipo de dato que es un string o cadena \n"
   ]
  },
  {
   "cell_type": "markdown",
   "id": "9bf359e4",
   "metadata": {},
   "source": [
    "## Tambien podemos hacer una conversion sin asignar valores a una variable"
   ]
  },
  {
   "cell_type": "code",
   "execution_count": 13,
   "id": "0aad5c4b",
   "metadata": {},
   "outputs": [
    {
     "name": "stdout",
     "output_type": "stream",
     "text": [
      "2\n"
     ]
    }
   ],
   "source": [
    "print(int(2.1))"
   ]
  },
  {
   "cell_type": "code",
   "execution_count": 14,
   "id": "ff1b75a4",
   "metadata": {},
   "outputs": [],
   "source": [
    "# Cambio un flotante por un entero\n"
   ]
  },
  {
   "cell_type": "code",
   "execution_count": 16,
   "id": "72ae0011",
   "metadata": {},
   "outputs": [
    {
     "name": "stdout",
     "output_type": "stream",
     "text": [
      "1  y el otro es 0\n"
     ]
    }
   ],
   "source": [
    "print(int(True),' y el otro es', int(False))"
   ]
  },
  {
   "cell_type": "code",
   "execution_count": 17,
   "id": "30e09638",
   "metadata": {},
   "outputs": [
    {
     "name": "stdout",
     "output_type": "stream",
     "text": [
      "2\n"
     ]
    }
   ],
   "source": [
    "print(int('2'))"
   ]
  },
  {
   "cell_type": "code",
   "execution_count": 18,
   "id": "bb658e89",
   "metadata": {},
   "outputs": [
    {
     "name": "stdout",
     "output_type": "stream",
     "text": [
      "2\n"
     ]
    }
   ],
   "source": [
    "print(str(2))"
   ]
  },
  {
   "cell_type": "code",
   "execution_count": 19,
   "id": "81ee32ca",
   "metadata": {},
   "outputs": [
    {
     "name": "stdout",
     "output_type": "stream",
     "text": [
      "3.23456\n"
     ]
    }
   ],
   "source": [
    "print(str(3.23456))"
   ]
  },
  {
   "cell_type": "code",
   "execution_count": 21,
   "id": "07ed26e1",
   "metadata": {},
   "outputs": [
    {
     "name": "stdout",
     "output_type": "stream",
     "text": [
      "True y el otro es False\n"
     ]
    }
   ],
   "source": [
    "print(str(True),'y el otro es',str(False))"
   ]
  },
  {
   "cell_type": "code",
   "execution_count": 22,
   "id": "2f9590bf",
   "metadata": {},
   "outputs": [
    {
     "name": "stdout",
     "output_type": "stream",
     "text": [
      "None\n"
     ]
    }
   ],
   "source": [
    "print(None)"
   ]
  },
  {
   "cell_type": "code",
   "execution_count": 23,
   "id": "ce734585",
   "metadata": {},
   "outputs": [],
   "source": [
    "## Asi se convierte los tipos de datos "
   ]
  },
  {
   "cell_type": "code",
   "execution_count": null,
   "id": "29d11a47",
   "metadata": {},
   "outputs": [],
   "source": []
  }
 ],
 "metadata": {
  "kernelspec": {
   "display_name": "Python 3",
   "language": "python",
   "name": "python3"
  },
  "language_info": {
   "codemirror_mode": {
    "name": "ipython",
    "version": 3
   },
   "file_extension": ".py",
   "mimetype": "text/x-python",
   "name": "python",
   "nbconvert_exporter": "python",
   "pygments_lexer": "ipython3",
   "version": "3.8.8"
  }
 },
 "nbformat": 4,
 "nbformat_minor": 5
}
