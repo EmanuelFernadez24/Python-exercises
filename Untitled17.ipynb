{
 "cells": [
  {
   "cell_type": "markdown",
   "id": "1e2d480e",
   "metadata": {},
   "source": [
    "# 4.1 If/Else/Elif: Sentencias Condicionales\n"
   ]
  },
  {
   "cell_type": "markdown",
   "id": "8186b38a",
   "metadata": {},
   "source": [
    "## En phython existen las sentencias condicionales If, else, elif (else if) que nos permiten dividir el flujo de un programa en diferentes caminos.\n",
    "\n",
    "#### Para hacer esto definimos un bloque de instrucciones que se ejecutaran solo si la condicion previa se cumple(es verdadera)"
   ]
  },
  {
   "cell_type": "code",
   "execution_count": 5,
   "id": "5d3edffe",
   "metadata": {},
   "outputs": [
    {
     "name": "stdout",
     "output_type": "stream",
     "text": [
      "HEY\n"
     ]
    }
   ],
   "source": [
    "if (True):\n",
    "    print('HEY')"
   ]
  },
  {
   "cell_type": "code",
   "execution_count": 3,
   "id": "56734cf3",
   "metadata": {},
   "outputs": [],
   "source": [
    "if(False):\n",
    "    print ('HEY')"
   ]
  },
  {
   "cell_type": "code",
   "execution_count": 20,
   "id": "216c30b0",
   "metadata": {},
   "outputs": [
    {
     "name": "stdout",
     "output_type": "stream",
     "text": [
      "x vale 6\n"
     ]
    }
   ],
   "source": [
    "x=6\n",
    "\n",
    "if x == 6:\n",
    "    print('x vale 6')\n",
    "     "
   ]
  },
  {
   "cell_type": "code",
   "execution_count": 21,
   "id": "a644bc1d",
   "metadata": {},
   "outputs": [
    {
     "name": "stdout",
     "output_type": "stream",
     "text": [
      "x vale 6\n"
     ]
    }
   ],
   "source": [
    "if x== 2:\n",
    "    print ('x vale 2')\n",
    "\n",
    "if x==6 :\n",
    "    print('x vale 6')"
   ]
  },
  {
   "cell_type": "markdown",
   "id": "9ba663fa",
   "metadata": {},
   "source": [
    "### Podemos escribir varios if anidados respetando la identacion "
   ]
  },
  {
   "cell_type": "code",
   "execution_count": 23,
   "id": "93a1b152",
   "metadata": {},
   "outputs": [
    {
     "name": "stdout",
     "output_type": "stream",
     "text": [
      "A vale 15\n",
      "B vale 20\n"
     ]
    }
   ],
   "source": [
    "a = 15\n",
    "b = 20\n",
    "\n",
    "if a == 15:\n",
    "    print('A vale {}'.format(a))\n",
    "    if b == 20:\n",
    "        print ('B vale {}'. format(b))"
   ]
  },
  {
   "cell_type": "markdown",
   "id": "339e593a",
   "metadata": {},
   "source": [
    "## Tambien podemos incluir en estas sentencias operadores logicos"
   ]
  },
  {
   "cell_type": "code",
   "execution_count": 25,
   "id": "597c13a3",
   "metadata": {},
   "outputs": [
    {
     "name": "stdout",
     "output_type": "stream",
     "text": [
      "A vale 15, y B vale 20\n"
     ]
    }
   ],
   "source": [
    "if a==15 and b==20:\n",
    "    print(\"A vale {}, y B vale {}\".format(a,b))"
   ]
  },
  {
   "cell_type": "code",
   "execution_count": null,
   "id": "8ac8e880",
   "metadata": {},
   "outputs": [],
   "source": []
  }
 ],
 "metadata": {
  "kernelspec": {
   "display_name": "Python 3",
   "language": "python",
   "name": "python3"
  },
  "language_info": {
   "codemirror_mode": {
    "name": "ipython",
    "version": 3
   },
   "file_extension": ".py",
   "mimetype": "text/x-python",
   "name": "python",
   "nbconvert_exporter": "python",
   "pygments_lexer": "ipython3",
   "version": "3.8.8"
  }
 },
 "nbformat": 4,
 "nbformat_minor": 5
}
