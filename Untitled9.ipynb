{
 "cells": [
  {
   "cell_type": "markdown",
   "id": "902dd74a",
   "metadata": {},
   "source": [
    "# 2.10 EJERCICIOS \n"
   ]
  },
  {
   "cell_type": "markdown",
   "id": "51b11f16",
   "metadata": {},
   "source": [
    "## 1) Define una variable edad  y asignale un valor entero.\n"
   ]
  },
  {
   "cell_type": "markdown",
   "id": "1dbe4b1c",
   "metadata": {},
   "source": [
    "\n",
    "_Muestra su valor por pantalla\n",
    "_ Define otra variable edad_cadena que contenga el valor como una cadena de caracteres \n",
    "_Comprueba el tipo de la nueva variable \n",
    "_ Utiliza la variable edad que has definido previamente y calcula la edad que tendra esa persona en el año 2035\n"
   ]
  },
  {
   "cell_type": "code",
   "execution_count": null,
   "id": "f8dd2734",
   "metadata": {},
   "outputs": [],
   "source": [
    "edad=26\n",
    "print(edad)\n"
   ]
  },
  {
   "cell_type": "code",
   "execution_count": null,
   "id": "921c5be8",
   "metadata": {},
   "outputs": [],
   "source": [
    "edad_cadena = str(edad); \n",
    "\n",
    "edad_cadena"
   ]
  },
  {
   "cell_type": "code",
   "execution_count": null,
   "id": "142df9e5",
   "metadata": {},
   "outputs": [],
   "source": [
    "print(type(edad_cadena))"
   ]
  },
  {
   "cell_type": "code",
   "execution_count": null,
   "id": "205b058f",
   "metadata": {},
   "outputs": [],
   "source": [
    "edad_2035 = (2035 -2020 ) + edad\n",
    "print (edad_2035)"
   ]
  },
  {
   "cell_type": "markdown",
   "id": "5e7e5867",
   "metadata": {},
   "source": [
    "### 2) Al realizar una consulta en un registro hemos recibido unos valores corruptos. Al parecer entrega el nombre y apellido del alumno al revés. ¿ Que puede hacer para obtener el siguiente mensaje por pantalla  "
   ]
  },
  {
   "cell_type": "code",
   "execution_count": null,
   "id": "e71060a2",
   "metadata": {},
   "outputs": [],
   "source": [
    "## NOMBRE APELLIDO ha sacado una NOTA"
   ]
  },
  {
   "cell_type": "code",
   "execution_count": 7,
   "id": "c1fa4128",
   "metadata": {},
   "outputs": [],
   "source": [
    "cadena = 'azebaC ellechiM, 01'\n"
   ]
  },
  {
   "cell_type": "code",
   "execution_count": 8,
   "id": "b62d5e3e",
   "metadata": {},
   "outputs": [
    {
     "data": {
      "text/plain": [
       "'10 ,Mihcelle Cabeza'"
      ]
     },
     "execution_count": 8,
     "metadata": {},
     "output_type": "execute_result"
    }
   ],
   "source": [
    "cadena_volteada = cadena[::-1]\n",
    "cadena_volteada"
   ]
  },
  {
   "cell_type": "code",
   "execution_count": null,
   "id": "b8e7201b",
   "metadata": {},
   "outputs": [],
   "source": [
    "## con los corchetes indicamos indexacion o slicing y dentre de esto colocamos los doble dos puntos, para que nos analice todos los elementos de la cadena "
   ]
  },
  {
   "cell_type": "code",
   "execution_count": null,
   "id": "700ac05e",
   "metadata": {},
   "outputs": [],
   "source": [
    "## Tambien con el menos 1 (-1) el analisis lo comienza a hacer desde el ultimo valor, recordemos que en python el ultimo elemento tiene de indice el menos 1"
   ]
  },
  {
   "cell_type": "markdown",
   "id": "7aaf0c12",
   "metadata": {},
   "source": [
    "### Ahora para que nos indique el nombre y apellido ha sacado tal nota debemos hacer slicing o indexacion"
   ]
  },
  {
   "cell_type": "code",
   "execution_count": null,
   "id": "bc813b74",
   "metadata": {},
   "outputs": [],
   "source": [
    "## El slicing te devuelve una parte de la cadena pero no todo\n"
   ]
  },
  {
   "cell_type": "code",
   "execution_count": 9,
   "id": "8280360e",
   "metadata": {},
   "outputs": [
    {
     "name": "stdout",
     "output_type": "stream",
     "text": [
      "Mihcelle Cabeza ha sacado un 10\n"
     ]
    }
   ],
   "source": [
    "print(cadena_volteada[4::],'ha sacado un',cadena_volteada[:2])"
   ]
  },
  {
   "cell_type": "code",
   "execution_count": null,
   "id": "ca54e3a1",
   "metadata": {},
   "outputs": [],
   "source": [
    "## 'Como queremos que nos muestre solo los elementos apartir del cuarto, es decir, cuenta los elementos y partir del cuarto devuelve esa cadena, En este caso 10 , queda afuera y devuelve a partir de la M'"
   ]
  },
  {
   "cell_type": "code",
   "execution_count": null,
   "id": "b93e4a1a",
   "metadata": {},
   "outputs": [],
   "source": [
    "## En la segunda parte queremos que nos devuelva los primeros dos elementos es decir el eleento en la posicion cero y uno"
   ]
  },
  {
   "cell_type": "markdown",
   "id": "5acaa07a",
   "metadata": {},
   "source": [
    "### 3) Utilizando operadores logicos determina si una cadena de texto introducida por el usuario tiene una longitud mayor o igual que 3 y menor o igual que 12 ( Basta con mostrar TRUE or FALSE)"
   ]
  },
  {
   "cell_type": "code",
   "execution_count": 4,
   "id": "6ad2f9b3",
   "metadata": {
    "scrolled": true
   },
   "outputs": [
    {
     "name": "stdout",
     "output_type": "stream",
     "text": [
      "Escribe un texto: concatename esta\n",
      "¿La longitud del texto es mayor o igual que 3 pero menor o igual que 12?\n",
      " False\n"
     ]
    }
   ],
   "source": [
    "cadena3 = input('Escribe un texto: ')\n",
    "\n",
    "print('¿La longitud del texto es mayor o igual que 3 pero menor o igual que 12?\\n', len(cadena) >=3 and len(cadena) <=12)"
   ]
  },
  {
   "cell_type": "markdown",
   "id": "61a464d5",
   "metadata": {},
   "source": [
    "### 4) Realiza un programa que lea 2 números por teclado y determine los dos aspectos (es suficiente con mostrar True or False)\n"
   ]
  },
  {
   "cell_type": "code",
   "execution_count": 14,
   "id": "f705ae70",
   "metadata": {},
   "outputs": [
    {
     "name": "stdout",
     "output_type": "stream",
     "text": [
      "Ingrese un numero: 234\n",
      "Ingrese un numero: 435\n",
      "¿Los numeros ingrsados son iguales? RESPUESTAS: False\n",
      "¿Los numeros ingresados son diferentes? RESPUESTAS: True\n",
      "¿ Si el priemer numero es mayor que el segundo? RESPUESTAS:  False\n",
      "¿ Si el primer numero es menor o igual que el segundo? RESPUESTAS: True\n"
     ]
    }
   ],
   "source": [
    "n1 = float(input(\"Ingrese un numero: \"))\n",
    "n2 = float(input(\"Ingrese un numero: \"))\n",
    "\n",
    "print('¿Los numeros ingrsados son iguales? RESPUESTAS:' , n1 == n2)\n",
    "print('¿Los numeros ingresados son diferentes? RESPUESTAS:', n1 != n2)\n",
    "print('¿ Si el priemer numero es mayor que el segundo? RESPUESTAS: ' ,  n1 > n2 )\n",
    "print('¿ Si el primer numero es menor o igual que el segundo? RESPUESTAS:', n1 <= n2)"
   ]
  },
  {
   "cell_type": "code",
   "execution_count": null,
   "id": "47f13bc2",
   "metadata": {},
   "outputs": [],
   "source": []
  }
 ],
 "metadata": {
  "kernelspec": {
   "display_name": "Python 3",
   "language": "python",
   "name": "python3"
  },
  "language_info": {
   "codemirror_mode": {
    "name": "ipython",
    "version": 3
   },
   "file_extension": ".py",
   "mimetype": "text/x-python",
   "name": "python",
   "nbconvert_exporter": "python",
   "pygments_lexer": "ipython3",
   "version": "3.8.8"
  }
 },
 "nbformat": 4,
 "nbformat_minor": 5
}
