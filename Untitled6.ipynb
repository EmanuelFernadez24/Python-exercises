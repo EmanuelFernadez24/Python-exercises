{
 "cells": [
  {
   "cell_type": "markdown",
   "id": "3d6f48c8",
   "metadata": {},
   "source": [
    "# 2.8 Lectura por Teclado"
   ]
  },
  {
   "cell_type": "markdown",
   "id": "4f867b26",
   "metadata": {},
   "source": [
    "### La funcion input() permite almacenar un valor ingresado por teclado en una variable."
   ]
  },
  {
   "cell_type": "code",
   "execution_count": null,
   "id": "5385b33c",
   "metadata": {},
   "outputs": [],
   "source": [
    "valor = input()"
   ]
  },
  {
   "cell_type": "code",
   "execution_count": null,
   "id": "ef3ec041",
   "metadata": {},
   "outputs": [],
   "source": [
    "Emanuel Fernandez 40561366"
   ]
  },
  {
   "cell_type": "code",
   "execution_count": null,
   "id": "cda900ab",
   "metadata": {},
   "outputs": [],
   "source": [
    "print(valor)"
   ]
  },
  {
   "cell_type": "code",
   "execution_count": null,
   "id": "dbc0a0e5",
   "metadata": {},
   "outputs": [],
   "source": [
    "valor"
   ]
  },
  {
   "cell_type": "code",
   "execution_count": null,
   "id": "120e8eec",
   "metadata": {},
   "outputs": [],
   "source": []
  }
 ],
 "metadata": {
  "kernelspec": {
   "display_name": "Python 3",
   "language": "python",
   "name": "python3"
  },
  "language_info": {
   "codemirror_mode": {
    "name": "ipython",
    "version": 3
   },
   "file_extension": ".py",
   "mimetype": "text/x-python",
   "name": "python",
   "nbconvert_exporter": "python",
   "pygments_lexer": "ipython3",
   "version": "3.8.8"
  }
 },
 "nbformat": 4,
 "nbformat_minor": 5
}
