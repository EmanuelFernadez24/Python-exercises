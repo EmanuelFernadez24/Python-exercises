{
 "cells": [
  {
   "cell_type": "markdown",
   "id": "d1280f4d",
   "metadata": {},
   "source": [
    "# 4.2 Bucle WHILE \n",
    "\n",
    "### Un bucle es una secuencia que ejecuta reiteradas veces una accion hasta que la condicion asignada al bucle deja de cumplirse. Cada nueva  ejecucion de la secuencia se denomina iteracion.\n",
    "\n",
    "### La sentencia WHILE(mientras) repite las operaciones dentro de un bloque mientras la condicion logica que evalua es True(Verdadera).\n",
    "\n",
    "### El programador debe planificar un momento en que la condicion es False y el bucle se detiene.De otra forma se vuelve infinito"
   ]
  },
  {
   "cell_type": "code",
   "execution_count": 4,
   "id": "271026c4",
   "metadata": {},
   "outputs": [
    {
     "name": "stdout",
     "output_type": "stream",
     "text": [
      "Contador Vale 1\n",
      "Contador Vale 2\n",
      "Contador Vale 3\n",
      "Contador Vale 4\n",
      "Contador Vale 5\n",
      "Contador Vale 6\n"
     ]
    }
   ],
   "source": [
    "contador =0\n",
    "\n",
    "while contador <=5:\n",
    "    contador +=1\n",
    "    print('Contador Vale',contador)\n",
    "       "
   ]
  },
  {
   "cell_type": "code",
   "execution_count": 5,
   "id": "05b64f15",
   "metadata": {},
   "outputs": [],
   "source": [
    "### para arreglar esto se debe poner l print primero"
   ]
  },
  {
   "cell_type": "code",
   "execution_count": 11,
   "id": "5c17bb9b",
   "metadata": {},
   "outputs": [
    {
     "name": "stdout",
     "output_type": "stream",
     "text": [
      "El contador Vale 0\n",
      "El contador Vale 1\n",
      "El contador Vale 2\n",
      "El contador Vale 3\n",
      "El contador Vale 4\n",
      "El contador Vale 5\n",
      "Ya realice 6 no me rompas mas los huevos\n"
     ]
    }
   ],
   "source": [
    "c = 0\n",
    "while c <=5:\n",
    "    print('El contador Vale', c)\n",
    "    c += 1\n",
    "else:\n",
    "    print ('Ya realice {} no me rompas mas los huevos'.format(c))"
   ]
  },
  {
   "cell_type": "markdown",
   "id": "127ff249",
   "metadata": {},
   "source": [
    "## Break"
   ]
  },
  {
   "cell_type": "code",
   "execution_count": 12,
   "id": "4cc148a6",
   "metadata": {},
   "outputs": [],
   "source": [
    "## Con este comando detenemos el primer bucle en cualquier momento "
   ]
  },
  {
   "cell_type": "code",
   "execution_count": 19,
   "id": "d546fd02",
   "metadata": {},
   "outputs": [
    {
     "name": "stdout",
     "output_type": "stream",
     "text": [
      "r vale 1\n",
      "r vale 2\n",
      "r vale 3\n",
      "r vale 4\n",
      "r vale 5\n",
      "r vale 6\n",
      "r vale 7\n",
      "Rompemos el bucle cuando r vale  8\n"
     ]
    }
   ],
   "source": [
    "r = 0\n",
    "while r <= 10: \n",
    "    r +=1\n",
    "    if r == 8:\n",
    "        print(\"Rompemos el bucle cuando r vale \", r)\n",
    "        break\n",
    "    print(\"r vale\", r)        \n",
    "else: \n",
    "    print(\"Se realizaron {} iteracciones no me rompas mas los huevos\", format(r))"
   ]
  },
  {
   "cell_type": "markdown",
   "id": "f65a13ea",
   "metadata": {},
   "source": [
    "  ## Continue \n",
    "   Con este comando podemos saltamos a la siguiente iteraccion sin romper el bucle"
   ]
  },
  {
   "cell_type": "code",
   "execution_count": 26,
   "id": "89ed3c29",
   "metadata": {},
   "outputs": [
    {
     "name": "stdout",
     "output_type": "stream",
     "text": [
      "Variable vale  1\n",
      "Variable vale  2\n",
      "Variable vale  3\n",
      "Variable vale  4\n",
      "Variable vale  5\n",
      "Variable vale  6\n",
      "Ya que variable vale 7 saltamos a la siguiente\n",
      " y continuamos iterando\n",
      "Variable vale  8\n",
      "Variable vale  9\n",
      "Variable vale  10\n",
      "Variable vale  11\n",
      "Se realizaron 11 iteraciones no me rompas los huevos\n"
     ]
    }
   ],
   "source": [
    "variable = 0\n",
    "while variable <=10:\n",
    "    variable += 1\n",
    "    if variable == 7:\n",
    "        print('Ya que variable vale {} saltamos a la siguiente\\n y continuamos iterando'.format(variable))\n",
    "        continue\n",
    "    print(\"Variable vale \", variable)\n",
    "\n",
    "else: \n",
    "    print('Se realizaron {} iteraciones no me rompas los huevos'.format(variable))"
   ]
  },
  {
   "cell_type": "code",
   "execution_count": null,
   "id": "c29d4291",
   "metadata": {},
   "outputs": [],
   "source": [
    "##"
   ]
  }
 ],
 "metadata": {
  "kernelspec": {
   "display_name": "Python 3",
   "language": "python",
   "name": "python3"
  },
  "language_info": {
   "codemirror_mode": {
    "name": "ipython",
    "version": 3
   },
   "file_extension": ".py",
   "mimetype": "text/x-python",
   "name": "python",
   "nbconvert_exporter": "python",
   "pygments_lexer": "ipython3",
   "version": "3.8.8"
  }
 },
 "nbformat": 4,
 "nbformat_minor": 5
}
