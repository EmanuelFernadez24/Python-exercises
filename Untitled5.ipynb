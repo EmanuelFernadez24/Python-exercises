{
 "cells": [
  {
   "cell_type": "markdown",
   "id": "f8f29676",
   "metadata": {},
   "source": [
    "# 2.7 OPERADORES LOGICOS "
   ]
  },
  {
   "cell_type": "code",
   "execution_count": 1,
   "id": "00da6e81",
   "metadata": {},
   "outputs": [],
   "source": [
    "#los operadores logicos siguen las reglas de la logica proposicional \n"
   ]
  },
  {
   "cell_type": "markdown",
   "id": "1cd0e218",
   "metadata": {},
   "source": [
    "## A) AND"
   ]
  },
  {
   "cell_type": "code",
   "execution_count": 2,
   "id": "eb9d2b51",
   "metadata": {},
   "outputs": [
    {
     "data": {
      "text/plain": [
       "True"
      ]
     },
     "execution_count": 2,
     "metadata": {},
     "output_type": "execute_result"
    }
   ],
   "source": [
    "True and True "
   ]
  },
  {
   "cell_type": "code",
   "execution_count": 3,
   "id": "22efc68e",
   "metadata": {},
   "outputs": [
    {
     "data": {
      "text/plain": [
       "False"
      ]
     },
     "execution_count": 3,
     "metadata": {},
     "output_type": "execute_result"
    }
   ],
   "source": [
    "True and False\n"
   ]
  },
  {
   "cell_type": "code",
   "execution_count": 4,
   "id": "22075912",
   "metadata": {},
   "outputs": [
    {
     "data": {
      "text/plain": [
       "False"
      ]
     },
     "execution_count": 4,
     "metadata": {},
     "output_type": "execute_result"
    }
   ],
   "source": [
    "False and False"
   ]
  },
  {
   "cell_type": "code",
   "execution_count": 5,
   "id": "ed11edd5",
   "metadata": {},
   "outputs": [
    {
     "data": {
      "text/plain": [
       "False"
      ]
     },
     "execution_count": 5,
     "metadata": {},
     "output_type": "execute_result"
    }
   ],
   "source": [
    "False and True "
   ]
  },
  {
   "cell_type": "markdown",
   "id": "48df856a",
   "metadata": {},
   "source": [
    "## B) OR"
   ]
  },
  {
   "cell_type": "code",
   "execution_count": 6,
   "id": "9fac0945",
   "metadata": {},
   "outputs": [
    {
     "data": {
      "text/plain": [
       "True"
      ]
     },
     "execution_count": 6,
     "metadata": {},
     "output_type": "execute_result"
    }
   ],
   "source": [
    "True or False"
   ]
  },
  {
   "cell_type": "code",
   "execution_count": 7,
   "id": "11a194ba",
   "metadata": {},
   "outputs": [
    {
     "data": {
      "text/plain": [
       "True"
      ]
     },
     "execution_count": 7,
     "metadata": {},
     "output_type": "execute_result"
    }
   ],
   "source": [
    "True or True"
   ]
  },
  {
   "cell_type": "code",
   "execution_count": 8,
   "id": "e778d77c",
   "metadata": {},
   "outputs": [
    {
     "data": {
      "text/plain": [
       "False"
      ]
     },
     "execution_count": 8,
     "metadata": {},
     "output_type": "execute_result"
    }
   ],
   "source": [
    "False or False"
   ]
  },
  {
   "cell_type": "code",
   "execution_count": 9,
   "id": "55a1a1d0",
   "metadata": {},
   "outputs": [
    {
     "data": {
      "text/plain": [
       "False"
      ]
     },
     "execution_count": 9,
     "metadata": {},
     "output_type": "execute_result"
    }
   ],
   "source": [
    "False and True "
   ]
  },
  {
   "cell_type": "code",
   "execution_count": 10,
   "id": "9765be88",
   "metadata": {},
   "outputs": [
    {
     "data": {
      "text/plain": [
       "True"
      ]
     },
     "execution_count": 10,
     "metadata": {},
     "output_type": "execute_result"
    }
   ],
   "source": [
    "False or True"
   ]
  },
  {
   "cell_type": "markdown",
   "id": "75532fae",
   "metadata": {},
   "source": [
    "## C) NOT**"
   ]
  },
  {
   "cell_type": "code",
   "execution_count": 11,
   "id": "70608906",
   "metadata": {},
   "outputs": [
    {
     "data": {
      "text/plain": [
       "False"
      ]
     },
     "execution_count": 11,
     "metadata": {},
     "output_type": "execute_result"
    }
   ],
   "source": [
    "not True "
   ]
  },
  {
   "cell_type": "code",
   "execution_count": 12,
   "id": "ab718203",
   "metadata": {},
   "outputs": [
    {
     "data": {
      "text/plain": [
       "True"
      ]
     },
     "execution_count": 12,
     "metadata": {},
     "output_type": "execute_result"
    }
   ],
   "source": [
    "not False"
   ]
  },
  {
   "cell_type": "markdown",
   "id": "8614a4da",
   "metadata": {},
   "source": [
    "## Operadores Logicas"
   ]
  },
  {
   "cell_type": "markdown",
   "id": "233ed3a7",
   "metadata": {},
   "source": [
    "#### [==; !=; <; >; <=; >=]"
   ]
  },
  {
   "cell_type": "markdown",
   "id": "a096d270",
   "metadata": {},
   "source": [
    "#### Para probar igualdad utilizamos usamos el operador =="
   ]
  },
  {
   "cell_type": "code",
   "execution_count": 15,
   "id": "4ecdc7c7",
   "metadata": {},
   "outputs": [
    {
     "name": "stdout",
     "output_type": "stream",
     "text": [
      "¿Se cumple que 2 == 2?\n",
      " True\n"
     ]
    }
   ],
   "source": [
    "print(\"¿Se cumple que 2 == 2?\\n\", 2 == 2)"
   ]
  },
  {
   "cell_type": "code",
   "execution_count": 16,
   "id": "79f0d4ff",
   "metadata": {},
   "outputs": [
    {
     "name": "stdout",
     "output_type": "stream",
     "text": [
      "¿Se cumple que 2 == 2?\n",
      " False\n"
     ]
    }
   ],
   "source": [
    "print(\"¿Se cumple que 2 == 2?\\n\", 2 == 3)"
   ]
  },
  {
   "cell_type": "markdown",
   "id": "e7530bf7",
   "metadata": {},
   "source": [
    "### Para probar desigualdad utilizamos usamos el operador !="
   ]
  },
  {
   "cell_type": "code",
   "execution_count": 17,
   "id": "50b07d31",
   "metadata": {},
   "outputs": [
    {
     "name": "stdout",
     "output_type": "stream",
     "text": [
      "¿Se cumple que 2 != 2?\n",
      " False\n"
     ]
    }
   ],
   "source": [
    "print(\"¿Se cumple que 2 != 2?\\n\", 2 != 2)"
   ]
  },
  {
   "cell_type": "code",
   "execution_count": 18,
   "id": "766996ad",
   "metadata": {},
   "outputs": [
    {
     "name": "stdout",
     "output_type": "stream",
     "text": [
      "¿Se cumple que 2 != 2?\n",
      " True\n"
     ]
    }
   ],
   "source": [
    "print(\"¿Se cumple que 2 != 2?\\n\", 2 != 7)"
   ]
  },
  {
   "cell_type": "markdown",
   "id": "18dce745",
   "metadata": {},
   "source": [
    "### Para comparar magnitudes usamos >,<,>=,<="
   ]
  },
  {
   "cell_type": "code",
   "execution_count": 32,
   "id": "e0962a4b",
   "metadata": {},
   "outputs": [
    {
     "name": "stdout",
     "output_type": "stream",
     "text": [
      "¿Se cumple que 2 < 3 \n",
      " True\n",
      "¿Se cumple que 2 > 3 \n",
      " True\n",
      "¿Se cumple que 2 =< 3 \n",
      " True\n",
      "¿Se cumple que 2 =< 3?\n",
      " False\n"
     ]
    }
   ],
   "source": [
    "print(\"¿Se cumple que 2 < 3 \\n\", 2 < 3)\n",
    "\n",
    "print(\"¿Se cumple que 2 > 3 \\n\", 2<  3)\n",
    "\n",
    "print(\"¿Se cumple que 2 =< 3 \\n\", 2 <= 3)\n",
    "      \n",
    "print(\"¿Se cumple que 2 =< 3?\\n\", 2 >= 3 )    "
   ]
  },
  {
   "cell_type": "code",
   "execution_count": 27,
   "id": "9b490ed9",
   "metadata": {},
   "outputs": [
    {
     "name": "stdout",
     "output_type": "stream",
     "text": [
      "¿Se cumple que 2 < 3 \n",
      " True\n"
     ]
    }
   ],
   "source": [
    "print(\"¿Se cumple que 2 < 3 \\n\", 2 < 3)"
   ]
  },
  {
   "cell_type": "code",
   "execution_count": 28,
   "id": "c51ad75d",
   "metadata": {},
   "outputs": [
    {
     "name": "stdout",
     "output_type": "stream",
     "text": [
      "¿Se cumple que 2 > 3 \n",
      " True\n"
     ]
    }
   ],
   "source": [
    "print(\"¿Se cumple que 2 > 3 \\n\", 2<  3)"
   ]
  },
  {
   "cell_type": "code",
   "execution_count": 30,
   "id": "4b59913f",
   "metadata": {},
   "outputs": [
    {
     "name": "stdout",
     "output_type": "stream",
     "text": [
      "¿Se cumple que 2 =< 3 \n",
      " True\n"
     ]
    }
   ],
   "source": [
    "print(\"¿Se cumple que 2 =< 3 \\n\", 2 <= 3)"
   ]
  },
  {
   "cell_type": "markdown",
   "id": "7e59fcb0",
   "metadata": {},
   "source": [
    "## Los operadores basicos de asignacion ( <,>,<=,>=,==,!=) tambien aplican a las cadenas de caracteres. Para compararlas Python sigue el estandard ASCII"
   ]
  },
  {
   "cell_type": "code",
   "execution_count": 33,
   "id": "02f72ac6",
   "metadata": {},
   "outputs": [
    {
     "name": "stdout",
     "output_type": "stream",
     "text": [
      "False\n"
     ]
    }
   ],
   "source": [
    "print(\"casa\"<\"cabra\")"
   ]
  },
  {
   "cell_type": "code",
   "execution_count": null,
   "id": "1461339a",
   "metadata": {},
   "outputs": [],
   "source": [
    "##Porque la letra b ocupa el lugar 3 mientras que s como el 1"
   ]
  },
  {
   "cell_type": "code",
   "execution_count": null,
   "id": "51ec6691",
   "metadata": {},
   "outputs": [],
   "source": []
  }
 ],
 "metadata": {
  "kernelspec": {
   "display_name": "Python 3",
   "language": "python",
   "name": "python3"
  },
  "language_info": {
   "codemirror_mode": {
    "name": "ipython",
    "version": 3
   },
   "file_extension": ".py",
   "mimetype": "text/x-python",
   "name": "python",
   "nbconvert_exporter": "python",
   "pygments_lexer": "ipython3",
   "version": "3.8.8"
  }
 },
 "nbformat": 4,
 "nbformat_minor": 5
}
