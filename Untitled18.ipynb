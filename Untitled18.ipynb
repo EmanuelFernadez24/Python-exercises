{
 "cells": [
  {
   "cell_type": "markdown",
   "id": "947d10b2",
   "metadata": {},
   "source": [
    "## 4.2 ELSE y ELIF \n",
    "\n",
    "ELSE (si no) se encadena al final del bloque para abrir una nueva lista de instrucciones. \n",
    "\n",
    "Este comando nos permite definir el camino que se ejecuta si la condicion original no se cumple.\n",
    "\n",
    "ELIF(si no si) establece una nueva condicion que se encadena a otro IF o ELIF cuya condicion resulto FALSE (no se cumplio)\n",
    "\n",
    "Este nos permite establecer múltiples condiciones para lidiar con las multiples posibles entradas que el programa puede recibir.\n"
   ]
  },
  {
   "cell_type": "code",
   "execution_count": 3,
   "id": "c33036de",
   "metadata": {},
   "outputs": [
    {
     "name": "stdout",
     "output_type": "stream",
     "text": [
      "47 Este numero es IMPAR\n"
     ]
    }
   ],
   "source": [
    "k=47\n",
    "\n",
    "if k % 2 == 0:\n",
    "    print(k,'Este numero es PAR')\n",
    "\n",
    "else:\n",
    "    print(k, 'Este numero es IMPAR')\n",
    "    "
   ]
  },
  {
   "cell_type": "code",
   "execution_count": 2,
   "id": "9bd643e6",
   "metadata": {},
   "outputs": [
    {
     "name": "stdout",
     "output_type": "stream",
     "text": [
      "¿Que desea haces?\n",
      " eesta\n",
      "Inserta de nuevo la palabra clave GIL\n"
     ]
    }
   ],
   "source": [
    "## Respuestas Dinamicas\n",
    "\n",
    "texto = input(\"¿Que desea haces?\\n \")\n",
    "\n",
    "if texto == 'Saludar':\n",
    "    print('Muy buenas Noches')    \n",
    "elif texto == 'Retirarse':\n",
    "       print('Ok. Nos vemos gato')\n",
    "else:\n",
    "     print('Inserta de nuevo la palabra clave GIL')"
   ]
  },
  {
   "cell_type": "code",
   "execution_count": 6,
   "id": "c2075c43",
   "metadata": {},
   "outputs": [
    {
     "name": "stdout",
     "output_type": "stream",
     "text": [
      "Introduce la calificacion:\n",
      " 4\n",
      "Desaprobado, siga intentando\n"
     ]
    }
   ],
   "source": [
    "# Calificador \n",
    "puntaje = float(input(\"Introduce la calificacion:\\n \"))\n",
    "\n",
    "if puntaje >= 8 :\n",
    "    print( 'Excelente clasificacion')\n",
    "elif puntaje >= 6:\n",
    "    print(' Muy buen desempeño')\n",
    "elif puntaje >= 5:\n",
    "    print (' Usted esta en el limbo')\n",
    "else:\n",
    "    print('Desaprobado, siga intentando')\n",
    "\n"
   ]
  },
  {
   "cell_type": "code",
   "execution_count": null,
   "id": "4c31f14b",
   "metadata": {},
   "outputs": [],
   "source": []
  }
 ],
 "metadata": {
  "kernelspec": {
   "display_name": "Python 3",
   "language": "python",
   "name": "python3"
  },
  "language_info": {
   "codemirror_mode": {
    "name": "ipython",
    "version": 3
   },
   "file_extension": ".py",
   "mimetype": "text/x-python",
   "name": "python",
   "nbconvert_exporter": "python",
   "pygments_lexer": "ipython3",
   "version": "3.8.8"
  }
 },
 "nbformat": 4,
 "nbformat_minor": 5
}
