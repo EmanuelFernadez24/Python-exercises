{
 "cells": [
  {
   "cell_type": "markdown",
   "id": "21cf62dc",
   "metadata": {},
   "source": [
    "# 2.4 Booleanos"
   ]
  },
  {
   "cell_type": "markdown",
   "id": "dc2bb5e9",
   "metadata": {},
   "source": [
    "## Un booleano es un tipo de dato logico. Solo tiene dos categorias: Verdadero o Falso "
   ]
  },
  {
   "cell_type": "code",
   "execution_count": 1,
   "id": "cf042071",
   "metadata": {},
   "outputs": [
    {
     "ename": "SyntaxError",
     "evalue": "invalid syntax (<ipython-input-1-c4d37a031775>, line 1)",
     "output_type": "error",
     "traceback": [
      "\u001b[1;36m  File \u001b[1;32m\"<ipython-input-1-c4d37a031775>\"\u001b[1;36m, line \u001b[1;32m1\u001b[0m\n\u001b[1;33m    Es la minima unidad racional por lo que solo puede ser verdadero o falso\u001b[0m\n\u001b[1;37m       ^\u001b[0m\n\u001b[1;31mSyntaxError\u001b[0m\u001b[1;31m:\u001b[0m invalid syntax\n"
     ]
    }
   ],
   "source": [
    "Es la minima unidad racional por lo que solo puede ser verdadero o falso \n"
   ]
  },
  {
   "cell_type": "code",
   "execution_count": 2,
   "id": "13b48cb2",
   "metadata": {},
   "outputs": [
    {
     "data": {
      "text/plain": [
       "2"
      ]
     },
     "execution_count": 2,
     "metadata": {},
     "output_type": "execute_result"
    }
   ],
   "source": [
    "1 + 1 \n"
   ]
  },
  {
   "cell_type": "code",
   "execution_count": null,
   "id": "4a8f80b0",
   "metadata": {},
   "outputs": [],
   "source": [
    "# Se utiliza el  doble signo igual para evaluar las dos partes la dercha y la izquierda "
   ]
  },
  {
   "cell_type": "code",
   "execution_count": 3,
   "id": "d7aaa58c",
   "metadata": {},
   "outputs": [],
   "source": [
    "# En cambio si solo le pones un solo signo igual definis una variable\n"
   ]
  },
  {
   "cell_type": "code",
   "execution_count": 4,
   "id": "cbc16512",
   "metadata": {},
   "outputs": [
    {
     "data": {
      "text/plain": [
       "True"
      ]
     },
     "execution_count": 4,
     "metadata": {},
     "output_type": "execute_result"
    }
   ],
   "source": [
    "1+ 1 == 2"
   ]
  },
  {
   "cell_type": "code",
   "execution_count": 5,
   "id": "4d2d4de9",
   "metadata": {},
   "outputs": [
    {
     "data": {
      "text/plain": [
       "False"
      ]
     },
     "execution_count": 5,
     "metadata": {},
     "output_type": "execute_result"
    }
   ],
   "source": [
    "1 + 1 == 3"
   ]
  },
  {
   "cell_type": "code",
   "execution_count": 6,
   "id": "e27bb080",
   "metadata": {},
   "outputs": [],
   "source": [
    "variable = True \n"
   ]
  },
  {
   "cell_type": "code",
   "execution_count": 7,
   "id": "e89963cc",
   "metadata": {},
   "outputs": [
    {
     "data": {
      "text/plain": [
       "True"
      ]
     },
     "execution_count": 7,
     "metadata": {},
     "output_type": "execute_result"
    }
   ],
   "source": [
    "variable "
   ]
  },
  {
   "cell_type": "code",
   "execution_count": 8,
   "id": "2faa84c2",
   "metadata": {},
   "outputs": [
    {
     "data": {
      "text/plain": [
       "False"
      ]
     },
     "execution_count": 8,
     "metadata": {},
     "output_type": "execute_result"
    }
   ],
   "source": [
    "vari= False\n",
    "vari"
   ]
  },
  {
   "cell_type": "code",
   "execution_count": 9,
   "id": "541ea4b1",
   "metadata": {},
   "outputs": [],
   "source": [
    "# De esta forma almacenamos un valor logico a algo en particular\n"
   ]
  },
  {
   "cell_type": "code",
   "execution_count": 10,
   "id": "7f127961",
   "metadata": {},
   "outputs": [
    {
     "data": {
      "text/plain": [
       "True"
      ]
     },
     "execution_count": 10,
     "metadata": {},
     "output_type": "execute_result"
    }
   ],
   "source": [
    "True and True "
   ]
  },
  {
   "cell_type": "code",
   "execution_count": 11,
   "id": "e84d3cab",
   "metadata": {},
   "outputs": [
    {
     "data": {
      "text/plain": [
       "True"
      ]
     },
     "execution_count": 11,
     "metadata": {},
     "output_type": "execute_result"
    }
   ],
   "source": [
    "(2 == 1+1) and ( 3 == 1+2 )"
   ]
  },
  {
   "cell_type": "code",
   "execution_count": 12,
   "id": "353bf3fc",
   "metadata": {},
   "outputs": [],
   "source": [
    "# El and se lo usa para decir Y, y ademas permite comparar a ambos lado \n"
   ]
  },
  {
   "cell_type": "code",
   "execution_count": 13,
   "id": "2aa35268",
   "metadata": {},
   "outputs": [
    {
     "data": {
      "text/plain": [
       "False"
      ]
     },
     "execution_count": 13,
     "metadata": {},
     "output_type": "execute_result"
    }
   ],
   "source": [
    "True and False"
   ]
  },
  {
   "cell_type": "code",
   "execution_count": 14,
   "id": "bc878bce",
   "metadata": {},
   "outputs": [
    {
     "data": {
      "text/plain": [
       "False"
      ]
     },
     "execution_count": 14,
     "metadata": {},
     "output_type": "execute_result"
    }
   ],
   "source": [
    "(2==1+1) and (4 == 2+1)"
   ]
  },
  {
   "cell_type": "code",
   "execution_count": 15,
   "id": "46d387ac",
   "metadata": {},
   "outputs": [
    {
     "data": {
      "text/plain": [
       "bool"
      ]
     },
     "execution_count": 15,
     "metadata": {},
     "output_type": "execute_result"
    }
   ],
   "source": [
    "type(variable)"
   ]
  },
  {
   "cell_type": "code",
   "execution_count": null,
   "id": "f59e7ac0",
   "metadata": {},
   "outputs": [],
   "source": []
  }
 ],
 "metadata": {
  "kernelspec": {
   "display_name": "Python 3",
   "language": "python",
   "name": "python3"
  },
  "language_info": {
   "codemirror_mode": {
    "name": "ipython",
    "version": 3
   },
   "file_extension": ".py",
   "mimetype": "text/x-python",
   "name": "python",
   "nbconvert_exporter": "python",
   "pygments_lexer": "ipython3",
   "version": "3.8.8"
  }
 },
 "nbformat": 4,
 "nbformat_minor": 5
}
