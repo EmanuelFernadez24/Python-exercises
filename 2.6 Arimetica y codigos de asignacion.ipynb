{
 "cells": [
  {
   "cell_type": "markdown",
   "id": "b14b7aac",
   "metadata": {},
   "source": [
    "#  2.6 Operadores arimeticos "
   ]
  },
  {
   "cell_type": "markdown",
   "id": "02938225",
   "metadata": {},
   "source": [
    "### Los operadores arimeticos sirven principalmente para los tipos de datos numericos, si bien tienen algunas utilidades con otros tipos de datos como listas o cadenas de caracteres"
   ]
  },
  {
   "cell_type": "markdown",
   "id": "4585a025",
   "metadata": {},
   "source": [
    "## A) Adicion \n"
   ]
  },
  {
   "cell_type": "markdown",
   "id": "4f215cc0",
   "metadata": {},
   "source": [
    "#### Tambien sirve para cadenas de caracteres, tuplas y listas. Sigue la forma (a+b)"
   ]
  },
  {
   "cell_type": "code",
   "execution_count": 1,
   "id": "37088436",
   "metadata": {},
   "outputs": [
    {
     "data": {
      "text/plain": [
       "38.5"
      ]
     },
     "execution_count": 1,
     "metadata": {},
     "output_type": "execute_result"
    }
   ],
   "source": [
    "8+30.5"
   ]
  },
  {
   "cell_type": "code",
   "execution_count": 2,
   "id": "eb9fc208",
   "metadata": {},
   "outputs": [
    {
     "data": {
      "text/plain": [
       "'Hola¿Como estan?'"
      ]
     },
     "execution_count": 2,
     "metadata": {},
     "output_type": "execute_result"
    }
   ],
   "source": [
    "'Hola'+'¿Como estan?'"
   ]
  },
  {
   "cell_type": "code",
   "execution_count": 3,
   "id": "dd85b468",
   "metadata": {},
   "outputs": [],
   "source": [
    "# Hay que dejar espacio entre las cadenas de caracteres "
   ]
  },
  {
   "cell_type": "code",
   "execution_count": 4,
   "id": "525d26e8",
   "metadata": {},
   "outputs": [
    {
     "data": {
      "text/plain": [
       "'Hola¿Como estan?'"
      ]
     },
     "execution_count": 4,
     "metadata": {},
     "output_type": "execute_result"
    }
   ],
   "source": [
    "'Hola' + '¿Como estan?'"
   ]
  },
  {
   "cell_type": "code",
   "execution_count": 5,
   "id": "7fcfd551",
   "metadata": {},
   "outputs": [
    {
     "data": {
      "text/plain": [
       "'Hola  ¿Como estan?'"
      ]
     },
     "execution_count": 5,
     "metadata": {},
     "output_type": "execute_result"
    }
   ],
   "source": [
    "'Hola ' + ' ¿Como estan?' "
   ]
  },
  {
   "cell_type": "code",
   "execution_count": 6,
   "id": "4324c54a",
   "metadata": {},
   "outputs": [],
   "source": [
    "## Para concatenar dos cadenas de caracteres  lo que hacemos es sumarlas pero para que tengan los espacios necesarios se deja un espacio al principio o al final de la cadena \n"
   ]
  },
  {
   "cell_type": "markdown",
   "id": "c4799cab",
   "metadata": {},
   "source": [
    "# Sustraccion \n"
   ]
  },
  {
   "cell_type": "code",
   "execution_count": 7,
   "id": "f419c319",
   "metadata": {},
   "outputs": [],
   "source": [
    "## Solo datos numericos "
   ]
  },
  {
   "cell_type": "code",
   "execution_count": 8,
   "id": "b49a40ef",
   "metadata": {},
   "outputs": [
    {
     "data": {
      "text/plain": [
       "10.5"
      ]
     },
     "execution_count": 8,
     "metadata": {},
     "output_type": "execute_result"
    }
   ],
   "source": [
    "30-19.5"
   ]
  },
  {
   "cell_type": "markdown",
   "id": "0ab050b7",
   "metadata": {},
   "source": [
    "# Multiplicacion \n"
   ]
  },
  {
   "cell_type": "code",
   "execution_count": 9,
   "id": "d9aae462",
   "metadata": {},
   "outputs": [],
   "source": [
    "# Tambien sirve para tuplas, cadenas de caracteres y diccionarios"
   ]
  },
  {
   "cell_type": "code",
   "execution_count": 10,
   "id": "9160ad9c",
   "metadata": {},
   "outputs": [
    {
     "data": {
      "text/plain": [
       "9.0"
      ]
     },
     "execution_count": 10,
     "metadata": {},
     "output_type": "execute_result"
    }
   ],
   "source": [
    "2.5 * 3.6"
   ]
  },
  {
   "cell_type": "code",
   "execution_count": 15,
   "id": "155a799e",
   "metadata": {},
   "outputs": [
    {
     "data": {
      "text/plain": [
       "'turutututurutututurututu'"
      ]
     },
     "execution_count": 15,
     "metadata": {},
     "output_type": "execute_result"
    }
   ],
   "source": [
    "\"turututu\"*3"
   ]
  },
  {
   "cell_type": "code",
   "execution_count": null,
   "id": "c9953bde",
   "metadata": {},
   "outputs": [],
   "source": [
    "# Que es equivalente a multiplicar la cadena tres veces "
   ]
  },
  {
   "cell_type": "code",
   "execution_count": 16,
   "id": "5843f83d",
   "metadata": {},
   "outputs": [
    {
     "data": {
      "text/plain": [
       "'turututu*6'"
      ]
     },
     "execution_count": 16,
     "metadata": {},
     "output_type": "execute_result"
    }
   ],
   "source": [
    "\"turututu*6\""
   ]
  },
  {
   "cell_type": "markdown",
   "id": "efd89cb8",
   "metadata": {},
   "source": [
    "# Division "
   ]
  },
  {
   "cell_type": "code",
   "execution_count": 17,
   "id": "c58c67a4",
   "metadata": {},
   "outputs": [],
   "source": [
    "# Sigue la forma (a/b)"
   ]
  },
  {
   "cell_type": "code",
   "execution_count": 18,
   "id": "6d320558",
   "metadata": {},
   "outputs": [
    {
     "data": {
      "text/plain": [
       "2.0"
      ]
     },
     "execution_count": 18,
     "metadata": {},
     "output_type": "execute_result"
    }
   ],
   "source": [
    "10/5"
   ]
  },
  {
   "cell_type": "markdown",
   "id": "b41f573f",
   "metadata": {},
   "source": [
    "# Division entera truncada"
   ]
  },
  {
   "cell_type": "code",
   "execution_count": 19,
   "id": "67b57b81",
   "metadata": {},
   "outputs": [],
   "source": [
    "## Nos da como resultado un valor de tipo entero. Trunca(Redondea hacia abajo) los valores decimales. Sigue la forma (a//b)"
   ]
  },
  {
   "cell_type": "code",
   "execution_count": 20,
   "id": "265dcabc",
   "metadata": {},
   "outputs": [
    {
     "data": {
      "text/plain": [
       "2"
      ]
     },
     "execution_count": 20,
     "metadata": {},
     "output_type": "execute_result"
    }
   ],
   "source": [
    "10//5"
   ]
  },
  {
   "cell_type": "code",
   "execution_count": 21,
   "id": "bcf566a0",
   "metadata": {},
   "outputs": [
    {
     "data": {
      "text/plain": [
       "1"
      ]
     },
     "execution_count": 21,
     "metadata": {},
     "output_type": "execute_result"
    }
   ],
   "source": [
    "10//8"
   ]
  },
  {
   "cell_type": "code",
   "execution_count": 22,
   "id": "c4a3718a",
   "metadata": {},
   "outputs": [
    {
     "data": {
      "text/plain": [
       "1.25"
      ]
     },
     "execution_count": 22,
     "metadata": {},
     "output_type": "execute_result"
    }
   ],
   "source": [
    "10/8"
   ]
  },
  {
   "cell_type": "markdown",
   "id": "82007fea",
   "metadata": {},
   "source": [
    "# Modulo o residuo de la division:"
   ]
  },
  {
   "cell_type": "code",
   "execution_count": 23,
   "id": "037a799c",
   "metadata": {},
   "outputs": [],
   "source": [
    "# Sigue la forma (a%b)"
   ]
  },
  {
   "cell_type": "code",
   "execution_count": null,
   "id": "6034f9c6",
   "metadata": {},
   "outputs": [],
   "source": []
  },
  {
   "cell_type": "code",
   "execution_count": 24,
   "id": "2b4da905",
   "metadata": {},
   "outputs": [
    {
     "name": "stdout",
     "output_type": "stream",
     "text": [
      "2\n"
     ]
    }
   ],
   "source": [
    "print(10%8)"
   ]
  },
  {
   "cell_type": "code",
   "execution_count": 25,
   "id": "8e4bb8c1",
   "metadata": {},
   "outputs": [
    {
     "data": {
      "text/plain": [
       "1"
      ]
     },
     "execution_count": 25,
     "metadata": {},
     "output_type": "execute_result"
    }
   ],
   "source": [
    "3%2"
   ]
  },
  {
   "cell_type": "code",
   "execution_count": 26,
   "id": "bfef2d12",
   "metadata": {},
   "outputs": [
    {
     "data": {
      "text/plain": [
       "1"
      ]
     },
     "execution_count": 26,
     "metadata": {},
     "output_type": "execute_result"
    }
   ],
   "source": [
    "15%7"
   ]
  },
  {
   "cell_type": "markdown",
   "id": "b3b2afcf",
   "metadata": {},
   "source": [
    "# Exponenciacion"
   ]
  },
  {
   "cell_type": "code",
   "execution_count": 27,
   "id": "1af6946a",
   "metadata": {},
   "outputs": [
    {
     "data": {
      "text/plain": [
       "16"
      ]
     },
     "execution_count": 27,
     "metadata": {},
     "output_type": "execute_result"
    }
   ],
   "source": [
    "2**4"
   ]
  },
  {
   "cell_type": "code",
   "execution_count": 28,
   "id": "566cc872",
   "metadata": {},
   "outputs": [
    {
     "data": {
      "text/plain": [
       "312500000"
      ]
     },
     "execution_count": 28,
     "metadata": {},
     "output_type": "execute_result"
    }
   ],
   "source": [
    "50**5"
   ]
  },
  {
   "cell_type": "markdown",
   "id": "204eb738",
   "metadata": {},
   "source": [
    "# LOS OPERADORES DE ASIGNACION  "
   ]
  },
  {
   "cell_type": "code",
   "execution_count": 29,
   "id": "1f6c3827",
   "metadata": {},
   "outputs": [],
   "source": [
    "# Los operadores de asignacion nos facilitan escribir el codigo "
   ]
  },
  {
   "cell_type": "code",
   "execution_count": 30,
   "id": "e9ef60d2",
   "metadata": {},
   "outputs": [],
   "source": [
    "# Estos son lo siguientes"
   ]
  },
  {
   "cell_type": "code",
   "execution_count": 32,
   "id": "099ac8f8",
   "metadata": {},
   "outputs": [],
   "source": [
    "## [=; -=; +=; /=; *=; //= ; **=]"
   ]
  },
  {
   "cell_type": "code",
   "execution_count": 33,
   "id": "c69a7d95",
   "metadata": {},
   "outputs": [],
   "source": [
    "edad =10 \n"
   ]
  },
  {
   "cell_type": "code",
   "execution_count": 34,
   "id": "e7e294ad",
   "metadata": {},
   "outputs": [
    {
     "name": "stdout",
     "output_type": "stream",
     "text": [
      "10\n"
     ]
    }
   ],
   "source": [
    "print(edad)"
   ]
  },
  {
   "cell_type": "code",
   "execution_count": 35,
   "id": "193c8e3b",
   "metadata": {},
   "outputs": [],
   "source": [
    "edad = edad - 3"
   ]
  },
  {
   "cell_type": "code",
   "execution_count": 36,
   "id": "d0c4c4d5",
   "metadata": {},
   "outputs": [
    {
     "name": "stdout",
     "output_type": "stream",
     "text": [
      "7\n"
     ]
    }
   ],
   "source": [
    "print (edad)"
   ]
  },
  {
   "cell_type": "code",
   "execution_count": 37,
   "id": "7f03c148",
   "metadata": {},
   "outputs": [],
   "source": [
    "## Nos permiten resumir este codigo con una sola linea"
   ]
  },
  {
   "cell_type": "code",
   "execution_count": 38,
   "id": "54870480",
   "metadata": {},
   "outputs": [
    {
     "name": "stdout",
     "output_type": "stream",
     "text": [
      "10\n"
     ]
    }
   ],
   "source": [
    "edad =10 \n",
    "print(edad)"
   ]
  },
  {
   "cell_type": "code",
   "execution_count": 41,
   "id": "25030389",
   "metadata": {},
   "outputs": [],
   "source": [
    "edad -= 3"
   ]
  },
  {
   "cell_type": "code",
   "execution_count": 42,
   "id": "da0ea307",
   "metadata": {},
   "outputs": [
    {
     "name": "stdout",
     "output_type": "stream",
     "text": [
      "1\n"
     ]
    }
   ],
   "source": [
    "print(edad)"
   ]
  },
  {
   "cell_type": "code",
   "execution_count": 43,
   "id": "860f56bc",
   "metadata": {},
   "outputs": [],
   "source": [
    "edad +=50"
   ]
  },
  {
   "cell_type": "code",
   "execution_count": 44,
   "id": "64bda401",
   "metadata": {},
   "outputs": [
    {
     "name": "stdout",
     "output_type": "stream",
     "text": [
      "51\n"
     ]
    }
   ],
   "source": [
    "print(edad)"
   ]
  },
  {
   "cell_type": "code",
   "execution_count": 45,
   "id": "68a83454",
   "metadata": {},
   "outputs": [],
   "source": [
    "edad /= 20"
   ]
  },
  {
   "cell_type": "code",
   "execution_count": 46,
   "id": "0a37bf29",
   "metadata": {},
   "outputs": [
    {
     "name": "stdout",
     "output_type": "stream",
     "text": [
      "2.55\n"
     ]
    }
   ],
   "source": [
    "print (edad)"
   ]
  },
  {
   "cell_type": "code",
   "execution_count": 47,
   "id": "3179f31b",
   "metadata": {},
   "outputs": [],
   "source": [
    "edad //= 2"
   ]
  },
  {
   "cell_type": "code",
   "execution_count": 48,
   "id": "78b64281",
   "metadata": {},
   "outputs": [
    {
     "name": "stdout",
     "output_type": "stream",
     "text": [
      "1.0\n"
     ]
    }
   ],
   "source": [
    "print (edad)"
   ]
  },
  {
   "cell_type": "code",
   "execution_count": 49,
   "id": "27059a3c",
   "metadata": {},
   "outputs": [],
   "source": [
    "## De esta forma con lo operadores de asignacion ahorramos codigos "
   ]
  },
  {
   "cell_type": "code",
   "execution_count": null,
   "id": "dcc70655",
   "metadata": {},
   "outputs": [],
   "source": []
  }
 ],
 "metadata": {
  "kernelspec": {
   "display_name": "Python 3",
   "language": "python",
   "name": "python3"
  },
  "language_info": {
   "codemirror_mode": {
    "name": "ipython",
    "version": 3
   },
   "file_extension": ".py",
   "mimetype": "text/x-python",
   "name": "python",
   "nbconvert_exporter": "python",
   "pygments_lexer": "ipython3",
   "version": "3.8.8"
  }
 },
 "nbformat": 4,
 "nbformat_minor": 5
}
