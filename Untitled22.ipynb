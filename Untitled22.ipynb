{
 "cells": [
  {
   "cell_type": "markdown",
   "id": "dafa0afb",
   "metadata": {},
   "source": [
    "# 4.4 Ejercicios "
   ]
  },
  {
   "cell_type": "markdown",
   "id": "0f3b1473",
   "metadata": {},
   "source": [
    "####  1) Realiza un programa con dos numeros por teclado y permita elegir entre tres opciones en un menu:\n",
    "       .Mostrar la suma de dos numeros \n",
    "       .Mostrar la resta de dos numeros (el primero menos el segundo)\n",
    "       .Mostrar la multiplicacion de dos numeros\n",
    "   ##### Si ingresamos una opcion invalida, el programa informara que es incorrecto"
   ]
  },
  {
   "cell_type": "code",
   "execution_count": 8,
   "id": "333bdad9",
   "metadata": {},
   "outputs": [
    {
     "name": "stdout",
     "output_type": "stream",
     "text": [
      "Introduce un numero: \n",
      "34.9\n",
      "Introduce otro numero: \n",
      "89.9\n",
      "¿Que quieres hacer?\n",
      "[1]Sumar los dos numeros\n",
      "[2]Restar los dos numeros\n",
      "[3]Multiplicar los dos numeros\n",
      "Ingresa la opcion: \n",
      "3\n",
      " el producto de 34.9 * 89.9 es 3137.51\n"
     ]
    }
   ],
   "source": [
    "n_1 = float(input(\"Introduce un numero: \\n\"))\n",
    "n_2 = float(input(\"Introduce otro numero: \\n\"))\n",
    "\n",
    "print(\"¿Que quieres hacer?\")\n",
    "print(\"[1]Sumar los dos numeros\")\n",
    "print(\"[2]Restar los dos numeros\")\n",
    "print(\"[3]Multiplicar los dos numeros\")\n",
    "\n",
    "opcion = input(\"Ingresa la opcion: \\n\")\n",
    "\n",
    "if opcion==\"1\":\n",
    "    print(f\"La suma de {n_1}+ {n_2} es {n_1 + n_2}\")\n",
    "elif opcion==\"2\":\n",
    "    print(f\"La resta de {n_1}-{n_2} es {n_1 + n_2}\")\n",
    "elif opcion ==\"3\":\n",
    "    print(f\" el producto de {n_1} * {n_2} es {n_1 * n_2}\")\n",
    "else:\n",
    "    print(\"La opcion ingresada es invalida\")"
   ]
  },
  {
   "cell_type": "markdown",
   "id": "6d16b7e8",
   "metadata": {},
   "source": [
    "### 2) Dada una lista de strings (cadena de caracteres), haga un programa que devuelva:\n",
    "\n",
    "        . El numero de strings que tienen una longitud de 2 o mas caracteres, y cuyo primer y ultimo caracter son iguales.\n",
    "        . Una lista nueva con solo estos strings \n",
    "        "
   ]
  },
  {
   "cell_type": "code",
   "execution_count": 27,
   "id": "eb55ba15",
   "metadata": {},
   "outputs": [
    {
     "data": {
      "text/plain": [
       "(5, ['avila', 'este', 'neuquen', 'narracion', ' greg '])"
      ]
     },
     "execution_count": 27,
     "metadata": {},
     "output_type": "execute_result"
    }
   ],
   "source": [
    "lista = ['avila','teta','este','pampa','neuquen','narracion','lento',' greg ']\n",
    "\n",
    "lista2=[]\n",
    "suma = 0\n",
    "\n",
    "for item in lista:\n",
    "    if(len(lista) >=2 and (item[0]== item[-1])):\n",
    "        suma += 1\n",
    "        lista2.append(item)\n",
    "        \n",
    "suma,lista2"
   ]
  },
  {
   "cell_type": "markdown",
   "id": "25785e63",
   "metadata": {},
   "source": [
    "#### 3) Realiza un programa que pida un numero impar. Si el usuario no ingresa un numero impar, debe repetirseel proceso hasta que ingrese un numero valido"
   ]
  },
  {
   "cell_type": "code",
   "execution_count": 29,
   "id": "02238a90",
   "metadata": {},
   "outputs": [
    {
     "name": "stdout",
     "output_type": "stream",
     "text": [
      "Ingrese un numero impar: \n",
      "69\n"
     ]
    }
   ],
   "source": [
    "while(True):\n",
    "    numero = int(input(\"Ingrese un numero impar: \\n\"))\n",
    "    if (numero %2 != 0):\n",
    "        break\n",
    "    "
   ]
  },
  {
   "cell_type": "markdown",
   "id": "eb3e5fb3",
   "metadata": {},
   "source": [
    "### 4) Realiza un programa que sume todos los numero pares  desde el 0 hasta el 100"
   ]
  },
  {
   "cell_type": "markdown",
   "id": "34e38f9e",
   "metadata": {},
   "source": [
    "### Protip: Utilizar funciones sum() y range(). El tercer parametro de range (inicio,fin,salto) indica el incremento entre los valores del rango "
   ]
  },
  {
   "cell_type": "code",
   "execution_count": 31,
   "id": "90f42afa",
   "metadata": {},
   "outputs": [
    {
     "data": {
      "text/plain": [
       "2550"
      ]
     },
     "execution_count": 31,
     "metadata": {},
     "output_type": "execute_result"
    }
   ],
   "source": [
    "### Solucion 1\n",
    "##Utiliza la funcion range (0,101,2)\n",
    "\n",
    "sum(list(range(0,101,2)))"
   ]
  },
  {
   "cell_type": "code",
   "execution_count": 34,
   "id": "717658fb",
   "metadata": {},
   "outputs": [
    {
     "name": "stdout",
     "output_type": "stream",
     "text": [
      "2550\n"
     ]
    }
   ],
   "source": [
    "### Solucion 2 \n",
    "\n",
    "num=0\n",
    "suma=0\n",
    "\n",
    "while num <= 100:\n",
    "    if(num % 2 == 0):  # Condicion se cumple\n",
    "        suma += num\n",
    "    num += 1\n",
    "    \n",
    "print (suma)\n"
   ]
  },
  {
   "cell_type": "code",
   "execution_count": null,
   "id": "b7ad13d9",
   "metadata": {},
   "outputs": [],
   "source": []
  }
 ],
 "metadata": {
  "kernelspec": {
   "display_name": "Python 3",
   "language": "python",
   "name": "python3"
  },
  "language_info": {
   "codemirror_mode": {
    "name": "ipython",
    "version": 3
   },
   "file_extension": ".py",
   "mimetype": "text/x-python",
   "name": "python",
   "nbconvert_exporter": "python",
   "pygments_lexer": "ipython3",
   "version": "3.8.8"
  }
 },
 "nbformat": 4,
 "nbformat_minor": 5
}
