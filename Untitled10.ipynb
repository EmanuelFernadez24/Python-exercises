{
 "cells": [
  {
   "cell_type": "markdown",
   "id": "ab45646f",
   "metadata": {},
   "source": [
    "# 3.1 Indices y Slicing \n",
    "\n",
    "## Los numeros ordenados asociados a las variables que nos permiten identificar los elementos por su posicion \n",
    "\n",
    "## Por ejemplo, cada elemento de una cadena tiene su indice "
   ]
  },
  {
   "cell_type": "code",
   "execution_count": 9,
   "id": "9b448b32",
   "metadata": {},
   "outputs": [],
   "source": [
    "texto = 'Esta cadena'\n"
   ]
  },
  {
   "cell_type": "markdown",
   "id": "407bb0ff",
   "metadata": {},
   "source": [
    "## El primer elemento siempre tiene el indice 0"
   ]
  },
  {
   "cell_type": "markdown",
   "id": "02bfa711",
   "metadata": {},
   "source": [
    "## porque con este numero inicia la numeracion "
   ]
  },
  {
   "cell_type": "code",
   "execution_count": 10,
   "id": "ec026ae6",
   "metadata": {},
   "outputs": [
    {
     "name": "stdout",
     "output_type": "stream",
     "text": [
      "E s t a   c a\n"
     ]
    }
   ],
   "source": [
    "print(texto[0],texto[1], texto[2], texto[3], texto[4], texto[5], texto[6])"
   ]
  },
  {
   "cell_type": "markdown",
   "id": "4aa25f2f",
   "metadata": {},
   "source": [
    "## Tambien a causa de esto, el indice del ultimo elemento se diferencia del numero total de elementos por una unidad"
   ]
  },
  {
   "cell_type": "markdown",
   "id": "d8954105",
   "metadata": {},
   "source": [
    "##(texto[0], texto[1],..., texto[n-3], texto[n-2], texto[n-1])"
   ]
  },
  {
   "cell_type": "code",
   "execution_count": 11,
   "id": "b44c5a67",
   "metadata": {},
   "outputs": [
    {
     "ename": "IndexError",
     "evalue": "string index out of range",
     "output_type": "error",
     "traceback": [
      "\u001b[1;31m---------------------------------------------------------------------------\u001b[0m",
      "\u001b[1;31mIndexError\u001b[0m                                Traceback (most recent call last)",
      "\u001b[1;32m<ipython-input-11-7e99cccbd71a>\u001b[0m in \u001b[0;36m<module>\u001b[1;34m\u001b[0m\n\u001b[1;32m----> 1\u001b[1;33m \u001b[0mprint\u001b[0m\u001b[1;33m(\u001b[0m\u001b[0mtexto\u001b[0m\u001b[1;33m[\u001b[0m\u001b[1;36m4\u001b[0m\u001b[1;33m]\u001b[0m\u001b[1;33m,\u001b[0m\u001b[0mtexto\u001b[0m\u001b[1;33m[\u001b[0m\u001b[1;36m5\u001b[0m\u001b[1;33m]\u001b[0m\u001b[1;33m,\u001b[0m \u001b[0mtexto\u001b[0m\u001b[1;33m[\u001b[0m\u001b[1;36m6\u001b[0m\u001b[1;33m]\u001b[0m\u001b[1;33m,\u001b[0m \u001b[0mtexto\u001b[0m\u001b[1;33m[\u001b[0m\u001b[1;36m7\u001b[0m\u001b[1;33m]\u001b[0m\u001b[1;33m,\u001b[0m \u001b[0mtexto\u001b[0m\u001b[1;33m[\u001b[0m\u001b[1;36m8\u001b[0m\u001b[1;33m]\u001b[0m\u001b[1;33m,\u001b[0m \u001b[0mtexto\u001b[0m\u001b[1;33m[\u001b[0m\u001b[1;36m9\u001b[0m\u001b[1;33m]\u001b[0m\u001b[1;33m,\u001b[0m \u001b[0mtexto\u001b[0m\u001b[1;33m[\u001b[0m\u001b[1;36m10\u001b[0m\u001b[1;33m]\u001b[0m\u001b[1;33m,\u001b[0m\u001b[0mtexto\u001b[0m\u001b[1;33m[\u001b[0m\u001b[1;36m11\u001b[0m\u001b[1;33m]\u001b[0m\u001b[1;33m,\u001b[0m \u001b[0mtexto\u001b[0m\u001b[1;33m[\u001b[0m\u001b[1;36m12\u001b[0m\u001b[1;33m]\u001b[0m\u001b[1;33m,\u001b[0m \u001b[0mtexto\u001b[0m\u001b[1;33m[\u001b[0m\u001b[1;36m13\u001b[0m\u001b[1;33m]\u001b[0m\u001b[1;33m,\u001b[0m \u001b[0mtexto\u001b[0m\u001b[1;33m[\u001b[0m\u001b[1;36m14\u001b[0m\u001b[1;33m]\u001b[0m\u001b[1;33m,\u001b[0m \u001b[0mtexto\u001b[0m\u001b[1;33m[\u001b[0m\u001b[1;36m15\u001b[0m\u001b[1;33m]\u001b[0m\u001b[1;33m,\u001b[0m \u001b[0mtexto\u001b[0m\u001b[1;33m[\u001b[0m\u001b[1;36m16\u001b[0m\u001b[1;33m]\u001b[0m\u001b[1;33m)\u001b[0m\u001b[1;33m\u001b[0m\u001b[1;33m\u001b[0m\u001b[0m\n\u001b[0m",
      "\u001b[1;31mIndexError\u001b[0m: string index out of range"
     ]
    }
   ],
   "source": [
    "print(texto[4],texto[5], texto[6], texto[7], texto[8], texto[9], texto[10],texto[11], texto[12], texto[13], texto[14], texto[15], texto[16])"
   ]
  },
  {
   "cell_type": "markdown",
   "id": "ef3fc079",
   "metadata": {},
   "source": [
    "## Para cada elemento tambien existe un indice inverso que realiza una numeracion desde el ultimo elemento hasta el primero, empezando la cuenta en -1"
   ]
  },
  {
   "cell_type": "code",
   "execution_count": 8,
   "id": "eebb1799",
   "metadata": {},
   "outputs": [],
   "source": [
    "# -6/-5/-4/-3/-2/-1\n",
    "# C/A/D/E/N/A\n",
    "# 5/6/7/8/9/10"
   ]
  },
  {
   "cell_type": "code",
   "execution_count": 12,
   "id": "a142914e",
   "metadata": {},
   "outputs": [
    {
     "name": "stdout",
     "output_type": "stream",
     "text": [
      "c a d e n a\n"
     ]
    }
   ],
   "source": [
    "print(texto[-6],texto[-5], texto[-4], texto[-3], texto[-2], texto[-1])"
   ]
  },
  {
   "cell_type": "code",
   "execution_count": null,
   "id": "4d8cdb3d",
   "metadata": {},
   "outputs": [],
   "source": []
  },
  {
   "cell_type": "code",
   "execution_count": null,
   "id": "7b6551a3",
   "metadata": {},
   "outputs": [],
   "source": []
  },
  {
   "cell_type": "markdown",
   "id": "eb51ec22",
   "metadata": {},
   "source": [
    "# SLICING "
   ]
  },
  {
   "cell_type": "code",
   "execution_count": 14,
   "id": "f563243d",
   "metadata": {},
   "outputs": [],
   "source": [
    "## Gracias a los podemos seleccionar una secuencia de elementos de una variable. Esto se conoce como slicing"
   ]
  },
  {
   "cell_type": "markdown",
   "id": "a48f1e26",
   "metadata": {},
   "source": [
    "### La secuencia de elementos la definimos con el formato [a:b]. Esto es un rango de valores, y el slicing va a devolvernos desde el elemnto a hasta el elemnto previo al b, asi que vamos a decir que b esta excluido del rango"
   ]
  },
  {
   "cell_type": "code",
   "execution_count": 16,
   "id": "8e259557",
   "metadata": {},
   "outputs": [],
   "source": [
    "# PROTIP: Cuando un rango de valores excluye alguno de sus limites( Siendo a el limite inferior, y b el limite superior), se dice que el rango es abierto \n",
    " #__> Abierto por la derecha. si excluye a \"b\"\n",
    "#___> Abierto por la izquierda, si excluye a \"a\""
   ]
  },
  {
   "cell_type": "code",
   "execution_count": 18,
   "id": "e72fef90",
   "metadata": {},
   "outputs": [
    {
     "data": {
      "text/plain": [
       "'Est'"
      ]
     },
     "execution_count": 18,
     "metadata": {},
     "output_type": "execute_result"
    }
   ],
   "source": [
    "texto[0:3]"
   ]
  },
  {
   "cell_type": "code",
   "execution_count": 19,
   "id": "9fd40052",
   "metadata": {},
   "outputs": [
    {
     "data": {
      "text/plain": [
       "'ad'"
      ]
     },
     "execution_count": 19,
     "metadata": {},
     "output_type": "execute_result"
    }
   ],
   "source": [
    "texto[6:8]"
   ]
  },
  {
   "cell_type": "code",
   "execution_count": 20,
   "id": "61dbe8d6",
   "metadata": {},
   "outputs": [
    {
     "data": {
      "text/plain": [
       "'caden'"
      ]
     },
     "execution_count": 20,
     "metadata": {},
     "output_type": "execute_result"
    }
   ],
   "source": [
    "texto[-6:-1]\n"
   ]
  },
  {
   "cell_type": "markdown",
   "id": "62724c05",
   "metadata": {},
   "source": [
    "### Podemos omitir alguno de los limites:\n",
    " \n",
    " __ Si omitimos a [:b], empezara la secuencia desde el indice 0. (Equivale a escribir [0:b])\n",
    " __ Si omitimos b [a:], empezara la secuencia con el ultimo elemento. ( Equivale a escribir [a: n-1])"
   ]
  },
  {
   "cell_type": "code",
   "execution_count": 21,
   "id": "e5eaa9cf",
   "metadata": {},
   "outputs": [
    {
     "data": {
      "text/plain": [
       "'Esta caden'"
      ]
     },
     "execution_count": 21,
     "metadata": {},
     "output_type": "execute_result"
    }
   ],
   "source": [
    "texto[:10]"
   ]
  },
  {
   "cell_type": "code",
   "execution_count": 22,
   "id": "76e872d7",
   "metadata": {},
   "outputs": [
    {
     "data": {
      "text/plain": [
       "'Esta '"
      ]
     },
     "execution_count": 22,
     "metadata": {},
     "output_type": "execute_result"
    }
   ],
   "source": [
    "texto [:-6]"
   ]
  },
  {
   "cell_type": "code",
   "execution_count": 24,
   "id": "2611f28f",
   "metadata": {},
   "outputs": [
    {
     "data": {
      "text/plain": [
       "'a cadena'"
      ]
     },
     "execution_count": 24,
     "metadata": {},
     "output_type": "execute_result"
    }
   ],
   "source": [
    "texto[3:]"
   ]
  },
  {
   "cell_type": "code",
   "execution_count": null,
   "id": "9fa23cc7",
   "metadata": {},
   "outputs": [],
   "source": []
  }
 ],
 "metadata": {
  "kernelspec": {
   "display_name": "Python 3",
   "language": "python",
   "name": "python3"
  },
  "language_info": {
   "codemirror_mode": {
    "name": "ipython",
    "version": 3
   },
   "file_extension": ".py",
   "mimetype": "text/x-python",
   "name": "python",
   "nbconvert_exporter": "python",
   "pygments_lexer": "ipython3",
   "version": "3.8.8"
  }
 },
 "nbformat": 4,
 "nbformat_minor": 5
}
