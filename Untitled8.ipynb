{
 "cells": [
  {
   "cell_type": "markdown",
   "id": "c346c768",
   "metadata": {},
   "source": [
    "#  2.9 Formateo "
   ]
  },
  {
   "cell_type": "code",
   "execution_count": 2,
   "id": "c5acdf2d",
   "metadata": {},
   "outputs": [],
   "source": [
    "# Propiedad de dejarnos espacios que al final definimos como rellenarlos "
   ]
  },
  {
   "cell_type": "code",
   "execution_count": 6,
   "id": "463fab87",
   "metadata": {},
   "outputs": [
    {
     "data": {
      "text/plain": [
       "'1 es el primer valor y 2 el segundo valor'"
      ]
     },
     "execution_count": 6,
     "metadata": {},
     "output_type": "execute_result"
    }
   ],
   "source": [
    "'{} es el primer valor y {} el segundo valor'.format(1,2)"
   ]
  },
  {
   "cell_type": "code",
   "execution_count": 7,
   "id": "e7a675a3",
   "metadata": {},
   "outputs": [],
   "source": [
    "# Tambien podemos cambiar el orden en que van a ser asignados los valores que le pasamos "
   ]
  },
  {
   "cell_type": "code",
   "execution_count": 9,
   "id": "60e8dede",
   "metadata": {},
   "outputs": [
    {
     "data": {
      "text/plain": [
       "'En este caso alteramos el orden y el Dos aparece primero, luego el Uno'"
      ]
     },
     "execution_count": 9,
     "metadata": {},
     "output_type": "execute_result"
    }
   ],
   "source": [
    "'En este caso alteramos el orden y el {1} aparece primero, luego el {0}'.format('Uno','Dos')"
   ]
  },
  {
   "cell_type": "code",
   "execution_count": 10,
   "id": "4f024349",
   "metadata": {},
   "outputs": [],
   "source": [
    "# De esta manera con lo anterior, en la primera llave va a colocar el argumeto que este en la posicion 1 y en la segunda llave va a colocar el argumento de la posicion 0"
   ]
  },
  {
   "cell_type": "code",
   "execution_count": 12,
   "id": "1f834780",
   "metadata": {},
   "outputs": [
    {
     "name": "stdout",
     "output_type": "stream",
     "text": [
      "El valor de la cartuja de parma es 0.7\n"
     ]
    }
   ],
   "source": [
    "nombre= 'la cartuja de parma'\n",
    "\n",
    "x = .7\n",
    "\n",
    "print(f'El valor de {nombre} es', x)"
   ]
  },
  {
   "cell_type": "code",
   "execution_count": 13,
   "id": "be50afc6",
   "metadata": {},
   "outputs": [],
   "source": [
    "# Al colocar \"f\" es que va a evaluar el valor de nombre dentro de la llaves, por lo que en vez de colocar el nombre de la variable te coloca el VALOR DE LA VARIABLE"
   ]
  },
  {
   "cell_type": "markdown",
   "id": "286a941c",
   "metadata": {},
   "source": [
    "## Tambien podemos aplicar metodos "
   ]
  },
  {
   "cell_type": "code",
   "execution_count": 14,
   "id": "c4bcc757",
   "metadata": {},
   "outputs": [
    {
     "name": "stdout",
     "output_type": "stream",
     "text": [
      "El valor de La Cartuja De Parma\n",
      " es 0.7 dolares por papel\n"
     ]
    }
   ],
   "source": [
    "print(f'El valor de {nombre.title()}\\n es', x, 'dolares por papel')"
   ]
  },
  {
   "cell_type": "code",
   "execution_count": 17,
   "id": "0ce7d0dd",
   "metadata": {},
   "outputs": [],
   "source": [
    "# Lo que hace title es capitalizar, es decir porner mayusculas en los nombres y con \\n salteamos espacio"
   ]
  },
  {
   "cell_type": "code",
   "execution_count": 20,
   "id": "7ca9d22f",
   "metadata": {},
   "outputs": [
    {
     "name": "stdout",
     "output_type": "stream",
     "text": [
      "{'uno': 0.7, 'dos': 10.7}\n"
     ]
    }
   ],
   "source": [
    "diccionario = {'uno': x, 'dos': x.__add__(10)};\n",
    "\n",
    "print(diccionario)"
   ]
  },
  {
   "cell_type": "code",
   "execution_count": null,
   "id": "4a5560a3",
   "metadata": {},
   "outputs": [],
   "source": [
    "print(f'{nombre.title()}cuesta{diccionario[\"uno\"]} pesos \\n y el otro libro {diccionario[\"dos\"]} pesos')"
   ]
  }
 ],
 "metadata": {
  "kernelspec": {
   "display_name": "Python 3",
   "language": "python",
   "name": "python3"
  },
  "language_info": {
   "codemirror_mode": {
    "name": "ipython",
    "version": 3
   },
   "file_extension": ".py",
   "mimetype": "text/x-python",
   "name": "python",
   "nbconvert_exporter": "python",
   "pygments_lexer": "ipython3",
   "version": "3.8.8"
  }
 },
 "nbformat": 4,
 "nbformat_minor": 5
}
