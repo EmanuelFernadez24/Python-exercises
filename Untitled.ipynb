{
 "cells": [
  {
   "cell_type": "code",
   "execution_count": 1,
   "id": "cd84b5da",
   "metadata": {},
   "outputs": [
    {
     "data": {
      "text/plain": [
       "3"
      ]
     },
     "execution_count": 1,
     "metadata": {},
     "output_type": "execute_result"
    }
   ],
   "source": [
    "1+ 2\n"
   ]
  },
  {
   "cell_type": "code",
   "execution_count": 2,
   "id": "d077f0e3",
   "metadata": {},
   "outputs": [
    {
     "data": {
      "text/plain": [
       "10"
      ]
     },
     "execution_count": 2,
     "metadata": {},
     "output_type": "execute_result"
    }
   ],
   "source": [
    "2*5"
   ]
  },
  {
   "cell_type": "markdown",
   "id": "5c02a33a",
   "metadata": {},
   "source": [
    "# Python tiene 4 tipos de variables para almacernar Numeros"
   ]
  },
  {
   "cell_type": "markdown",
   "id": "1907ff7e",
   "metadata": {},
   "source": [
    "## Int"
   ]
  },
  {
   "cell_type": "markdown",
   "id": "488dd16e",
   "metadata": {},
   "source": [
    "###Para nunmeros enteros\n"
   ]
  },
  {
   "cell_type": "code",
   "execution_count": 3,
   "id": "0bd110c8",
   "metadata": {},
   "outputs": [],
   "source": [
    "x = 3\n"
   ]
  },
  {
   "cell_type": "code",
   "execution_count": 4,
   "id": "a07a156a",
   "metadata": {},
   "outputs": [
    {
     "ename": "NameError",
     "evalue": "name 'x' is not defined",
     "output_type": "error",
     "traceback": [
      "\u001b[1;31m---------------------------------------------------------------------------\u001b[0m",
      "\u001b[1;31mNameError\u001b[0m                                 Traceback (most recent call last)",
      "\u001b[1;32m<ipython-input-4-6fcf9dfbd479>\u001b[0m in \u001b[0;36m<module>\u001b[1;34m\u001b[0m\n\u001b[1;32m----> 1\u001b[1;33m \u001b[0mx\u001b[0m\u001b[1;33m\u001b[0m\u001b[1;33m\u001b[0m\u001b[0m\n\u001b[0m",
      "\u001b[1;31mNameError\u001b[0m: name 'x' is not defined"
     ]
    }
   ],
   "source": [
    "x"
   ]
  },
  {
   "cell_type": "code",
   "execution_count": 5,
   "id": "b42eb499",
   "metadata": {},
   "outputs": [],
   "source": [
    "x=3\n"
   ]
  },
  {
   "cell_type": "code",
   "execution_count": 6,
   "id": "e33d9f51",
   "metadata": {},
   "outputs": [
    {
     "data": {
      "text/plain": [
       "3"
      ]
     },
     "execution_count": 6,
     "metadata": {},
     "output_type": "execute_result"
    }
   ],
   "source": [
    "x"
   ]
  },
  {
   "cell_type": "code",
   "execution_count": 7,
   "id": "36afe679",
   "metadata": {},
   "outputs": [
    {
     "data": {
      "text/plain": [
       "16"
      ]
     },
     "execution_count": 7,
     "metadata": {},
     "output_type": "execute_result"
    }
   ],
   "source": [
    "x + x.__add__(10)"
   ]
  },
  {
   "cell_type": "code",
   "execution_count": 10,
   "id": "15202066",
   "metadata": {},
   "outputs": [],
   "source": [
    "x2= x.__add__(60)\n",
    "\n"
   ]
  },
  {
   "cell_type": "code",
   "execution_count": 11,
   "id": "c84c05cf",
   "metadata": {},
   "outputs": [
    {
     "data": {
      "text/plain": [
       "63"
      ]
     },
     "execution_count": 11,
     "metadata": {},
     "output_type": "execute_result"
    }
   ],
   "source": [
    "x2"
   ]
  },
  {
   "cell_type": "markdown",
   "id": "fd9f70fa",
   "metadata": {},
   "source": [
    "## Enteros "
   ]
  },
  {
   "cell_type": "code",
   "execution_count": 8,
   "id": "b80a08ad",
   "metadata": {},
   "outputs": [],
   "source": [
    "## Para numeros enteros "
   ]
  },
  {
   "cell_type": "code",
   "execution_count": 12,
   "id": "bee46d0f",
   "metadata": {},
   "outputs": [],
   "source": [
    "y= 4.5\n"
   ]
  },
  {
   "cell_type": "code",
   "execution_count": 13,
   "id": "da26a936",
   "metadata": {},
   "outputs": [
    {
     "data": {
      "text/plain": [
       "4.5"
      ]
     },
     "execution_count": 13,
     "metadata": {},
     "output_type": "execute_result"
    }
   ],
   "source": [
    "y"
   ]
  },
  {
   "cell_type": "code",
   "execution_count": 14,
   "id": "33dc214a",
   "metadata": {},
   "outputs": [
    {
     "data": {
      "text/plain": [
       "float"
      ]
     },
     "execution_count": 14,
     "metadata": {},
     "output_type": "execute_result"
    }
   ],
   "source": [
    "type(y) ## (Te pasa el tipo de dato que es la funcion type)"
   ]
  },
  {
   "cell_type": "code",
   "execution_count": 15,
   "id": "995824c6",
   "metadata": {},
   "outputs": [
    {
     "data": {
      "text/plain": [
       "int"
      ]
     },
     "execution_count": 15,
     "metadata": {},
     "output_type": "execute_result"
    }
   ],
   "source": [
    "type(x)"
   ]
  },
  {
   "cell_type": "markdown",
   "id": "61c9a181",
   "metadata": {},
   "source": [
    "## Complex\n"
   ]
  },
  {
   "cell_type": "code",
   "execution_count": 16,
   "id": "71f0131d",
   "metadata": {},
   "outputs": [],
   "source": [
    "## Para numeros complejos, osea, de la forma (A+Bj) donde la unidad imaginaria esta representada por j\n"
   ]
  },
  {
   "cell_type": "code",
   "execution_count": 18,
   "id": "9d9d1f48",
   "metadata": {},
   "outputs": [],
   "source": [
    "c = 1+2j"
   ]
  },
  {
   "cell_type": "code",
   "execution_count": 19,
   "id": "4c2478f0",
   "metadata": {},
   "outputs": [
    {
     "data": {
      "text/plain": [
       "(1+2j)"
      ]
     },
     "execution_count": 19,
     "metadata": {},
     "output_type": "execute_result"
    }
   ],
   "source": [
    "c"
   ]
  },
  {
   "cell_type": "code",
   "execution_count": 20,
   "id": "41defb25",
   "metadata": {},
   "outputs": [
    {
     "data": {
      "text/plain": [
       "complex"
      ]
     },
     "execution_count": 20,
     "metadata": {},
     "output_type": "execute_result"
    }
   ],
   "source": [
    "type(c)"
   ]
  },
  {
   "cell_type": "code",
   "execution_count": 21,
   "id": "956eebbd",
   "metadata": {},
   "outputs": [
    {
     "data": {
      "text/plain": [
       "((1+2j), complex)"
      ]
     },
     "execution_count": 21,
     "metadata": {},
     "output_type": "execute_result"
    }
   ],
   "source": [
    "c, type(c)"
   ]
  },
  {
   "cell_type": "code",
   "execution_count": 22,
   "id": "7de859b8",
   "metadata": {},
   "outputs": [],
   "source": [
    "parte_real= c.real\n",
    "parte_imaginaria = c.imag"
   ]
  },
  {
   "cell_type": "code",
   "execution_count": 24,
   "id": "cd48e223",
   "metadata": {},
   "outputs": [
    {
     "data": {
      "text/plain": [
       "(1.0, 2.0)"
      ]
     },
     "execution_count": 24,
     "metadata": {},
     "output_type": "execute_result"
    }
   ],
   "source": [
    "parte_real, parte_imaginaria\n"
   ]
  },
  {
   "cell_type": "code",
   "execution_count": null,
   "id": "9c1930ee",
   "metadata": {},
   "outputs": [],
   "source": []
  }
 ],
 "metadata": {
  "kernelspec": {
   "display_name": "Python 3",
   "language": "python",
   "name": "python3"
  },
  "language_info": {
   "codemirror_mode": {
    "name": "ipython",
    "version": 3
   },
   "file_extension": ".py",
   "mimetype": "text/x-python",
   "name": "python",
   "nbconvert_exporter": "python",
   "pygments_lexer": "ipython3",
   "version": "3.8.8"
  }
 },
 "nbformat": 4,
 "nbformat_minor": 5
}
