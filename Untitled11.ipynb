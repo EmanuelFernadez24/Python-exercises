{
 "cells": [
  {
   "cell_type": "markdown",
   "id": "c1814276",
   "metadata": {},
   "source": [
    "# 3.2 Listas"
   ]
  },
  {
   "cell_type": "markdown",
   "id": "0c73c1f3",
   "metadata": {},
   "source": [
    "### Son un tipo de dato compuesto de varios elementos, estos pueden ser caracteres o numeros, u otro tipo incluso. Cada elemento de la lista es accesible gracias a su indice  "
   ]
  },
  {
   "cell_type": "code",
   "execution_count": 16,
   "id": "cd470a37",
   "metadata": {},
   "outputs": [],
   "source": [
    "lista_de_compras = [\"Huevos\", \"Queso\", \"Leche\", \"Jabon\"]\n",
    "lista_de_precios = [\"Huevos\", 1.5, \"Queso\", 20, \"Leche\", 30.5, \"Jabon\", 5]"
   ]
  },
  {
   "cell_type": "code",
   "execution_count": 17,
   "id": "2a6c07ac",
   "metadata": {},
   "outputs": [
    {
     "name": "stdout",
     "output_type": "stream",
     "text": [
      "['Huevos', 'Queso', 'Leche', 'Jabon']\n"
     ]
    }
   ],
   "source": [
    "print(lista_de_compras)"
   ]
  },
  {
   "cell_type": "code",
   "execution_count": 18,
   "id": "4b7ca955",
   "metadata": {},
   "outputs": [
    {
     "data": {
      "text/plain": [
       "list"
      ]
     },
     "execution_count": 18,
     "metadata": {},
     "output_type": "execute_result"
    }
   ],
   "source": [
    "type(lista_de_compras)"
   ]
  },
  {
   "cell_type": "code",
   "execution_count": 19,
   "id": "b1ea4e97",
   "metadata": {},
   "outputs": [],
   "source": [
    "# Con las tres comillas dobles que nos permiten escribir o mostrar varias lineas por pantalla"
   ]
  },
  {
   "cell_type": "code",
   "execution_count": 22,
   "id": "ab4a5adb",
   "metadata": {},
   "outputs": [
    {
     "name": "stdout",
     "output_type": "stream",
     "text": [
      "\n",
      "Los Huevos cuestan 1.5\n",
      "Los Leche cuestan 30.5\n"
     ]
    }
   ],
   "source": [
    "print(f\"\"\"\n",
    "Los {lista_con_precios[0]} cuestan {lista_con_precios[1]}\n",
    "Los {lista_con_precios[4]} cuestan {lista_con_precios[5]}\"\"\")"
   ]
  },
  {
   "cell_type": "code",
   "execution_count": null,
   "id": "d88ab9e3",
   "metadata": {},
   "outputs": [],
   "source": []
  },
  {
   "cell_type": "markdown",
   "id": "dc75453b",
   "metadata": {},
   "source": [
    "## Mutabilidad"
   ]
  },
  {
   "cell_type": "markdown",
   "id": "f884c21a",
   "metadata": {},
   "source": [
    "#### Las listas tienen la caracteristica de permitirnos modificar el valor de alguno de sus elementos. Esto se llama \"mutabilidad\", y es importante distinguir entre objetos mutables como las listas, y otros objetos inmutables"
   ]
  },
  {
   "cell_type": "code",
   "execution_count": 23,
   "id": "9c57acb1",
   "metadata": {},
   "outputs": [
    {
     "name": "stdout",
     "output_type": "stream",
     "text": [
      "['Huevos', 1.5, 'Queso', 98.59, 'Leche', 30.5, 'Jabon', 5] \n",
      "Los Queso cuestan 98.59\n"
     ]
    }
   ],
   "source": [
    "lista_de_precios[3]= 98.59\n",
    "\n",
    "print(f'''{lista_de_precios} \n",
    "Los {lista_de_precios[2]} cuestan {lista_de_precios[3]}''')"
   ]
  },
  {
   "cell_type": "markdown",
   "id": "d6ae8e44",
   "metadata": {},
   "source": [
    "## Metodos de las listas"
   ]
  },
  {
   "cell_type": "markdown",
   "id": "c5133ff3",
   "metadata": {},
   "source": [
    "### Podemos iniciar una lista de numeros a traves de una funcion llamada range( a, b, in):\n",
    "\n",
    "##### a es el limite inferior de la secuencia de numeros \n",
    "##### b es el limite superior de dicha secuencia( pero de lo excluye)\n",
    "#### in es el incremento de esa secuencia"
   ]
  },
  {
   "cell_type": "code",
   "execution_count": 24,
   "id": "f0b9e4c1",
   "metadata": {},
   "outputs": [
    {
     "data": {
      "text/plain": [
       "range(0, 300, 5)"
      ]
     },
     "execution_count": 24,
     "metadata": {},
     "output_type": "execute_result"
    }
   ],
   "source": [
    "range (0,300, 5)"
   ]
  },
  {
   "cell_type": "code",
   "execution_count": 25,
   "id": "f3f049ed",
   "metadata": {},
   "outputs": [],
   "source": [
    "### asignamos la funcion range a una variable "
   ]
  },
  {
   "cell_type": "code",
   "execution_count": 26,
   "id": "2a2f4b58",
   "metadata": {},
   "outputs": [
    {
     "name": "stdout",
     "output_type": "stream",
     "text": [
      "range(0, 300, 5)\n",
      "[0, 5, 10, 15, 20, 25, 30, 35, 40, 45, 50, 55, 60, 65, 70, 75, 80, 85, 90, 95, 100, 105, 110, 115, 120, 125, 130, 135, 140, 145, 150, 155, 160, 165, 170, 175, 180, 185, 190, 195, 200, 205, 210, 215, 220, 225, 230, 235, 240, 245, 250, 255, 260, 265, 270, 275, 280, 285, 290, 295]\n"
     ]
    }
   ],
   "source": [
    "numeros = range (0, 300, 5);\n",
    "\n",
    "lista_numeros= list(numeros);\n",
    "\n",
    "print(f\"\"\"{numeros}\n",
    "{lista_numeros}\"\"\")"
   ]
  },
  {
   "cell_type": "markdown",
   "id": "d2b97997",
   "metadata": {},
   "source": [
    "Para añadir elementos a la lista utilizamos el metodo append().\n"
   ]
  },
  {
   "cell_type": "code",
   "execution_count": null,
   "id": "34f064dc",
   "metadata": {},
   "outputs": [],
   "source": [
    "lista_numeros. append(89)"
   ]
  }
 ],
 "metadata": {
  "kernelspec": {
   "display_name": "Python 3",
   "language": "python",
   "name": "python3"
  },
  "language_info": {
   "codemirror_mode": {
    "name": "ipython",
    "version": 3
   },
   "file_extension": ".py",
   "mimetype": "text/x-python",
   "name": "python",
   "nbconvert_exporter": "python",
   "pygments_lexer": "ipython3",
   "version": "3.8.8"
  }
 },
 "nbformat": 4,
 "nbformat_minor": 5
}
