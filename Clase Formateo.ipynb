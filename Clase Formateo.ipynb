{
 "cells": [
  {
   "cell_type": "markdown",
   "id": "5676c4f2",
   "metadata": {},
   "source": [
    "#  2.9 Formateo "
   ]
  },
  {
   "cell_type": "code",
   "execution_count": 2,
   "id": "b81ac847",
   "metadata": {},
   "outputs": [],
   "source": [
    "# Propiedad de dejarnos espacios que al final definimos como rellenarlos "
   ]
  },
  {
   "cell_type": "code",
   "execution_count": 6,
   "id": "baa6cfba",
   "metadata": {},
   "outputs": [
    {
     "data": {
      "text/plain": [
       "'1 es el primer valor y 2 el segundo valor'"
      ]
     },
     "execution_count": 6,
     "metadata": {},
     "output_type": "execute_result"
    }
   ],
   "source": [
    "'{} es el primer valor y {} el segundo valor'.format(1,2)"
   ]
  },
  {
   "cell_type": "code",
   "execution_count": 7,
   "id": "b5886a77",
   "metadata": {},
   "outputs": [],
   "source": [
    "# Tambien podemos cambiar el orden en que van a ser asignados los valores que le pasamos "
   ]
  },
  {
   "cell_type": "code",
   "execution_count": 9,
   "id": "29d68b21",
   "metadata": {},
   "outputs": [
    {
     "data": {
      "text/plain": [
       "'En este caso alteramos el orden y el Dos aparece primero, luego el Uno'"
      ]
     },
     "execution_count": 9,
     "metadata": {},
     "output_type": "execute_result"
    }
   ],
   "source": [
    "'En este caso alteramos el orden y el {1} aparece primero, luego el {0}'.format('Uno','Dos')"
   ]
  },
  {
   "cell_type": "code",
   "execution_count": 10,
   "id": "44960c0f",
   "metadata": {},
   "outputs": [],
   "source": [
    "# De esta manera con lo anterior, en la primera llave va a colocar el argumeto que este en la posicion 1 y en la segunda llave va a colocar el argumento de la posicion 0"
   ]
  },
  {
   "cell_type": "code",
   "execution_count": 12,
   "id": "460523df",
   "metadata": {},
   "outputs": [
    {
     "name": "stdout",
     "output_type": "stream",
     "text": [
      "El valor de la cartuja de parma es 0.7\n"
     ]
    }
   ],
   "source": [
    "nombre= 'la cartuja de parma'\n",
    "\n",
    "x = .7\n",
    "\n",
    "print(f'El valor de {nombre} es', x)"
   ]
  },
  {
   "cell_type": "code",
   "execution_count": 13,
   "id": "8ac69de8",
   "metadata": {},
   "outputs": [],
   "source": [
    "# Al colocar \"f\" es que va a evaluar el valor de nombre dentro de la llaves, por lo que en vez de colocar el nombre de la variable te coloca el VALOR DE LA VARIABLE"
   ]
  },
  {
   "cell_type": "markdown",
   "id": "b53cc665",
   "metadata": {},
   "source": [
    "## Tambien podemos aplicar metodos "
   ]
  },
  {
   "cell_type": "code",
   "execution_count": 14,
   "id": "b7e1634e",
   "metadata": {},
   "outputs": [
    {
     "name": "stdout",
     "output_type": "stream",
     "text": [
      "El valor de La Cartuja De Parma\n",
      " es 0.7 dolares por papel\n"
     ]
    }
   ],
   "source": [
    "print(f'El valor de {nombre.title()}\\n es', x, 'dolares por papel')"
   ]
  },
  {
   "cell_type": "code",
   "execution_count": 17,
   "id": "89b8ba79",
   "metadata": {},
   "outputs": [],
   "source": [
    "# Lo que hace title es capitalizar, es decir porner mayusculas en los nombres y con \\n salteamos espacio"
   ]
  },
  {
   "cell_type": "code",
   "execution_count": 20,
   "id": "a2ebbc87",
   "metadata": {},
   "outputs": [
    {
     "name": "stdout",
     "output_type": "stream",
     "text": [
      "{'uno': 0.7, 'dos': 10.7}\n"
     ]
    }
   ],
   "source": [
    "diccionario = {'uno': x, 'dos': x.__add__(10)};\n",
    "\n",
    "print(diccionario)"
   ]
  },
  {
   "cell_type": "code",
   "execution_count": 22,
   "id": "22b03985",
   "metadata": {},
   "outputs": [
    {
     "name": "stdout",
     "output_type": "stream",
     "text": [
      "La Cartuja De Parma cuesta 0.7 pesos \n",
      " y el otro libro 10.7 pesos\n"
     ]
    }
   ],
   "source": [
    "print(f'{nombre.title()} cuesta {diccionario[\"uno\"]} pesos \\n y el otro libro {diccionario[\"dos\"]} pesos')"
   ]
  },
  {
   "cell_type": "code",
   "execution_count": null,
   "id": "971e44bb",
   "metadata": {},
   "outputs": [],
   "source": []
  }
 ],
 "metadata": {
  "kernelspec": {
   "display_name": "Python 3",
   "language": "python",
   "name": "python3"
  },
  "language_info": {
   "codemirror_mode": {
    "name": "ipython",
    "version": 3
   },
   "file_extension": ".py",
   "mimetype": "text/x-python",
   "name": "python",
   "nbconvert_exporter": "python",
   "pygments_lexer": "ipython3",
   "version": "3.8.8"
  }
 },
 "nbformat": 4,
 "nbformat_minor": 5
}
