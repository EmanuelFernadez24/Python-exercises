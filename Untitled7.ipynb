{
 "cells": [
  {
   "cell_type": "markdown",
   "id": "2fff7762",
   "metadata": {},
   "source": [
    "# 2.8 Lectura por Teclado "
   ]
  },
  {
   "cell_type": "code",
   "execution_count": 1,
   "id": "6284485c",
   "metadata": {},
   "outputs": [],
   "source": [
    "## La funcion input() permite almacenar un valor ingresado con el teclado en una variable"
   ]
  },
  {
   "cell_type": "code",
   "execution_count": 2,
   "id": "14ec384b",
   "metadata": {},
   "outputs": [
    {
     "name": "stdout",
     "output_type": "stream",
     "text": [
      "Emanuel Fernandez 40561366\n"
     ]
    }
   ],
   "source": [
    "valor=input()"
   ]
  },
  {
   "cell_type": "code",
   "execution_count": 3,
   "id": "fa44b277",
   "metadata": {},
   "outputs": [
    {
     "data": {
      "text/plain": [
       "'Emanuel Fernandez 40561366'"
      ]
     },
     "execution_count": 3,
     "metadata": {},
     "output_type": "execute_result"
    }
   ],
   "source": [
    "valor "
   ]
  },
  {
   "cell_type": "code",
   "execution_count": 4,
   "id": "b5f01082",
   "metadata": {},
   "outputs": [
    {
     "name": "stdout",
     "output_type": "stream",
     "text": [
      "Emanuel Fernandez 40561366\n"
     ]
    }
   ],
   "source": [
    "print(valor)"
   ]
  },
  {
   "cell_type": "markdown",
   "id": "a7573845",
   "metadata": {},
   "source": [
    "### La funcion input() almacena todo como una varible str. Pero se puede modificar este tipo"
   ]
  },
  {
   "cell_type": "code",
   "execution_count": 5,
   "id": "405e9762",
   "metadata": {},
   "outputs": [
    {
     "data": {
      "text/plain": [
       "str"
      ]
     },
     "execution_count": 5,
     "metadata": {},
     "output_type": "execute_result"
    }
   ],
   "source": [
    "type(valor)"
   ]
  },
  {
   "cell_type": "code",
   "execution_count": 6,
   "id": "1e5c745d",
   "metadata": {},
   "outputs": [
    {
     "name": "stdout",
     "output_type": "stream",
     "text": [
      "Introduce un numero:24.56\n"
     ]
    }
   ],
   "source": [
    "valor_num = float(input('Introduce un numero:'))"
   ]
  },
  {
   "cell_type": "code",
   "execution_count": 7,
   "id": "832a018c",
   "metadata": {},
   "outputs": [
    {
     "data": {
      "text/plain": [
       "24.56"
      ]
     },
     "execution_count": 7,
     "metadata": {},
     "output_type": "execute_result"
    }
   ],
   "source": [
    "valor_num"
   ]
  },
  {
   "cell_type": "code",
   "execution_count": 8,
   "id": "90db652f",
   "metadata": {},
   "outputs": [
    {
     "data": {
      "text/plain": [
       "str"
      ]
     },
     "execution_count": 8,
     "metadata": {},
     "output_type": "execute_result"
    }
   ],
   "source": [
    "type(valor)"
   ]
  },
  {
   "cell_type": "code",
   "execution_count": 9,
   "id": "247f7b37",
   "metadata": {},
   "outputs": [
    {
     "data": {
      "text/plain": [
       "float"
      ]
     },
     "execution_count": 9,
     "metadata": {},
     "output_type": "execute_result"
    }
   ],
   "source": [
    "type(valor_num)"
   ]
  },
  {
   "cell_type": "code",
   "execution_count": 12,
   "id": "9441e75e",
   "metadata": {},
   "outputs": [
    {
     "name": "stdout",
     "output_type": "stream",
     "text": [
      "Ingresa tu edad:24\n"
     ]
    }
   ],
   "source": [
    "edad= int(input('Ingresa tu edad:'))"
   ]
  },
  {
   "cell_type": "code",
   "execution_count": null,
   "id": "6b9c7280",
   "metadata": {},
   "outputs": [],
   "source": []
  },
  {
   "cell_type": "code",
   "execution_count": 13,
   "id": "f3cccbf7",
   "metadata": {},
   "outputs": [
    {
     "data": {
      "text/plain": [
       "24"
      ]
     },
     "execution_count": 13,
     "metadata": {},
     "output_type": "execute_result"
    }
   ],
   "source": [
    "edad"
   ]
  },
  {
   "cell_type": "code",
   "execution_count": 14,
   "id": "76b5ac3f",
   "metadata": {},
   "outputs": [
    {
     "name": "stdout",
     "output_type": "stream",
     "text": [
      "24\n"
     ]
    }
   ],
   "source": [
    "print(edad)\n"
   ]
  },
  {
   "cell_type": "code",
   "execution_count": 15,
   "id": "7a138dce",
   "metadata": {},
   "outputs": [],
   "source": [
    "# De esta forma con int() lo que le ingresemos a nuestra variable es convertido a entero y con la funcion input es almacenado "
   ]
  },
  {
   "cell_type": "code",
   "execution_count": null,
   "id": "cf5a7515",
   "metadata": {},
   "outputs": [],
   "source": [
    "print(edad,type(eda))"
   ]
  }
 ],
 "metadata": {
  "kernelspec": {
   "display_name": "Python 3",
   "language": "python",
   "name": "python3"
  },
  "language_info": {
   "codemirror_mode": {
    "name": "ipython",
    "version": 3
   },
   "file_extension": ".py",
   "mimetype": "text/x-python",
   "name": "python",
   "nbconvert_exporter": "python",
   "pygments_lexer": "ipython3",
   "version": "3.8.8"
  }
 },
 "nbformat": 4,
 "nbformat_minor": 5
}
