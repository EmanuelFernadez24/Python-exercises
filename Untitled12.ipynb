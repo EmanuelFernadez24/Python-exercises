{
 "cells": [
  {
   "cell_type": "markdown",
   "id": "79d1beea",
   "metadata": {},
   "source": [
    "# 3.2 Lista parte 2"
   ]
  },
  {
   "cell_type": "code",
   "execution_count": 1,
   "id": "7010c8e4",
   "metadata": {},
   "outputs": [
    {
     "data": {
      "text/plain": [
       "range(0, 50, 3)"
      ]
     },
     "execution_count": 1,
     "metadata": {},
     "output_type": "execute_result"
    }
   ],
   "source": [
    "range(0,50,3)"
   ]
  },
  {
   "cell_type": "code",
   "execution_count": 3,
   "id": "f7351fe9",
   "metadata": {},
   "outputs": [],
   "source": [
    "numeros= range(0,50,3)"
   ]
  },
  {
   "cell_type": "code",
   "execution_count": 4,
   "id": "0777401e",
   "metadata": {},
   "outputs": [
    {
     "name": "stdout",
     "output_type": "stream",
     "text": [
      "range(0, 50, 3)\n"
     ]
    }
   ],
   "source": [
    "print (numeros)"
   ]
  },
  {
   "cell_type": "code",
   "execution_count": 7,
   "id": "e4643d53",
   "metadata": {},
   "outputs": [
    {
     "name": "stdout",
     "output_type": "stream",
     "text": [
      "[0, 3, 6, 9, 12, 15, 18, 21, 24, 27, 30, 33, 36, 39, 42, 45, 48]\n"
     ]
    }
   ],
   "source": [
    "lista_numeros = list(numeros)\n",
    "\n",
    "print(lista_numeros)"
   ]
  },
  {
   "cell_type": "code",
   "execution_count": 9,
   "id": "9aec9ab1",
   "metadata": {},
   "outputs": [
    {
     "name": "stdout",
     "output_type": "stream",
     "text": [
      "range(0, 50, 3)\n",
      "[0, 3, 6, 9, 12, 15, 18, 21, 24, 27, 30, 33, 36, 39, 42, 45, 48]\n"
     ]
    }
   ],
   "source": [
    "print(f'''{numeros}\n",
    "{lista_numeros}''')"
   ]
  },
  {
   "cell_type": "markdown",
   "id": "1911ecff",
   "metadata": {},
   "source": [
    "### Podemos añadir a la lista utilizando el metodo append()."
   ]
  },
  {
   "cell_type": "code",
   "execution_count": 10,
   "id": "693d841b",
   "metadata": {},
   "outputs": [
    {
     "name": "stdout",
     "output_type": "stream",
     "text": [
      "[0, 3, 6, 9, 12, 15, 18, 21, 24, 27, 30, 33, 36, 39, 42, 45, 48, 5]\n"
     ]
    }
   ],
   "source": [
    "lista_numeros.append(5)\n",
    "print(lista_numeros)"
   ]
  },
  {
   "cell_type": "markdown",
   "id": "2e23ed83",
   "metadata": {},
   "source": [
    "### Podemos aplicar el  operador de adiccion + para concatenar las dos listas"
   ]
  },
  {
   "cell_type": "code",
   "execution_count": 12,
   "id": "1871f3b6",
   "metadata": {},
   "outputs": [
    {
     "data": {
      "text/plain": [
       "[0,\n",
       " 3,\n",
       " 6,\n",
       " 9,\n",
       " 12,\n",
       " 15,\n",
       " 18,\n",
       " 21,\n",
       " 24,\n",
       " 27,\n",
       " 30,\n",
       " 33,\n",
       " 36,\n",
       " 39,\n",
       " 42,\n",
       " 45,\n",
       " 48,\n",
       " 5,\n",
       " 300,\n",
       " 'chupamela',\n",
       " 'Irrigacion al frente',\n",
       " 'Sampaoli boton',\n",
       " 700]"
      ]
     },
     "execution_count": 12,
     "metadata": {},
     "output_type": "execute_result"
    }
   ],
   "source": [
    "lista_numeros + [300,\"chupamela\",\"Irrigacion al frente\", \"Sampaoli boton\",700]"
   ]
  },
  {
   "cell_type": "code",
   "execution_count": 14,
   "id": "8e799e0a",
   "metadata": {},
   "outputs": [
    {
     "name": "stdout",
     "output_type": "stream",
     "text": [
      "[0, 3, 6, 9, 12, 15, 18, 21, 24, 27, 30, 33, 36, 39, 42, 45, 48, 5, 300, 'chupamela', 'Irrigacion al frente', 'Sampaoli boton', 700]\n"
     ]
    }
   ],
   "source": [
    "nueva_lista = lista_numeros + [300,\"chupamela\",\"Irrigacion al frente\", \"Sampaoli boton\",700]\n",
    "print(nueva_lista)"
   ]
  },
  {
   "cell_type": "markdown",
   "id": "4066d98d",
   "metadata": {},
   "source": [
    "### La funcion len() es la que nos permite conocer la longitud de una lista ya que \"len \" es el abreviado de longitud en ingles "
   ]
  },
  {
   "cell_type": "code",
   "execution_count": 17,
   "id": "2038fb8e",
   "metadata": {},
   "outputs": [
    {
     "data": {
      "text/plain": [
       "4"
      ]
     },
     "execution_count": 17,
     "metadata": {},
     "output_type": "execute_result"
    }
   ],
   "source": [
    "len ([200,500, 40456, 6984])"
   ]
  },
  {
   "cell_type": "code",
   "execution_count": 18,
   "id": "2bc4f2a7",
   "metadata": {},
   "outputs": [
    {
     "data": {
      "text/plain": [
       "23"
      ]
     },
     "execution_count": 18,
     "metadata": {},
     "output_type": "execute_result"
    }
   ],
   "source": [
    "len(nueva_lista)"
   ]
  },
  {
   "cell_type": "markdown",
   "id": "ba4e417e",
   "metadata": {},
   "source": [
    "### Podemos comprobar si algun valor existe dentro de la lista a traves del termino \"in\" "
   ]
  },
  {
   "cell_type": "code",
   "execution_count": 20,
   "id": "c6e9cf27",
   "metadata": {},
   "outputs": [
    {
     "data": {
      "text/plain": [
       "True"
      ]
     },
     "execution_count": 20,
     "metadata": {},
     "output_type": "execute_result"
    }
   ],
   "source": [
    "\"Irrigacion al frente\" in nueva_lista"
   ]
  },
  {
   "cell_type": "code",
   "execution_count": 21,
   "id": "7e13d917",
   "metadata": {},
   "outputs": [
    {
     "data": {
      "text/plain": [
       "False"
      ]
     },
     "execution_count": 21,
     "metadata": {},
     "output_type": "execute_result"
    }
   ],
   "source": [
    "58934 in nueva_lista"
   ]
  },
  {
   "cell_type": "markdown",
   "id": "d260967a",
   "metadata": {},
   "source": [
    "### Podemos actualizar varios elementos de una lista utilizando el slicing"
   ]
  },
  {
   "cell_type": "code",
   "execution_count": 29,
   "id": "2db2c24b",
   "metadata": {},
   "outputs": [],
   "source": [
    "nueva_lista[:10]= [\"Peladoboton\", \"futuro\", \"desarrollo\", \"innivacion\", \"dedicacion\", 23, 99]"
   ]
  },
  {
   "cell_type": "code",
   "execution_count": 30,
   "id": "a10eb309",
   "metadata": {},
   "outputs": [
    {
     "data": {
      "text/plain": [
       "['Peladoboton',\n",
       " 'futuro',\n",
       " 'desarrollo',\n",
       " 'innivacion',\n",
       " 'dedicacion',\n",
       " 23,\n",
       " 99,\n",
       " 99,\n",
       " 'Irrigacion al frente',\n",
       " 'Sampaoli boton',\n",
       " 700]"
      ]
     },
     "execution_count": 30,
     "metadata": {},
     "output_type": "execute_result"
    }
   ],
   "source": [
    "nueva_lista"
   ]
  },
  {
   "cell_type": "markdown",
   "id": "6f0d4f71",
   "metadata": {},
   "source": [
    "### Tambien podemos trabajar con listas anidadas, asignando listas como valores en una lista."
   ]
  },
  {
   "cell_type": "code",
   "execution_count": 31,
   "id": "97f54f01",
   "metadata": {},
   "outputs": [
    {
     "data": {
      "text/plain": [
       "[[1, 2, 3], [4, 5, 6], [7, 8, 9]]"
      ]
     },
     "execution_count": 31,
     "metadata": {},
     "output_type": "execute_result"
    }
   ],
   "source": [
    "fila_1 = [1,2,3]\n",
    "fila_2 = [4,5,6]\n",
    "fila_3 = [7,8,9]\n",
    "matriz = [fila_1,fila_2,fila_3]\n",
    "matriz"
   ]
  },
  {
   "cell_type": "markdown",
   "id": "2ecc9b2a",
   "metadata": {},
   "source": [
    "Lo que si despues vos podes buscar los elementos de la lista en la varia de la siguiente forma "
   ]
  },
  {
   "cell_type": "code",
   "execution_count": 32,
   "id": "8c8ac617",
   "metadata": {},
   "outputs": [
    {
     "data": {
      "text/plain": [
       "[1, 2, 3]"
      ]
     },
     "execution_count": 32,
     "metadata": {},
     "output_type": "execute_result"
    }
   ],
   "source": [
    "matriz[0]"
   ]
  },
  {
   "cell_type": "code",
   "execution_count": 33,
   "id": "47519d3f",
   "metadata": {},
   "outputs": [
    {
     "data": {
      "text/plain": [
       "3"
      ]
     },
     "execution_count": 33,
     "metadata": {},
     "output_type": "execute_result"
    }
   ],
   "source": [
    "matriz[0][2]"
   ]
  },
  {
   "cell_type": "code",
   "execution_count": 34,
   "id": "dc4468ab",
   "metadata": {},
   "outputs": [
    {
     "data": {
      "text/plain": [
       "8"
      ]
     },
     "execution_count": 34,
     "metadata": {},
     "output_type": "execute_result"
    }
   ],
   "source": [
    "matriz[2][1]"
   ]
  },
  {
   "cell_type": "code",
   "execution_count": 37,
   "id": "e3a34043",
   "metadata": {},
   "outputs": [
    {
     "data": {
      "text/plain": [
       "True"
      ]
     },
     "execution_count": 37,
     "metadata": {},
     "output_type": "execute_result"
    }
   ],
   "source": [
    "matriz[2] == fila_3"
   ]
  },
  {
   "cell_type": "code",
   "execution_count": 39,
   "id": "c93aa9c5",
   "metadata": {},
   "outputs": [
    {
     "data": {
      "text/plain": [
       "4"
      ]
     },
     "execution_count": 39,
     "metadata": {},
     "output_type": "execute_result"
    }
   ],
   "source": [
    "matriz[1][0]"
   ]
  },
  {
   "cell_type": "code",
   "execution_count": 40,
   "id": "04ba8902",
   "metadata": {},
   "outputs": [
    {
     "data": {
      "text/plain": [
       "[5, 6]"
      ]
     },
     "execution_count": 40,
     "metadata": {},
     "output_type": "execute_result"
    }
   ],
   "source": [
    "matriz[1][1:]"
   ]
  },
  {
   "cell_type": "code",
   "execution_count": 46,
   "id": "54303882",
   "metadata": {},
   "outputs": [
    {
     "data": {
      "text/plain": [
       "[]"
      ]
     },
     "execution_count": 46,
     "metadata": {},
     "output_type": "execute_result"
    }
   ],
   "source": [
    "matriz[0][:0]"
   ]
  },
  {
   "cell_type": "code",
   "execution_count": null,
   "id": "e8849aaf",
   "metadata": {},
   "outputs": [],
   "source": []
  }
 ],
 "metadata": {
  "kernelspec": {
   "display_name": "Python 3",
   "language": "python",
   "name": "python3"
  },
  "language_info": {
   "codemirror_mode": {
    "name": "ipython",
    "version": 3
   },
   "file_extension": ".py",
   "mimetype": "text/x-python",
   "name": "python",
   "nbconvert_exporter": "python",
   "pygments_lexer": "ipython3",
   "version": "3.8.8"
  }
 },
 "nbformat": 4,
 "nbformat_minor": 5
}
