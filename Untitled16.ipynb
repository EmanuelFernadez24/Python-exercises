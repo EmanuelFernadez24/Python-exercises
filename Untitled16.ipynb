{
 "cells": [
  {
   "cell_type": "markdown",
   "id": "b84683bd",
   "metadata": {},
   "source": [
    "# 3.6 Ejercicios\n",
    "\n",
    "## 1) ¿Puede indentificar el error en el siguiente codigo?\n",
    " \n",
    "       media = num_1 + num_2 + num_3/3\n",
    "       \n",
    " ### Se pretende hacer una media muestral de 3 elementos pero esta no funciona correctamente"
   ]
  },
  {
   "cell_type": "code",
   "execution_count": 3,
   "id": "9d17322a",
   "metadata": {},
   "outputs": [
    {
     "name": "stdout",
     "output_type": "stream",
     "text": [
      "El promedio es 98.0\n"
     ]
    }
   ],
   "source": [
    "num_1 = 225\n",
    "num_2 = 14\n",
    "num_3 = 55\n",
    " \n",
    "media= (num_1 + num_2 + num_3)/3;\n",
    "    \n",
    "print(\"El promedio es\",media)"
   ]
  },
  {
   "cell_type": "markdown",
   "id": "b2886205",
   "metadata": {},
   "source": [
    "### 2) En la siguiente matriz, el cuarto elemento siempre es la suma de los anteriores. Utilizando la indexacion corrige las listas que no cumplan con esta condicion "
   ]
  },
  {
   "cell_type": "code",
   "execution_count": 6,
   "id": "af7a1535",
   "metadata": {},
   "outputs": [],
   "source": [
    "matriz = [\n",
    "    [1,1,1,3],\n",
    "    [2,2,2,9],\n",
    "    [3,3,3,9],\n",
    "    [4,4,4,13],\n",
    "    [5,5,5,15],\n",
    "    [6,6,6,20]\n",
    "]\n",
    "\n",
    "matriz;"
   ]
  },
  {
   "cell_type": "code",
   "execution_count": 7,
   "id": "7f0b4655",
   "metadata": {},
   "outputs": [],
   "source": [
    "# modificamos las filas que estan mal\n",
    "\n",
    "matriz[1][-1] = sum(matriz[1][:-1])\n",
    "matriz[3][-1] = sum(matriz[3][:-1])\n",
    "matriz[-1][-1] = sum(matriz[-1][:-1])"
   ]
  },
  {
   "cell_type": "code",
   "execution_count": 8,
   "id": "729b3625",
   "metadata": {},
   "outputs": [
    {
     "name": "stdout",
     "output_type": "stream",
     "text": [
      "[[1, 1, 1, 3], [2, 2, 2, 6], [3, 3, 3, 9], [4, 4, 4, 12], [5, 5, 5, 15], [6, 6, 6, 18]]\n"
     ]
    }
   ],
   "source": [
    "print(matriz)"
   ]
  },
  {
   "cell_type": "markdown",
   "id": "fe2cff16",
   "metadata": {},
   "source": [
    "### Ejercicio 3 "
   ]
  },
  {
   "cell_type": "code",
   "execution_count": 9,
   "id": "00110363",
   "metadata": {},
   "outputs": [],
   "source": [
    "caballero = {'vida':2 ,'ataque':2 ,'defensa':2, 'alcance':2}\n",
    "guerrero = {'vida':2 ,'ataque':2 ,'defensa':2, 'alcance':2}\n",
    "arquero= {'vida':2 ,'ataque':2 ,'defensa':2, 'alcance':2}"
   ]
  },
  {
   "cell_type": "code",
   "execution_count": 10,
   "id": "ec0ea34e",
   "metadata": {},
   "outputs": [],
   "source": [
    "guerrero['ataque']= caballero ['ataque']*2\n",
    "guerrero['alcance']= caballero ['alcance']*2"
   ]
  },
  {
   "cell_type": "code",
   "execution_count": null,
   "id": "25a5f8b0",
   "metadata": {},
   "outputs": [],
   "source": [
    "caballero['vida']= guerrero ['vida']*2\n",
    "caballero['defensa']= guerrero['defensa']*2"
   ]
  },
  {
   "cell_type": "code",
   "execution_count": 11,
   "id": "e03d714f",
   "metadata": {},
   "outputs": [],
   "source": [
    "arquero['vida']= guerrero ['vida']\n",
    "arquero['ataque']= guerrero['ataque']\n",
    "arquero['defensa']= guerrero['defensa']/2\n",
    "arquero['alcance']= guerrero ['alcance']*2"
   ]
  },
  {
   "cell_type": "code",
   "execution_count": 16,
   "id": "0a6a01f1",
   "metadata": {},
   "outputs": [
    {
     "data": {
      "text/plain": [
       "({'vida': 2, 'ataque': 2, 'defensa': 2, 'alcance': 2},\n",
       " {'vida': 2, 'ataque': 4, 'defensa': 2, 'alcance': 4},\n",
       " {'vida': 2, 'ataque': 4, 'defensa': 1.0, 'alcance': 2.0})"
      ]
     },
     "execution_count": 16,
     "metadata": {},
     "output_type": "execute_result"
    }
   ],
   "source": [
    "caballero,guerrero,arquero"
   ]
  },
  {
   "cell_type": "code",
   "execution_count": null,
   "id": "460c925d",
   "metadata": {},
   "outputs": [],
   "source": []
  }
 ],
 "metadata": {
  "kernelspec": {
   "display_name": "Python 3",
   "language": "python",
   "name": "python3"
  },
  "language_info": {
   "codemirror_mode": {
    "name": "ipython",
    "version": 3
   },
   "file_extension": ".py",
   "mimetype": "text/x-python",
   "name": "python",
   "nbconvert_exporter": "python",
   "pygments_lexer": "ipython3",
   "version": "3.8.8"
  }
 },
 "nbformat": 4,
 "nbformat_minor": 5
}
