{
 "cells": [
  {
   "cell_type": "markdown",
   "id": "672b5e88",
   "metadata": {},
   "source": [
    "# 4.2 Bucle While\n",
    "\n",
    "El bucle es una secuencia que ejecuta reiteradas veces una accion hasta que la condicion asignada al bucle deja de cumplirse. Cada nueva ejecucion de la secuencia se denomina iteracion.\n",
    "\n",
    "La sentencia While(Mientras) repite las operaciones dentro de un bloque mientras la condicion logica que evalua es TRUE(Verdadera)\n",
    "\n",
    "El programador debe planificar un momento en que la condicion es False y el bucle se detiene. De otra forma el bucle se vuelve infinito."
   ]
  },
  {
   "cell_type": "code",
   "execution_count": 1,
   "id": "f47f1b5e",
   "metadata": {},
   "outputs": [
    {
     "name": "stdout",
     "output_type": "stream",
     "text": [
      "Contador vale 1\n",
      "Contador vale 2\n",
      "Contador vale 3\n",
      "Contador vale 4\n",
      "Contador vale 5\n",
      "Contador vale 6\n"
     ]
    }
   ],
   "source": [
    "contador=0\n",
    "\n",
    "while contador <=5:\n",
    "    contador += 1\n",
    "    print('Contador vale', contador)"
   ]
  },
  {
   "cell_type": "code",
   "execution_count": 6,
   "id": "718bb49c",
   "metadata": {},
   "outputs": [
    {
     "name": "stdout",
     "output_type": "stream",
     "text": [
      "C vale 0\n",
      "C vale 1\n",
      "C vale 2\n",
      "C vale 3\n",
      "C vale 4\n",
      "C vale 5\n",
      "C vale 6\n",
      "C vale 7\n",
      "C vale 8\n",
      "C vale 9\n",
      "C vale 10\n",
      "Se realizaron 11 iteraciones\n"
     ]
    }
   ],
   "source": [
    "c = 0\n",
    "\n",
    "while c <=10:\n",
    "    print('C vale', c)\n",
    "    c+=1\n",
    "    \n",
    "else :\n",
    "    print(\"Se realizaron {} iteraciones\".format(c))"
   ]
  },
  {
   "cell_type": "markdown",
   "id": "09f07af6",
   "metadata": {},
   "source": [
    "## BREAK"
   ]
  },
  {
   "cell_type": "markdown",
   "id": "52d670df",
   "metadata": {},
   "source": [
    "Con este comando detenemos el bucle en cualquier momento."
   ]
  },
  {
   "cell_type": "code",
   "execution_count": 7,
   "id": "385a4cd4",
   "metadata": {},
   "outputs": [
    {
     "name": "stdout",
     "output_type": "stream",
     "text": [
      "Variable vale 1\n",
      "Variable vale 2\n",
      "Variable vale 3\n",
      "Variable vale 4\n",
      "Rompemos el bucle cuando variable vale 5\n"
     ]
    }
   ],
   "source": [
    "variable = 0\n",
    "\n",
    "while variable <= 5:\n",
    "    variable +=1\n",
    "    if variable == 5:\n",
    "        print('Rompemos el bucle cuando variable vale', variable)\n",
    "        break\n",
    "    print('Variable vale', variable)\n",
    "else:\n",
    "    print(\"Se realizaron{}iteraciones\".format(variable))"
   ]
  },
  {
   "cell_type": "markdown",
   "id": "2c739081",
   "metadata": {},
   "source": [
    "## CONTINUE"
   ]
  },
  {
   "cell_type": "markdown",
   "id": "716007e9",
   "metadata": {},
   "source": [
    "Con este comando saltamos a la siguiente iteracion sin romper el bucle "
   ]
  },
  {
   "cell_type": "code",
   "execution_count": 9,
   "id": "371ae1cc",
   "metadata": {},
   "outputs": [
    {
     "name": "stdout",
     "output_type": "stream",
     "text": [
      "e vale 1\n",
      "e vale 2\n",
      "e vale 3\n",
      "e vale 4\n",
      "e vale 5\n",
      "Cuando e vale6.Saltamos a la siguiente pagina \n",
      " y continuamos con el bucle\n",
      "e vale 7\n",
      "e vale 8\n",
      "e vale 9\n",
      "e vale 10\n",
      "e vale 11\n",
      "Se realizaron 11 interaciones\n"
     ]
    }
   ],
   "source": [
    "e = 0\n",
    "\n",
    "while e <= 10:\n",
    "    e+=1\n",
    "    if e == 6:\n",
    "        print('Cuando e vale {}.Saltamos a la siguiente pagina \\n y continuamos con el bucle'.format(e))\n",
    "        continue\n",
    "    print ('e vale',e)\n",
    "else:\n",
    "    print('Se realizaron {} interaciones'.format(e))"
   ]
  },
  {
   "cell_type": "code",
   "execution_count": null,
   "id": "4b49e371",
   "metadata": {},
   "outputs": [
    {
     "name": "stdout",
     "output_type": "stream",
     "text": [
      "Bienvenido\n",
      "\n",
      " ¿Que quieres hacer ? Ingrese una opcion\n",
      "    (1) Saludar\n",
      "    (2) Sumar dos numeros\n",
      "    (3) Salir 4\n",
      "\n",
      "Intenta de nuevo bestia\n",
      "\n",
      " ¿Que quieres hacer ? Ingrese una opcion\n",
      "    (1) Saludar\n",
      "    (2) Sumar dos numeros\n",
      "    (3) Salir 1\n",
      "\n",
      " Barabas le manda saludos! \n",
      "\n"
     ]
    }
   ],
   "source": [
    "# Menu del Usuario \n",
    "print(\"Bienvenido\")\n",
    "\n",
    "while(True):\n",
    "    opcion = input(\"\"\"\\n ¿Que quieres hacer ? Ingrese una opcion\n",
    "    (1) Saludar\n",
    "    (2) Sumar dos numeros\n",
    "    (3) Salir \"\"\")\n",
    "    if opcion == '1':\n",
    "        print(\"\\n Barabas le manda saludos! \\n\")\n",
    "    elif opcion == '2':\n",
    "        n_1 = float(input(\"Ingresa el primer numero:\\n\"))\n",
    "        n_2 = float(input(\"Ingresa el segundo numero:\\n\"))\n",
    "        print(\"\\n El resultado de la suma es {}\".format(n_1 + n_2))\n",
    "    elif opcion == '3':\n",
    "        print('\\n Dios me lo bendiga, licenciado')\n",
    "        break\n",
    "    else :\n",
    "        print(\"\\nIntenta de nuevo bestia\")\n",
    "    \n"
   ]
  },
  {
   "cell_type": "code",
   "execution_count": null,
   "id": "ac595294",
   "metadata": {},
   "outputs": [],
   "source": []
  },
  {
   "cell_type": "code",
   "execution_count": null,
   "id": "94faf908",
   "metadata": {},
   "outputs": [],
   "source": []
  }
 ],
 "metadata": {
  "kernelspec": {
   "display_name": "Python 3",
   "language": "python",
   "name": "python3"
  },
  "language_info": {
   "codemirror_mode": {
    "name": "ipython",
    "version": 3
   },
   "file_extension": ".py",
   "mimetype": "text/x-python",
   "name": "python",
   "nbconvert_exporter": "python",
   "pygments_lexer": "ipython3",
   "version": "3.8.8"
  }
 },
 "nbformat": 4,
 "nbformat_minor": 5
}
