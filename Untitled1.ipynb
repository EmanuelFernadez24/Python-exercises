{
 "cells": [
  {
   "cell_type": "markdown",
   "id": "e26ad96b",
   "metadata": {},
   "source": [
    "#  2.3 TEXTOS O HILOS DE CARACTERES \n"
   ]
  },
  {
   "cell_type": "markdown",
   "id": "49df13c4",
   "metadata": {},
   "source": [
    "## Consisten en una secuencia de caracteres dentro de comillas. En python las variables strings se pueden declarar indistintamente usando comillas simples('') o comillas dobles(\"\")\n"
   ]
  },
  {
   "cell_type": "code",
   "execution_count": null,
   "id": "d729888c",
   "metadata": {},
   "outputs": [],
   "source": [
    "\n"
   ]
  },
  {
   "cell_type": "code",
   "execution_count": 1,
   "id": "49f5ed44",
   "metadata": {},
   "outputs": [
    {
     "data": {
      "text/plain": [
       "'Esto es un hilo'"
      ]
     },
     "execution_count": 1,
     "metadata": {},
     "output_type": "execute_result"
    }
   ],
   "source": [
    "\"Esto es un hilo\""
   ]
  },
  {
   "cell_type": "code",
   "execution_count": 2,
   "id": "da59a5d4",
   "metadata": {},
   "outputs": [],
   "source": [
    "nombre= \"Franco\"\n",
    "\n",
    "carrera = 'Magistrado tecnico superior en haberes PMC'\n",
    "\n",
    "\n"
   ]
  },
  {
   "cell_type": "code",
   "execution_count": 3,
   "id": "79fa50e2",
   "metadata": {},
   "outputs": [
    {
     "data": {
      "text/plain": [
       "str"
      ]
     },
     "execution_count": 3,
     "metadata": {},
     "output_type": "execute_result"
    }
   ],
   "source": [
    "type(nombre)"
   ]
  },
  {
   "cell_type": "code",
   "execution_count": 4,
   "id": "06caa93a",
   "metadata": {},
   "outputs": [],
   "source": [
    "# str (Significa hilo en ingles y hace referencia al hilo de caracteres, todas las variables de tipo str son cadenas)"
   ]
  },
  {
   "cell_type": "code",
   "execution_count": 5,
   "id": "56b321f5",
   "metadata": {},
   "outputs": [
    {
     "data": {
      "text/plain": [
       "'Magistrado tecnico superior en haberes PMC'"
      ]
     },
     "execution_count": 5,
     "metadata": {},
     "output_type": "execute_result"
    }
   ],
   "source": [
    "nombre \n",
    "carrera"
   ]
  },
  {
   "cell_type": "code",
   "execution_count": 6,
   "id": "042ab1c7",
   "metadata": {},
   "outputs": [],
   "source": [
    "# para observar las dos varibles se deb usar la funcion PRINT  que permite observar las dos funciones por pantalla "
   ]
  },
  {
   "cell_type": "code",
   "execution_count": 7,
   "id": "5b13d958",
   "metadata": {},
   "outputs": [
    {
     "name": "stdout",
     "output_type": "stream",
     "text": [
      "Franco\n",
      "Magistrado tecnico superior en haberes PMC\n"
     ]
    }
   ],
   "source": [
    "print(nombre)\n",
    "print(carrera)"
   ]
  },
  {
   "cell_type": "code",
   "execution_count": 8,
   "id": "26c1c57f",
   "metadata": {},
   "outputs": [],
   "source": [
    "# Asi vemos que nos muestra el valor que le asignamos a las dos variables\n"
   ]
  },
  {
   "cell_type": "markdown",
   "id": "14114b3a",
   "metadata": {},
   "source": [
    "## PRINT\n"
   ]
  },
  {
   "cell_type": "markdown",
   "id": "9c4f1ae2",
   "metadata": {},
   "source": [
    "### Esta funcion nos permite mostrar por pantalla un texto y editar su presentacion con tabulaciones y saltos de linea"
   ]
  },
  {
   "cell_type": "code",
   "execution_count": 9,
   "id": "09f0c5c2",
   "metadata": {},
   "outputs": [
    {
     "name": "stdout",
     "output_type": "stream",
     "text": [
      "Una cadena \tseparada por una tabulacion\n"
     ]
    }
   ],
   "source": [
    "print( \"Una cadena \\tseparada por una tabulacion\")\n"
   ]
  },
  {
   "cell_type": "code",
   "execution_count": 12,
   "id": "4accfe5e",
   "metadata": {},
   "outputs": [],
   "source": [
    "## \\t es para hacer tabulaciones pero solo se ejecuta correctamente dentro de la funcion print al igual que \\n que es para pasar a la siguiente linea \n"
   ]
  },
  {
   "cell_type": "code",
   "execution_count": 10,
   "id": "2c76d470",
   "metadata": {},
   "outputs": [
    {
     "name": "stdout",
     "output_type": "stream",
     "text": [
      " Una cadena en una linea separada \n",
      " Una cadena separada por otra\n"
     ]
    }
   ],
   "source": [
    "print (\" Una cadena en una linea separada \\n Una cadena separada por otra\")"
   ]
  },
  {
   "cell_type": "markdown",
   "id": "53eab595",
   "metadata": {},
   "source": [
    "## Para que la funcion print nos muestre una cadena de sin procesar debemos indicarle que la cadena es de tipo crudo, agregando la letra r antes de abrir comillas "
   ]
  },
  {
   "cell_type": "code",
   "execution_count": 13,
   "id": "22401f94",
   "metadata": {},
   "outputs": [
    {
     "name": "stdout",
     "output_type": "stream",
     "text": [
      "c:\n",
      "ombre \n",
      "ombre_2\n"
     ]
    }
   ],
   "source": [
    "print(\"c:\\nombre \\nombre_2\")"
   ]
  },
  {
   "cell_type": "code",
   "execution_count": 15,
   "id": "9d9b121c",
   "metadata": {},
   "outputs": [
    {
     "name": "stdout",
     "output_type": "stream",
     "text": [
      "c:\\nombre \\nombre_2\n"
     ]
    }
   ],
   "source": [
    "print(r\"c:\\nombre \\nombre_2\")"
   ]
  },
  {
   "cell_type": "code",
   "execution_count": 16,
   "id": "f7820820",
   "metadata": {},
   "outputs": [],
   "source": [
    "## r es para decirle que nos procece lo que esta adentro de las comillas de forma cruda aunque tenga algun comando que nos pueda modificar la funcion"
   ]
  },
  {
   "cell_type": "markdown",
   "id": "3e97e254",
   "metadata": {},
   "source": [
    "## Tambien podemos indicarle que deseamos mostrar el texto en varias lineas de la siguiente forma "
   ]
  },
  {
   "cell_type": "code",
   "execution_count": 17,
   "id": "ae147310",
   "metadata": {},
   "outputs": [],
   "source": [
    "## Para esto usamos  tre comillas "
   ]
  },
  {
   "cell_type": "code",
   "execution_count": 18,
   "id": "e26bab70",
   "metadata": {},
   "outputs": [
    {
     "name": "stdout",
     "output_type": "stream",
     "text": [
      "\" Linea uno es esta\n",
      "y aca todos pueden lograr lo que se propongan\n",
      " con entusiasmo\n",
      " Dedicacion \n",
      " y concentracion\n",
      " Muchas gracias\n"
     ]
    }
   ],
   "source": [
    "print(\"\"\"\" Linea uno es esta\n",
    "y aca todos pueden lograr lo que se propongan\n",
    " con entusiasmo\n",
    " Dedicacion \n",
    " y concentracion\n",
    " Muchas gracias\"\"\")"
   ]
  },
  {
   "cell_type": "code",
   "execution_count": null,
   "id": "0d9b3271",
   "metadata": {},
   "outputs": [],
   "source": []
  }
 ],
 "metadata": {
  "kernelspec": {
   "display_name": "Python 3",
   "language": "python",
   "name": "python3"
  },
  "language_info": {
   "codemirror_mode": {
    "name": "ipython",
    "version": 3
   },
   "file_extension": ".py",
   "mimetype": "text/x-python",
   "name": "python",
   "nbconvert_exporter": "python",
   "pygments_lexer": "ipython3",
   "version": "3.8.8"
  }
 },
 "nbformat": 4,
 "nbformat_minor": 5
}
