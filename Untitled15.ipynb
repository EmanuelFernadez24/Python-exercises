{
 "cells": [
  {
   "cell_type": "markdown",
   "id": "cbeed7cf",
   "metadata": {},
   "source": [
    "# 3.5 DICCIONARIOS \n",
    "\n",
    "### SON COLECCIONES DE DATOS SEMEJANTES A LAS LISTAS.\n",
    "\n",
    "### Los diccionarios se caracterizan por: \n",
    " \n",
    "    . Se define cada elemento dentro de un diccionario como una relacion entre \"Clave\" Y \"Valor\"\n",
    "    . La claves ejercen como indices de cada elemento (No son unicamente numeros)\n"
   ]
  },
  {
   "cell_type": "code",
   "execution_count": 1,
   "id": "fa94e6c5",
   "metadata": {},
   "outputs": [],
   "source": [
    "colores = {'azul': 'blue', 'negro':'black', 'verde':'green', 'amarillo': 'yellow'}\n",
    "propiedades = {1:'Nombre', 2 :'Apellido', 3 : 'profesion', 4 :'Region'}\n"
   ]
  },
  {
   "cell_type": "code",
   "execution_count": 2,
   "id": "0d305693",
   "metadata": {},
   "outputs": [
    {
     "data": {
      "text/plain": [
       "{'azul': 'blue', 'negro': 'black', 'verde': 'green', 'amarillo': 'yellow'}"
      ]
     },
     "execution_count": 2,
     "metadata": {},
     "output_type": "execute_result"
    }
   ],
   "source": [
    "colores\n"
   ]
  },
  {
   "cell_type": "code",
   "execution_count": 3,
   "id": "456bd017",
   "metadata": {},
   "outputs": [
    {
     "data": {
      "text/plain": [
       "{1: 'Nombre', 2: 'Apellido', 3: 'profesion', 4: 'Region'}"
      ]
     },
     "execution_count": 3,
     "metadata": {},
     "output_type": "execute_result"
    }
   ],
   "source": [
    "propiedades"
   ]
  },
  {
   "cell_type": "markdown",
   "id": "c0e909f2",
   "metadata": {},
   "source": [
    "### Podemos escoger entre sus elementos utilizando las claves"
   ]
  },
  {
   "cell_type": "code",
   "execution_count": 4,
   "id": "903ecc52",
   "metadata": {},
   "outputs": [
    {
     "data": {
      "text/plain": [
       "'blue'"
      ]
     },
     "execution_count": 4,
     "metadata": {},
     "output_type": "execute_result"
    }
   ],
   "source": [
    "colores ['azul']"
   ]
  },
  {
   "cell_type": "code",
   "execution_count": 5,
   "id": "f01b7a9c",
   "metadata": {},
   "outputs": [
    {
     "data": {
      "text/plain": [
       "'green'"
      ]
     },
     "execution_count": 5,
     "metadata": {},
     "output_type": "execute_result"
    }
   ],
   "source": [
    "colores['verde']"
   ]
  },
  {
   "cell_type": "code",
   "execution_count": 6,
   "id": "94e76fdc",
   "metadata": {},
   "outputs": [
    {
     "ename": "KeyError",
     "evalue": "'yellow'",
     "output_type": "error",
     "traceback": [
      "\u001b[1;31m---------------------------------------------------------------------------\u001b[0m",
      "\u001b[1;31mKeyError\u001b[0m                                  Traceback (most recent call last)",
      "\u001b[1;32m<ipython-input-6-362edfd67140>\u001b[0m in \u001b[0;36m<module>\u001b[1;34m\u001b[0m\n\u001b[1;32m----> 1\u001b[1;33m \u001b[0mcolores\u001b[0m\u001b[1;33m[\u001b[0m\u001b[1;34m'yellow'\u001b[0m\u001b[1;33m]\u001b[0m\u001b[1;33m\u001b[0m\u001b[1;33m\u001b[0m\u001b[0m\n\u001b[0m",
      "\u001b[1;31mKeyError\u001b[0m: 'yellow'"
     ]
    }
   ],
   "source": [
    "colores['yellow']"
   ]
  },
  {
   "cell_type": "markdown",
   "id": "2e714a4d",
   "metadata": {},
   "source": [
    "Tenes que llamar a la clave nunca al valor "
   ]
  },
  {
   "cell_type": "markdown",
   "id": "c427efee",
   "metadata": {},
   "source": [
    "## Tambien podemos modificar los valores de sus elementos e incluso hacer operaciones con ellos"
   ]
  },
  {
   "cell_type": "code",
   "execution_count": 12,
   "id": "c2e708eb",
   "metadata": {},
   "outputs": [
    {
     "name": "stdout",
     "output_type": "stream",
     "text": [
      "{'azul': 'blue', 'negro': 'noir', 'verde': 'green', 'amarillo': 'yellow', 'negro ': 'noir'}\n"
     ]
    }
   ],
   "source": [
    "colores['negro']='noir'\n",
    "\n",
    "print(colores)"
   ]
  },
  {
   "cell_type": "code",
   "execution_count": 14,
   "id": "ffdd29c9",
   "metadata": {},
   "outputs": [
    {
     "name": "stdout",
     "output_type": "stream",
     "text": [
      "{'azul': 'blue', 'negro': 'noir', 'verde': 'green', 'amarillo': 'yellow', 'negro ': 'noir', 'anaranjado': 'orange', 'blanco': 'white'}\n"
     ]
    }
   ],
   "source": [
    "colores['anaranjado']='orange'\n",
    "colores['blanco']= 'white'\n",
    "\n",
    "print(colores)"
   ]
  },
  {
   "cell_type": "code",
   "execution_count": 34,
   "id": "59a05c03",
   "metadata": {},
   "outputs": [],
   "source": [
    "edades ={ \n",
    "         'Emanuel': 24,\n",
    "         'Adriel': 23,\n",
    "         'Marianela': 22,\n",
    "         'Aldana': 16\n",
    "         }\n"
   ]
  },
  {
   "cell_type": "code",
   "execution_count": 35,
   "id": "a9a6633c",
   "metadata": {},
   "outputs": [
    {
     "data": {
      "text/plain": [
       "16"
      ]
     },
     "execution_count": 35,
     "metadata": {},
     "output_type": "execute_result"
    }
   ],
   "source": [
    "edades['Aldana']"
   ]
  },
  {
   "cell_type": "code",
   "execution_count": 36,
   "id": "57bc7106",
   "metadata": {},
   "outputs": [
    {
     "data": {
      "text/plain": [
       "{'Emanuel': 24, 'Adriel': 26, 'Marianela': 22, 'Aldana': 16}"
      ]
     },
     "execution_count": 36,
     "metadata": {},
     "output_type": "execute_result"
    }
   ],
   "source": [
    "edades['Adriel'] +=3;\n",
    "edades"
   ]
  },
  {
   "cell_type": "code",
   "execution_count": 37,
   "id": "85f985e8",
   "metadata": {},
   "outputs": [
    {
     "data": {
      "text/plain": [
       "40"
      ]
     },
     "execution_count": 37,
     "metadata": {},
     "output_type": "execute_result"
    }
   ],
   "source": [
    "edades['Emanuel'] + edades['Aldana']"
   ]
  },
  {
   "cell_type": "code",
   "execution_count": 40,
   "id": "9143e26b",
   "metadata": {},
   "outputs": [
    {
     "data": {
      "text/plain": [
       "{'Emanuel': 24, 'Adriel': 26, 'Marianela': 22, 'Aldana': 16, 'Silvana': 66}"
      ]
     },
     "execution_count": 40,
     "metadata": {},
     "output_type": "execute_result"
    }
   ],
   "source": [
    "edades['Silvana']=edades['Emanuel'] + edades['Aldana'] + edades['Adriel']\n",
    "edades"
   ]
  },
  {
   "cell_type": "markdown",
   "id": "f58d68e6",
   "metadata": {},
   "source": [
    "## A traves de un bucle For podemos recorrer lo elementos de un diccionario"
   ]
  },
  {
   "cell_type": "code",
   "execution_count": 41,
   "id": "c46dc246",
   "metadata": {},
   "outputs": [
    {
     "name": "stdout",
     "output_type": "stream",
     "text": [
      "Emanuel\n",
      "Adriel\n",
      "Marianela\n",
      "Aldana\n",
      "Silvana\n"
     ]
    }
   ],
   "source": [
    "for c in edades:\n",
    "    print(c)"
   ]
  },
  {
   "cell_type": "code",
   "execution_count": 48,
   "id": "b93c7d65",
   "metadata": {},
   "outputs": [
    {
     "name": "stdout",
     "output_type": "stream",
     "text": [
      "24\n",
      "26\n",
      "22\n",
      "16\n",
      "66\n"
     ]
    }
   ],
   "source": [
    "for c in edades: \n",
    "    print(edades[c])"
   ]
  },
  {
   "cell_type": "markdown",
   "id": "f66b046f",
   "metadata": {},
   "source": [
    "De esta forma lo que hacemos es que se interactue con cada elemento del diccionario, por lo que al principio lo primero que devuelve es la clave y en el segundo los valores de esas claves \n"
   ]
  },
  {
   "cell_type": "markdown",
   "id": "660c0aca",
   "metadata": {},
   "source": [
    "## El metodo items() nos devuelve Clave y valor automaticamente "
   ]
  },
  {
   "cell_type": "code",
   "execution_count": 52,
   "id": "3f07d014",
   "metadata": {},
   "outputs": [
    {
     "name": "stdout",
     "output_type": "stream",
     "text": [
      "Emanuel 24\n",
      "Adriel 26\n",
      "Marianela 22\n",
      "Aldana 16\n",
      "Silvana 66\n"
     ]
    }
   ],
   "source": [
    "for c,v in edades.items():\n",
    "    print(c,v)"
   ]
  },
  {
   "cell_type": "code",
   "execution_count": 54,
   "id": "0aa5932c",
   "metadata": {},
   "outputs": [
    {
     "name": "stdout",
     "output_type": "stream",
     "text": [
      "Emanuel 24\n",
      "Adriel 26\n",
      "Marianela 22\n",
      "Aldana 16\n",
      "Silvana 66\n"
     ]
    }
   ],
   "source": [
    "for esta, recta in edades.items():\n",
    "    print(esta,recta)"
   ]
  },
  {
   "cell_type": "markdown",
   "id": "805fa35b",
   "metadata": {},
   "source": [
    "## El metodo del() nos permite eliminar los valores en un diccionario "
   ]
  },
  {
   "cell_type": "code",
   "execution_count": 88,
   "id": "30a1c8b4",
   "metadata": {},
   "outputs": [
    {
     "name": "stdout",
     "output_type": "stream",
     "text": [
      "{'negro ': 'noir', 'blanco': 'white'}\n"
     ]
    }
   ],
   "source": [
    "del(colores['amarillo'],colores['negro']);\n",
    "\n",
    "print(colores)"
   ]
  },
  {
   "cell_type": "markdown",
   "id": "431611b7",
   "metadata": {},
   "source": [
    "# Debemos combinar provechosamente las listas y los diccionarios. Por ejemplo para crear un equipo de personajes "
   ]
  },
  {
   "cell_type": "code",
   "execution_count": 95,
   "id": "247eafcd",
   "metadata": {},
   "outputs": [],
   "source": [
    "equipo= []\n",
    "\n",
    "edades['Emanuel'] + edades['Aldana']"
   ]
  },
  {
   "cell_type": "code",
   "execution_count": 99,
   "id": "ba16288d",
   "metadata": {},
   "outputs": [
    {
     "name": "stdout",
     "output_type": "stream",
     "text": [
      "[{'Nombre': 'Fernando', 'Clase': 'Alta', 'Nacion': 'Boliviana'}, {'Nombre': 'Fernando', 'Clase': 'Alta', 'Nacion': 'Boliviana'}]\n"
     ]
    }
   ],
   "source": [
    "equipo.append(personajes)\n",
    "    \n",
    "print(equipo)"
   ]
  },
  {
   "cell_type": "code",
   "execution_count": 103,
   "id": "d0c4ec94",
   "metadata": {},
   "outputs": [],
   "source": [
    "personajes={'Nombre':'Ema', 'Clase': 'Mediana', 'Nacion': 'Argentina'}\n",
    "\n",
    "equipo.append(personajes);"
   ]
  },
  {
   "cell_type": "code",
   "execution_count": 104,
   "id": "66e08ec5",
   "metadata": {},
   "outputs": [],
   "source": [
    "personajes={'Nombre':'Tucu', 'Clase': 'Divina', 'Nacion': 'Tucumana'}\n",
    "\n",
    "equipo.append(personajes);"
   ]
  },
  {
   "cell_type": "code",
   "execution_count": 105,
   "id": "0ea91319",
   "metadata": {},
   "outputs": [
    {
     "name": "stdout",
     "output_type": "stream",
     "text": [
      "[{'Nombre': 'Fernando', 'Clase': 'Alta', 'Nacion': 'Boliviana'}, {'Nombre': 'Fernando', 'Clase': 'Alta', 'Nacion': 'Boliviana'}, {'Nombre': 'Ema', 'Clase': 'Mediana', 'Nacion': 'Argentina'}, {'Nombre': 'Tucu', 'Clase': 'Divina', 'Nacion': 'Tucumana'}]\n"
     ]
    }
   ],
   "source": [
    "print(equipo)"
   ]
  },
  {
   "cell_type": "code",
   "execution_count": 107,
   "id": "a92f1eb8",
   "metadata": {},
   "outputs": [
    {
     "name": "stdout",
     "output_type": "stream",
     "text": [
      "Fernando , Alta es oriundo de Boliviana\n",
      "Fernando , Alta es oriundo de Boliviana\n",
      "Ema , Mediana es oriundo de Argentina\n",
      "Tucu , Divina es oriundo de Tucumana\n"
     ]
    }
   ],
   "source": [
    "for e in equipo:\n",
    "    print(e[\"Nombre\"],\",\",e[\"Clase\"],\"es oriundo de\",e[\"Nacion\"])"
   ]
  }
 ],
 "metadata": {
  "kernelspec": {
   "display_name": "Python 3",
   "language": "python",
   "name": "python3"
  },
  "language_info": {
   "codemirror_mode": {
    "name": "ipython",
    "version": 3
   },
   "file_extension": ".py",
   "mimetype": "text/x-python",
   "name": "python",
   "nbconvert_exporter": "python",
   "pygments_lexer": "ipython3",
   "version": "3.8.8"
  }
 },
 "nbformat": 4,
 "nbformat_minor": 5
}
